{
  "nbformat": 4,
  "nbformat_minor": 0,
  "metadata": {
    "colab": {
      "provenance": [],
      "collapsed_sections": [],
      "toc_visible": true,
      "authorship_tag": "ABX9TyMBOKkcO1hh1MjD9RPgNMKB",
      "include_colab_link": true
    },
    "kernelspec": {
      "name": "python3",
      "display_name": "Python 3"
    },
    "language_info": {
      "name": "python"
    },
    "widgets": {
      "application/vnd.jupyter.widget-state+json": {
        "17605cc794424533ab60a332229ccbe6": {
          "model_module": "@jupyter-widgets/controls",
          "model_name": "HBoxModel",
          "model_module_version": "1.5.0",
          "state": {
            "_dom_classes": [],
            "_model_module": "@jupyter-widgets/controls",
            "_model_module_version": "1.5.0",
            "_model_name": "HBoxModel",
            "_view_count": null,
            "_view_module": "@jupyter-widgets/controls",
            "_view_module_version": "1.5.0",
            "_view_name": "HBoxView",
            "box_style": "",
            "children": [
              "IPY_MODEL_f0fa5de741d64d0dbf394249f9e23595",
              "IPY_MODEL_0a3910e730c44996a7916c64dbd45438",
              "IPY_MODEL_7f00be3ddd6e45fb9166c2fddc0dae7d"
            ],
            "layout": "IPY_MODEL_d8f75596722a4982a32a0a19efc3de9b"
          }
        },
        "f0fa5de741d64d0dbf394249f9e23595": {
          "model_module": "@jupyter-widgets/controls",
          "model_name": "HTMLModel",
          "model_module_version": "1.5.0",
          "state": {
            "_dom_classes": [],
            "_model_module": "@jupyter-widgets/controls",
            "_model_module_version": "1.5.0",
            "_model_name": "HTMLModel",
            "_view_count": null,
            "_view_module": "@jupyter-widgets/controls",
            "_view_module_version": "1.5.0",
            "_view_name": "HTMLView",
            "description": "",
            "description_tooltip": null,
            "layout": "IPY_MODEL_22752bf96f0a4b87be0583a0ab1f6e9f",
            "placeholder": "​",
            "style": "IPY_MODEL_befe8665cc9046f09d9bc63685cbf1f5",
            "value": "100%"
          }
        },
        "0a3910e730c44996a7916c64dbd45438": {
          "model_module": "@jupyter-widgets/controls",
          "model_name": "FloatProgressModel",
          "model_module_version": "1.5.0",
          "state": {
            "_dom_classes": [],
            "_model_module": "@jupyter-widgets/controls",
            "_model_module_version": "1.5.0",
            "_model_name": "FloatProgressModel",
            "_view_count": null,
            "_view_module": "@jupyter-widgets/controls",
            "_view_module_version": "1.5.0",
            "_view_name": "ProgressView",
            "bar_style": "success",
            "description": "",
            "description_tooltip": null,
            "layout": "IPY_MODEL_bab7d5cd100e4565adeb902b4794da07",
            "max": 244408911,
            "min": 0,
            "orientation": "horizontal",
            "style": "IPY_MODEL_2d1fab6a24e242d1a7156d37c7633245",
            "value": 244408911
          }
        },
        "7f00be3ddd6e45fb9166c2fddc0dae7d": {
          "model_module": "@jupyter-widgets/controls",
          "model_name": "HTMLModel",
          "model_module_version": "1.5.0",
          "state": {
            "_dom_classes": [],
            "_model_module": "@jupyter-widgets/controls",
            "_model_module_version": "1.5.0",
            "_model_name": "HTMLModel",
            "_view_count": null,
            "_view_module": "@jupyter-widgets/controls",
            "_view_module_version": "1.5.0",
            "_view_name": "HTMLView",
            "description": "",
            "description_tooltip": null,
            "layout": "IPY_MODEL_65d55880f9ac42deb181bfa0175893f3",
            "placeholder": "​",
            "style": "IPY_MODEL_61c2699dc50849dea46e5c3f8cb2502d",
            "value": " 233M/233M [00:03&lt;00:00, 77.9MB/s]"
          }
        },
        "d8f75596722a4982a32a0a19efc3de9b": {
          "model_module": "@jupyter-widgets/base",
          "model_name": "LayoutModel",
          "model_module_version": "1.2.0",
          "state": {
            "_model_module": "@jupyter-widgets/base",
            "_model_module_version": "1.2.0",
            "_model_name": "LayoutModel",
            "_view_count": null,
            "_view_module": "@jupyter-widgets/base",
            "_view_module_version": "1.2.0",
            "_view_name": "LayoutView",
            "align_content": null,
            "align_items": null,
            "align_self": null,
            "border": null,
            "bottom": null,
            "display": null,
            "flex": null,
            "flex_flow": null,
            "grid_area": null,
            "grid_auto_columns": null,
            "grid_auto_flow": null,
            "grid_auto_rows": null,
            "grid_column": null,
            "grid_gap": null,
            "grid_row": null,
            "grid_template_areas": null,
            "grid_template_columns": null,
            "grid_template_rows": null,
            "height": null,
            "justify_content": null,
            "justify_items": null,
            "left": null,
            "margin": null,
            "max_height": null,
            "max_width": null,
            "min_height": null,
            "min_width": null,
            "object_fit": null,
            "object_position": null,
            "order": null,
            "overflow": null,
            "overflow_x": null,
            "overflow_y": null,
            "padding": null,
            "right": null,
            "top": null,
            "visibility": null,
            "width": null
          }
        },
        "22752bf96f0a4b87be0583a0ab1f6e9f": {
          "model_module": "@jupyter-widgets/base",
          "model_name": "LayoutModel",
          "model_module_version": "1.2.0",
          "state": {
            "_model_module": "@jupyter-widgets/base",
            "_model_module_version": "1.2.0",
            "_model_name": "LayoutModel",
            "_view_count": null,
            "_view_module": "@jupyter-widgets/base",
            "_view_module_version": "1.2.0",
            "_view_name": "LayoutView",
            "align_content": null,
            "align_items": null,
            "align_self": null,
            "border": null,
            "bottom": null,
            "display": null,
            "flex": null,
            "flex_flow": null,
            "grid_area": null,
            "grid_auto_columns": null,
            "grid_auto_flow": null,
            "grid_auto_rows": null,
            "grid_column": null,
            "grid_gap": null,
            "grid_row": null,
            "grid_template_areas": null,
            "grid_template_columns": null,
            "grid_template_rows": null,
            "height": null,
            "justify_content": null,
            "justify_items": null,
            "left": null,
            "margin": null,
            "max_height": null,
            "max_width": null,
            "min_height": null,
            "min_width": null,
            "object_fit": null,
            "object_position": null,
            "order": null,
            "overflow": null,
            "overflow_x": null,
            "overflow_y": null,
            "padding": null,
            "right": null,
            "top": null,
            "visibility": null,
            "width": null
          }
        },
        "befe8665cc9046f09d9bc63685cbf1f5": {
          "model_module": "@jupyter-widgets/controls",
          "model_name": "DescriptionStyleModel",
          "model_module_version": "1.5.0",
          "state": {
            "_model_module": "@jupyter-widgets/controls",
            "_model_module_version": "1.5.0",
            "_model_name": "DescriptionStyleModel",
            "_view_count": null,
            "_view_module": "@jupyter-widgets/base",
            "_view_module_version": "1.2.0",
            "_view_name": "StyleView",
            "description_width": ""
          }
        },
        "bab7d5cd100e4565adeb902b4794da07": {
          "model_module": "@jupyter-widgets/base",
          "model_name": "LayoutModel",
          "model_module_version": "1.2.0",
          "state": {
            "_model_module": "@jupyter-widgets/base",
            "_model_module_version": "1.2.0",
            "_model_name": "LayoutModel",
            "_view_count": null,
            "_view_module": "@jupyter-widgets/base",
            "_view_module_version": "1.2.0",
            "_view_name": "LayoutView",
            "align_content": null,
            "align_items": null,
            "align_self": null,
            "border": null,
            "bottom": null,
            "display": null,
            "flex": null,
            "flex_flow": null,
            "grid_area": null,
            "grid_auto_columns": null,
            "grid_auto_flow": null,
            "grid_auto_rows": null,
            "grid_column": null,
            "grid_gap": null,
            "grid_row": null,
            "grid_template_areas": null,
            "grid_template_columns": null,
            "grid_template_rows": null,
            "height": null,
            "justify_content": null,
            "justify_items": null,
            "left": null,
            "margin": null,
            "max_height": null,
            "max_width": null,
            "min_height": null,
            "min_width": null,
            "object_fit": null,
            "object_position": null,
            "order": null,
            "overflow": null,
            "overflow_x": null,
            "overflow_y": null,
            "padding": null,
            "right": null,
            "top": null,
            "visibility": null,
            "width": null
          }
        },
        "2d1fab6a24e242d1a7156d37c7633245": {
          "model_module": "@jupyter-widgets/controls",
          "model_name": "ProgressStyleModel",
          "model_module_version": "1.5.0",
          "state": {
            "_model_module": "@jupyter-widgets/controls",
            "_model_module_version": "1.5.0",
            "_model_name": "ProgressStyleModel",
            "_view_count": null,
            "_view_module": "@jupyter-widgets/base",
            "_view_module_version": "1.2.0",
            "_view_name": "StyleView",
            "bar_color": null,
            "description_width": ""
          }
        },
        "65d55880f9ac42deb181bfa0175893f3": {
          "model_module": "@jupyter-widgets/base",
          "model_name": "LayoutModel",
          "model_module_version": "1.2.0",
          "state": {
            "_model_module": "@jupyter-widgets/base",
            "_model_module_version": "1.2.0",
            "_model_name": "LayoutModel",
            "_view_count": null,
            "_view_module": "@jupyter-widgets/base",
            "_view_module_version": "1.2.0",
            "_view_name": "LayoutView",
            "align_content": null,
            "align_items": null,
            "align_self": null,
            "border": null,
            "bottom": null,
            "display": null,
            "flex": null,
            "flex_flow": null,
            "grid_area": null,
            "grid_auto_columns": null,
            "grid_auto_flow": null,
            "grid_auto_rows": null,
            "grid_column": null,
            "grid_gap": null,
            "grid_row": null,
            "grid_template_areas": null,
            "grid_template_columns": null,
            "grid_template_rows": null,
            "height": null,
            "justify_content": null,
            "justify_items": null,
            "left": null,
            "margin": null,
            "max_height": null,
            "max_width": null,
            "min_height": null,
            "min_width": null,
            "object_fit": null,
            "object_position": null,
            "order": null,
            "overflow": null,
            "overflow_x": null,
            "overflow_y": null,
            "padding": null,
            "right": null,
            "top": null,
            "visibility": null,
            "width": null
          }
        },
        "61c2699dc50849dea46e5c3f8cb2502d": {
          "model_module": "@jupyter-widgets/controls",
          "model_name": "DescriptionStyleModel",
          "model_module_version": "1.5.0",
          "state": {
            "_model_module": "@jupyter-widgets/controls",
            "_model_module_version": "1.5.0",
            "_model_name": "DescriptionStyleModel",
            "_view_count": null,
            "_view_module": "@jupyter-widgets/base",
            "_view_module_version": "1.2.0",
            "_view_name": "StyleView",
            "description_width": ""
          }
        },
        "e0cb1f96a3124c7593dac40286a77b7f": {
          "model_module": "@jupyter-widgets/controls",
          "model_name": "HBoxModel",
          "model_module_version": "1.5.0",
          "state": {
            "_dom_classes": [],
            "_model_module": "@jupyter-widgets/controls",
            "_model_module_version": "1.5.0",
            "_model_name": "HBoxModel",
            "_view_count": null,
            "_view_module": "@jupyter-widgets/controls",
            "_view_module_version": "1.5.0",
            "_view_name": "HBoxView",
            "box_style": "",
            "children": [
              "IPY_MODEL_90cd9fc3b3794fb8bbe66195a9a6de79",
              "IPY_MODEL_6ab98c35ca4d4cf191966e235b6a3a4f",
              "IPY_MODEL_1a250542a5de4a93ba0145e481dbe6f0"
            ],
            "layout": "IPY_MODEL_19ac2cfc51454f82929bbd803f02a9d8"
          }
        },
        "90cd9fc3b3794fb8bbe66195a9a6de79": {
          "model_module": "@jupyter-widgets/controls",
          "model_name": "HTMLModel",
          "model_module_version": "1.5.0",
          "state": {
            "_dom_classes": [],
            "_model_module": "@jupyter-widgets/controls",
            "_model_module_version": "1.5.0",
            "_model_name": "HTMLModel",
            "_view_count": null,
            "_view_module": "@jupyter-widgets/controls",
            "_view_module_version": "1.5.0",
            "_view_name": "HTMLView",
            "description": "",
            "description_tooltip": null,
            "layout": "IPY_MODEL_af4d34178a4746088f80d148ffd69870",
            "placeholder": "​",
            "style": "IPY_MODEL_c70069b376124f90a0cb0bc3db6e4ee2",
            "value": "100%"
          }
        },
        "6ab98c35ca4d4cf191966e235b6a3a4f": {
          "model_module": "@jupyter-widgets/controls",
          "model_name": "FloatProgressModel",
          "model_module_version": "1.5.0",
          "state": {
            "_dom_classes": [],
            "_model_module": "@jupyter-widgets/controls",
            "_model_module_version": "1.5.0",
            "_model_name": "FloatProgressModel",
            "_view_count": null,
            "_view_module": "@jupyter-widgets/controls",
            "_view_module_version": "1.5.0",
            "_view_name": "ProgressView",
            "bar_style": "success",
            "description": "",
            "description_tooltip": null,
            "layout": "IPY_MODEL_25e3bd50d5a04398812ed3bbef608aaa",
            "max": 553433881,
            "min": 0,
            "orientation": "horizontal",
            "style": "IPY_MODEL_fa8d0844f20547bbbc374db8178cbb71",
            "value": 553433881
          }
        },
        "1a250542a5de4a93ba0145e481dbe6f0": {
          "model_module": "@jupyter-widgets/controls",
          "model_name": "HTMLModel",
          "model_module_version": "1.5.0",
          "state": {
            "_dom_classes": [],
            "_model_module": "@jupyter-widgets/controls",
            "_model_module_version": "1.5.0",
            "_model_name": "HTMLModel",
            "_view_count": null,
            "_view_module": "@jupyter-widgets/controls",
            "_view_module_version": "1.5.0",
            "_view_name": "HTMLView",
            "description": "",
            "description_tooltip": null,
            "layout": "IPY_MODEL_00b972c17a284b95bd0d5f7494271eae",
            "placeholder": "​",
            "style": "IPY_MODEL_dcc98e6ff3514c668b3ff648f3191fbd",
            "value": " 528M/528M [00:02&lt;00:00, 224MB/s]"
          }
        },
        "19ac2cfc51454f82929bbd803f02a9d8": {
          "model_module": "@jupyter-widgets/base",
          "model_name": "LayoutModel",
          "model_module_version": "1.2.0",
          "state": {
            "_model_module": "@jupyter-widgets/base",
            "_model_module_version": "1.2.0",
            "_model_name": "LayoutModel",
            "_view_count": null,
            "_view_module": "@jupyter-widgets/base",
            "_view_module_version": "1.2.0",
            "_view_name": "LayoutView",
            "align_content": null,
            "align_items": null,
            "align_self": null,
            "border": null,
            "bottom": null,
            "display": null,
            "flex": null,
            "flex_flow": null,
            "grid_area": null,
            "grid_auto_columns": null,
            "grid_auto_flow": null,
            "grid_auto_rows": null,
            "grid_column": null,
            "grid_gap": null,
            "grid_row": null,
            "grid_template_areas": null,
            "grid_template_columns": null,
            "grid_template_rows": null,
            "height": null,
            "justify_content": null,
            "justify_items": null,
            "left": null,
            "margin": null,
            "max_height": null,
            "max_width": null,
            "min_height": null,
            "min_width": null,
            "object_fit": null,
            "object_position": null,
            "order": null,
            "overflow": null,
            "overflow_x": null,
            "overflow_y": null,
            "padding": null,
            "right": null,
            "top": null,
            "visibility": null,
            "width": null
          }
        },
        "af4d34178a4746088f80d148ffd69870": {
          "model_module": "@jupyter-widgets/base",
          "model_name": "LayoutModel",
          "model_module_version": "1.2.0",
          "state": {
            "_model_module": "@jupyter-widgets/base",
            "_model_module_version": "1.2.0",
            "_model_name": "LayoutModel",
            "_view_count": null,
            "_view_module": "@jupyter-widgets/base",
            "_view_module_version": "1.2.0",
            "_view_name": "LayoutView",
            "align_content": null,
            "align_items": null,
            "align_self": null,
            "border": null,
            "bottom": null,
            "display": null,
            "flex": null,
            "flex_flow": null,
            "grid_area": null,
            "grid_auto_columns": null,
            "grid_auto_flow": null,
            "grid_auto_rows": null,
            "grid_column": null,
            "grid_gap": null,
            "grid_row": null,
            "grid_template_areas": null,
            "grid_template_columns": null,
            "grid_template_rows": null,
            "height": null,
            "justify_content": null,
            "justify_items": null,
            "left": null,
            "margin": null,
            "max_height": null,
            "max_width": null,
            "min_height": null,
            "min_width": null,
            "object_fit": null,
            "object_position": null,
            "order": null,
            "overflow": null,
            "overflow_x": null,
            "overflow_y": null,
            "padding": null,
            "right": null,
            "top": null,
            "visibility": null,
            "width": null
          }
        },
        "c70069b376124f90a0cb0bc3db6e4ee2": {
          "model_module": "@jupyter-widgets/controls",
          "model_name": "DescriptionStyleModel",
          "model_module_version": "1.5.0",
          "state": {
            "_model_module": "@jupyter-widgets/controls",
            "_model_module_version": "1.5.0",
            "_model_name": "DescriptionStyleModel",
            "_view_count": null,
            "_view_module": "@jupyter-widgets/base",
            "_view_module_version": "1.2.0",
            "_view_name": "StyleView",
            "description_width": ""
          }
        },
        "25e3bd50d5a04398812ed3bbef608aaa": {
          "model_module": "@jupyter-widgets/base",
          "model_name": "LayoutModel",
          "model_module_version": "1.2.0",
          "state": {
            "_model_module": "@jupyter-widgets/base",
            "_model_module_version": "1.2.0",
            "_model_name": "LayoutModel",
            "_view_count": null,
            "_view_module": "@jupyter-widgets/base",
            "_view_module_version": "1.2.0",
            "_view_name": "LayoutView",
            "align_content": null,
            "align_items": null,
            "align_self": null,
            "border": null,
            "bottom": null,
            "display": null,
            "flex": null,
            "flex_flow": null,
            "grid_area": null,
            "grid_auto_columns": null,
            "grid_auto_flow": null,
            "grid_auto_rows": null,
            "grid_column": null,
            "grid_gap": null,
            "grid_row": null,
            "grid_template_areas": null,
            "grid_template_columns": null,
            "grid_template_rows": null,
            "height": null,
            "justify_content": null,
            "justify_items": null,
            "left": null,
            "margin": null,
            "max_height": null,
            "max_width": null,
            "min_height": null,
            "min_width": null,
            "object_fit": null,
            "object_position": null,
            "order": null,
            "overflow": null,
            "overflow_x": null,
            "overflow_y": null,
            "padding": null,
            "right": null,
            "top": null,
            "visibility": null,
            "width": null
          }
        },
        "fa8d0844f20547bbbc374db8178cbb71": {
          "model_module": "@jupyter-widgets/controls",
          "model_name": "ProgressStyleModel",
          "model_module_version": "1.5.0",
          "state": {
            "_model_module": "@jupyter-widgets/controls",
            "_model_module_version": "1.5.0",
            "_model_name": "ProgressStyleModel",
            "_view_count": null,
            "_view_module": "@jupyter-widgets/base",
            "_view_module_version": "1.2.0",
            "_view_name": "StyleView",
            "bar_color": null,
            "description_width": ""
          }
        },
        "00b972c17a284b95bd0d5f7494271eae": {
          "model_module": "@jupyter-widgets/base",
          "model_name": "LayoutModel",
          "model_module_version": "1.2.0",
          "state": {
            "_model_module": "@jupyter-widgets/base",
            "_model_module_version": "1.2.0",
            "_model_name": "LayoutModel",
            "_view_count": null,
            "_view_module": "@jupyter-widgets/base",
            "_view_module_version": "1.2.0",
            "_view_name": "LayoutView",
            "align_content": null,
            "align_items": null,
            "align_self": null,
            "border": null,
            "bottom": null,
            "display": null,
            "flex": null,
            "flex_flow": null,
            "grid_area": null,
            "grid_auto_columns": null,
            "grid_auto_flow": null,
            "grid_auto_rows": null,
            "grid_column": null,
            "grid_gap": null,
            "grid_row": null,
            "grid_template_areas": null,
            "grid_template_columns": null,
            "grid_template_rows": null,
            "height": null,
            "justify_content": null,
            "justify_items": null,
            "left": null,
            "margin": null,
            "max_height": null,
            "max_width": null,
            "min_height": null,
            "min_width": null,
            "object_fit": null,
            "object_position": null,
            "order": null,
            "overflow": null,
            "overflow_x": null,
            "overflow_y": null,
            "padding": null,
            "right": null,
            "top": null,
            "visibility": null,
            "width": null
          }
        },
        "dcc98e6ff3514c668b3ff648f3191fbd": {
          "model_module": "@jupyter-widgets/controls",
          "model_name": "DescriptionStyleModel",
          "model_module_version": "1.5.0",
          "state": {
            "_model_module": "@jupyter-widgets/controls",
            "_model_module_version": "1.5.0",
            "_model_name": "DescriptionStyleModel",
            "_view_count": null,
            "_view_module": "@jupyter-widgets/base",
            "_view_module_version": "1.2.0",
            "_view_name": "StyleView",
            "description_width": ""
          }
        },
        "cf2767e6d79444978248cbaae305d327": {
          "model_module": "@jupyter-widgets/controls",
          "model_name": "HBoxModel",
          "model_module_version": "1.5.0",
          "state": {
            "_dom_classes": [],
            "_model_module": "@jupyter-widgets/controls",
            "_model_module_version": "1.5.0",
            "_model_name": "HBoxModel",
            "_view_count": null,
            "_view_module": "@jupyter-widgets/controls",
            "_view_module_version": "1.5.0",
            "_view_name": "HBoxView",
            "box_style": "",
            "children": [
              "IPY_MODEL_7fed94622b6b4ac3b2f72e13e1956fec",
              "IPY_MODEL_656233fc695449dba1b50f99fff4d8b0",
              "IPY_MODEL_f94664f326434fa5b1bf439282fb904b"
            ],
            "layout": "IPY_MODEL_4fb3d4631d064e0c89aa9f201b4cdc53"
          }
        },
        "7fed94622b6b4ac3b2f72e13e1956fec": {
          "model_module": "@jupyter-widgets/controls",
          "model_name": "HTMLModel",
          "model_module_version": "1.5.0",
          "state": {
            "_dom_classes": [],
            "_model_module": "@jupyter-widgets/controls",
            "_model_module_version": "1.5.0",
            "_model_name": "HTMLModel",
            "_view_count": null,
            "_view_module": "@jupyter-widgets/controls",
            "_view_module_version": "1.5.0",
            "_view_name": "HTMLView",
            "description": "",
            "description_tooltip": null,
            "layout": "IPY_MODEL_aaaca4b71d504d40a078eeded4af2ac5",
            "placeholder": "​",
            "style": "IPY_MODEL_7945d5472b1f4944be05147f5f3e38bb",
            "value": "100%"
          }
        },
        "656233fc695449dba1b50f99fff4d8b0": {
          "model_module": "@jupyter-widgets/controls",
          "model_name": "FloatProgressModel",
          "model_module_version": "1.5.0",
          "state": {
            "_dom_classes": [],
            "_model_module": "@jupyter-widgets/controls",
            "_model_module_version": "1.5.0",
            "_model_name": "FloatProgressModel",
            "_view_count": null,
            "_view_module": "@jupyter-widgets/controls",
            "_view_module_version": "1.5.0",
            "_view_name": "ProgressView",
            "bar_style": "success",
            "description": "",
            "description_tooltip": null,
            "layout": "IPY_MODEL_600bde1deafb45c2a3a72e4f6a51fefc",
            "max": 178793939,
            "min": 0,
            "orientation": "horizontal",
            "style": "IPY_MODEL_ad827917de2b411d984175573c02ab74",
            "value": 178793939
          }
        },
        "f94664f326434fa5b1bf439282fb904b": {
          "model_module": "@jupyter-widgets/controls",
          "model_name": "HTMLModel",
          "model_module_version": "1.5.0",
          "state": {
            "_dom_classes": [],
            "_model_module": "@jupyter-widgets/controls",
            "_model_module_version": "1.5.0",
            "_model_name": "HTMLModel",
            "_view_count": null,
            "_view_module": "@jupyter-widgets/controls",
            "_view_module_version": "1.5.0",
            "_view_name": "HTMLView",
            "description": "",
            "description_tooltip": null,
            "layout": "IPY_MODEL_177d250613a545bf81395716db5ec08c",
            "placeholder": "​",
            "style": "IPY_MODEL_aa707a136ecb4f44989362ee094f301c",
            "value": " 171M/171M [00:02&lt;00:00, 82.7MB/s]"
          }
        },
        "4fb3d4631d064e0c89aa9f201b4cdc53": {
          "model_module": "@jupyter-widgets/base",
          "model_name": "LayoutModel",
          "model_module_version": "1.2.0",
          "state": {
            "_model_module": "@jupyter-widgets/base",
            "_model_module_version": "1.2.0",
            "_model_name": "LayoutModel",
            "_view_count": null,
            "_view_module": "@jupyter-widgets/base",
            "_view_module_version": "1.2.0",
            "_view_name": "LayoutView",
            "align_content": null,
            "align_items": null,
            "align_self": null,
            "border": null,
            "bottom": null,
            "display": null,
            "flex": null,
            "flex_flow": null,
            "grid_area": null,
            "grid_auto_columns": null,
            "grid_auto_flow": null,
            "grid_auto_rows": null,
            "grid_column": null,
            "grid_gap": null,
            "grid_row": null,
            "grid_template_areas": null,
            "grid_template_columns": null,
            "grid_template_rows": null,
            "height": null,
            "justify_content": null,
            "justify_items": null,
            "left": null,
            "margin": null,
            "max_height": null,
            "max_width": null,
            "min_height": null,
            "min_width": null,
            "object_fit": null,
            "object_position": null,
            "order": null,
            "overflow": null,
            "overflow_x": null,
            "overflow_y": null,
            "padding": null,
            "right": null,
            "top": null,
            "visibility": null,
            "width": null
          }
        },
        "aaaca4b71d504d40a078eeded4af2ac5": {
          "model_module": "@jupyter-widgets/base",
          "model_name": "LayoutModel",
          "model_module_version": "1.2.0",
          "state": {
            "_model_module": "@jupyter-widgets/base",
            "_model_module_version": "1.2.0",
            "_model_name": "LayoutModel",
            "_view_count": null,
            "_view_module": "@jupyter-widgets/base",
            "_view_module_version": "1.2.0",
            "_view_name": "LayoutView",
            "align_content": null,
            "align_items": null,
            "align_self": null,
            "border": null,
            "bottom": null,
            "display": null,
            "flex": null,
            "flex_flow": null,
            "grid_area": null,
            "grid_auto_columns": null,
            "grid_auto_flow": null,
            "grid_auto_rows": null,
            "grid_column": null,
            "grid_gap": null,
            "grid_row": null,
            "grid_template_areas": null,
            "grid_template_columns": null,
            "grid_template_rows": null,
            "height": null,
            "justify_content": null,
            "justify_items": null,
            "left": null,
            "margin": null,
            "max_height": null,
            "max_width": null,
            "min_height": null,
            "min_width": null,
            "object_fit": null,
            "object_position": null,
            "order": null,
            "overflow": null,
            "overflow_x": null,
            "overflow_y": null,
            "padding": null,
            "right": null,
            "top": null,
            "visibility": null,
            "width": null
          }
        },
        "7945d5472b1f4944be05147f5f3e38bb": {
          "model_module": "@jupyter-widgets/controls",
          "model_name": "DescriptionStyleModel",
          "model_module_version": "1.5.0",
          "state": {
            "_model_module": "@jupyter-widgets/controls",
            "_model_module_version": "1.5.0",
            "_model_name": "DescriptionStyleModel",
            "_view_count": null,
            "_view_module": "@jupyter-widgets/base",
            "_view_module_version": "1.2.0",
            "_view_name": "StyleView",
            "description_width": ""
          }
        },
        "600bde1deafb45c2a3a72e4f6a51fefc": {
          "model_module": "@jupyter-widgets/base",
          "model_name": "LayoutModel",
          "model_module_version": "1.2.0",
          "state": {
            "_model_module": "@jupyter-widgets/base",
            "_model_module_version": "1.2.0",
            "_model_name": "LayoutModel",
            "_view_count": null,
            "_view_module": "@jupyter-widgets/base",
            "_view_module_version": "1.2.0",
            "_view_name": "LayoutView",
            "align_content": null,
            "align_items": null,
            "align_self": null,
            "border": null,
            "bottom": null,
            "display": null,
            "flex": null,
            "flex_flow": null,
            "grid_area": null,
            "grid_auto_columns": null,
            "grid_auto_flow": null,
            "grid_auto_rows": null,
            "grid_column": null,
            "grid_gap": null,
            "grid_row": null,
            "grid_template_areas": null,
            "grid_template_columns": null,
            "grid_template_rows": null,
            "height": null,
            "justify_content": null,
            "justify_items": null,
            "left": null,
            "margin": null,
            "max_height": null,
            "max_width": null,
            "min_height": null,
            "min_width": null,
            "object_fit": null,
            "object_position": null,
            "order": null,
            "overflow": null,
            "overflow_x": null,
            "overflow_y": null,
            "padding": null,
            "right": null,
            "top": null,
            "visibility": null,
            "width": null
          }
        },
        "ad827917de2b411d984175573c02ab74": {
          "model_module": "@jupyter-widgets/controls",
          "model_name": "ProgressStyleModel",
          "model_module_version": "1.5.0",
          "state": {
            "_model_module": "@jupyter-widgets/controls",
            "_model_module_version": "1.5.0",
            "_model_name": "ProgressStyleModel",
            "_view_count": null,
            "_view_module": "@jupyter-widgets/base",
            "_view_module_version": "1.2.0",
            "_view_name": "StyleView",
            "bar_color": null,
            "description_width": ""
          }
        },
        "177d250613a545bf81395716db5ec08c": {
          "model_module": "@jupyter-widgets/base",
          "model_name": "LayoutModel",
          "model_module_version": "1.2.0",
          "state": {
            "_model_module": "@jupyter-widgets/base",
            "_model_module_version": "1.2.0",
            "_model_name": "LayoutModel",
            "_view_count": null,
            "_view_module": "@jupyter-widgets/base",
            "_view_module_version": "1.2.0",
            "_view_name": "LayoutView",
            "align_content": null,
            "align_items": null,
            "align_self": null,
            "border": null,
            "bottom": null,
            "display": null,
            "flex": null,
            "flex_flow": null,
            "grid_area": null,
            "grid_auto_columns": null,
            "grid_auto_flow": null,
            "grid_auto_rows": null,
            "grid_column": null,
            "grid_gap": null,
            "grid_row": null,
            "grid_template_areas": null,
            "grid_template_columns": null,
            "grid_template_rows": null,
            "height": null,
            "justify_content": null,
            "justify_items": null,
            "left": null,
            "margin": null,
            "max_height": null,
            "max_width": null,
            "min_height": null,
            "min_width": null,
            "object_fit": null,
            "object_position": null,
            "order": null,
            "overflow": null,
            "overflow_x": null,
            "overflow_y": null,
            "padding": null,
            "right": null,
            "top": null,
            "visibility": null,
            "width": null
          }
        },
        "aa707a136ecb4f44989362ee094f301c": {
          "model_module": "@jupyter-widgets/controls",
          "model_name": "DescriptionStyleModel",
          "model_module_version": "1.5.0",
          "state": {
            "_model_module": "@jupyter-widgets/controls",
            "_model_module_version": "1.5.0",
            "_model_name": "DescriptionStyleModel",
            "_view_count": null,
            "_view_module": "@jupyter-widgets/base",
            "_view_module_version": "1.2.0",
            "_view_name": "StyleView",
            "description_width": ""
          }
        },
        "5f3e947e03f5462fab27202ba91e7f4d": {
          "model_module": "@jupyter-widgets/controls",
          "model_name": "HBoxModel",
          "model_module_version": "1.5.0",
          "state": {
            "_dom_classes": [],
            "_model_module": "@jupyter-widgets/controls",
            "_model_module_version": "1.5.0",
            "_model_name": "HBoxModel",
            "_view_count": null,
            "_view_module": "@jupyter-widgets/controls",
            "_view_module_version": "1.5.0",
            "_view_name": "HBoxView",
            "box_style": "",
            "children": [
              "IPY_MODEL_17778e05da374de48c1a7c1e10a5d0ed",
              "IPY_MODEL_b4173bceda1f4d54a8de5237ed75adc0",
              "IPY_MODEL_a8e196fc7f924466b181a8c85cbcfd19"
            ],
            "layout": "IPY_MODEL_d692ea0a095244d58ff846e7270c56a0"
          }
        },
        "17778e05da374de48c1a7c1e10a5d0ed": {
          "model_module": "@jupyter-widgets/controls",
          "model_name": "HTMLModel",
          "model_module_version": "1.5.0",
          "state": {
            "_dom_classes": [],
            "_model_module": "@jupyter-widgets/controls",
            "_model_module_version": "1.5.0",
            "_model_name": "HTMLModel",
            "_view_count": null,
            "_view_module": "@jupyter-widgets/controls",
            "_view_module_version": "1.5.0",
            "_view_name": "HTMLView",
            "description": "",
            "description_tooltip": null,
            "layout": "IPY_MODEL_7390fc1989a345a098379db0f6130b58",
            "placeholder": "​",
            "style": "IPY_MODEL_fc646ef43ac7444c8908cd2ce3f21e0a",
            "value": "100%"
          }
        },
        "b4173bceda1f4d54a8de5237ed75adc0": {
          "model_module": "@jupyter-widgets/controls",
          "model_name": "FloatProgressModel",
          "model_module_version": "1.5.0",
          "state": {
            "_dom_classes": [],
            "_model_module": "@jupyter-widgets/controls",
            "_model_module_version": "1.5.0",
            "_model_name": "FloatProgressModel",
            "_view_count": null,
            "_view_module": "@jupyter-widgets/controls",
            "_view_module_version": "1.5.0",
            "_view_name": "ProgressView",
            "bar_style": "success",
            "description": "",
            "description_tooltip": null,
            "layout": "IPY_MODEL_183baf5794f64c51b0b6610f71fc8558",
            "max": 26421880,
            "min": 0,
            "orientation": "horizontal",
            "style": "IPY_MODEL_ba436d1674de428ebb5a22d5611b75ab",
            "value": 26421880
          }
        },
        "a8e196fc7f924466b181a8c85cbcfd19": {
          "model_module": "@jupyter-widgets/controls",
          "model_name": "HTMLModel",
          "model_module_version": "1.5.0",
          "state": {
            "_dom_classes": [],
            "_model_module": "@jupyter-widgets/controls",
            "_model_module_version": "1.5.0",
            "_model_name": "HTMLModel",
            "_view_count": null,
            "_view_module": "@jupyter-widgets/controls",
            "_view_module_version": "1.5.0",
            "_view_name": "HTMLView",
            "description": "",
            "description_tooltip": null,
            "layout": "IPY_MODEL_cb15baf6632943719b6e5fc73e7a5ed2",
            "placeholder": "​",
            "style": "IPY_MODEL_fb0a7af82a96474397c5480977d4fa86",
            "value": " 26421880/26421880 [00:02&lt;00:00, 20479731.11it/s]"
          }
        },
        "d692ea0a095244d58ff846e7270c56a0": {
          "model_module": "@jupyter-widgets/base",
          "model_name": "LayoutModel",
          "model_module_version": "1.2.0",
          "state": {
            "_model_module": "@jupyter-widgets/base",
            "_model_module_version": "1.2.0",
            "_model_name": "LayoutModel",
            "_view_count": null,
            "_view_module": "@jupyter-widgets/base",
            "_view_module_version": "1.2.0",
            "_view_name": "LayoutView",
            "align_content": null,
            "align_items": null,
            "align_self": null,
            "border": null,
            "bottom": null,
            "display": null,
            "flex": null,
            "flex_flow": null,
            "grid_area": null,
            "grid_auto_columns": null,
            "grid_auto_flow": null,
            "grid_auto_rows": null,
            "grid_column": null,
            "grid_gap": null,
            "grid_row": null,
            "grid_template_areas": null,
            "grid_template_columns": null,
            "grid_template_rows": null,
            "height": null,
            "justify_content": null,
            "justify_items": null,
            "left": null,
            "margin": null,
            "max_height": null,
            "max_width": null,
            "min_height": null,
            "min_width": null,
            "object_fit": null,
            "object_position": null,
            "order": null,
            "overflow": null,
            "overflow_x": null,
            "overflow_y": null,
            "padding": null,
            "right": null,
            "top": null,
            "visibility": null,
            "width": null
          }
        },
        "7390fc1989a345a098379db0f6130b58": {
          "model_module": "@jupyter-widgets/base",
          "model_name": "LayoutModel",
          "model_module_version": "1.2.0",
          "state": {
            "_model_module": "@jupyter-widgets/base",
            "_model_module_version": "1.2.0",
            "_model_name": "LayoutModel",
            "_view_count": null,
            "_view_module": "@jupyter-widgets/base",
            "_view_module_version": "1.2.0",
            "_view_name": "LayoutView",
            "align_content": null,
            "align_items": null,
            "align_self": null,
            "border": null,
            "bottom": null,
            "display": null,
            "flex": null,
            "flex_flow": null,
            "grid_area": null,
            "grid_auto_columns": null,
            "grid_auto_flow": null,
            "grid_auto_rows": null,
            "grid_column": null,
            "grid_gap": null,
            "grid_row": null,
            "grid_template_areas": null,
            "grid_template_columns": null,
            "grid_template_rows": null,
            "height": null,
            "justify_content": null,
            "justify_items": null,
            "left": null,
            "margin": null,
            "max_height": null,
            "max_width": null,
            "min_height": null,
            "min_width": null,
            "object_fit": null,
            "object_position": null,
            "order": null,
            "overflow": null,
            "overflow_x": null,
            "overflow_y": null,
            "padding": null,
            "right": null,
            "top": null,
            "visibility": null,
            "width": null
          }
        },
        "fc646ef43ac7444c8908cd2ce3f21e0a": {
          "model_module": "@jupyter-widgets/controls",
          "model_name": "DescriptionStyleModel",
          "model_module_version": "1.5.0",
          "state": {
            "_model_module": "@jupyter-widgets/controls",
            "_model_module_version": "1.5.0",
            "_model_name": "DescriptionStyleModel",
            "_view_count": null,
            "_view_module": "@jupyter-widgets/base",
            "_view_module_version": "1.2.0",
            "_view_name": "StyleView",
            "description_width": ""
          }
        },
        "183baf5794f64c51b0b6610f71fc8558": {
          "model_module": "@jupyter-widgets/base",
          "model_name": "LayoutModel",
          "model_module_version": "1.2.0",
          "state": {
            "_model_module": "@jupyter-widgets/base",
            "_model_module_version": "1.2.0",
            "_model_name": "LayoutModel",
            "_view_count": null,
            "_view_module": "@jupyter-widgets/base",
            "_view_module_version": "1.2.0",
            "_view_name": "LayoutView",
            "align_content": null,
            "align_items": null,
            "align_self": null,
            "border": null,
            "bottom": null,
            "display": null,
            "flex": null,
            "flex_flow": null,
            "grid_area": null,
            "grid_auto_columns": null,
            "grid_auto_flow": null,
            "grid_auto_rows": null,
            "grid_column": null,
            "grid_gap": null,
            "grid_row": null,
            "grid_template_areas": null,
            "grid_template_columns": null,
            "grid_template_rows": null,
            "height": null,
            "justify_content": null,
            "justify_items": null,
            "left": null,
            "margin": null,
            "max_height": null,
            "max_width": null,
            "min_height": null,
            "min_width": null,
            "object_fit": null,
            "object_position": null,
            "order": null,
            "overflow": null,
            "overflow_x": null,
            "overflow_y": null,
            "padding": null,
            "right": null,
            "top": null,
            "visibility": null,
            "width": null
          }
        },
        "ba436d1674de428ebb5a22d5611b75ab": {
          "model_module": "@jupyter-widgets/controls",
          "model_name": "ProgressStyleModel",
          "model_module_version": "1.5.0",
          "state": {
            "_model_module": "@jupyter-widgets/controls",
            "_model_module_version": "1.5.0",
            "_model_name": "ProgressStyleModel",
            "_view_count": null,
            "_view_module": "@jupyter-widgets/base",
            "_view_module_version": "1.2.0",
            "_view_name": "StyleView",
            "bar_color": null,
            "description_width": ""
          }
        },
        "cb15baf6632943719b6e5fc73e7a5ed2": {
          "model_module": "@jupyter-widgets/base",
          "model_name": "LayoutModel",
          "model_module_version": "1.2.0",
          "state": {
            "_model_module": "@jupyter-widgets/base",
            "_model_module_version": "1.2.0",
            "_model_name": "LayoutModel",
            "_view_count": null,
            "_view_module": "@jupyter-widgets/base",
            "_view_module_version": "1.2.0",
            "_view_name": "LayoutView",
            "align_content": null,
            "align_items": null,
            "align_self": null,
            "border": null,
            "bottom": null,
            "display": null,
            "flex": null,
            "flex_flow": null,
            "grid_area": null,
            "grid_auto_columns": null,
            "grid_auto_flow": null,
            "grid_auto_rows": null,
            "grid_column": null,
            "grid_gap": null,
            "grid_row": null,
            "grid_template_areas": null,
            "grid_template_columns": null,
            "grid_template_rows": null,
            "height": null,
            "justify_content": null,
            "justify_items": null,
            "left": null,
            "margin": null,
            "max_height": null,
            "max_width": null,
            "min_height": null,
            "min_width": null,
            "object_fit": null,
            "object_position": null,
            "order": null,
            "overflow": null,
            "overflow_x": null,
            "overflow_y": null,
            "padding": null,
            "right": null,
            "top": null,
            "visibility": null,
            "width": null
          }
        },
        "fb0a7af82a96474397c5480977d4fa86": {
          "model_module": "@jupyter-widgets/controls",
          "model_name": "DescriptionStyleModel",
          "model_module_version": "1.5.0",
          "state": {
            "_model_module": "@jupyter-widgets/controls",
            "_model_module_version": "1.5.0",
            "_model_name": "DescriptionStyleModel",
            "_view_count": null,
            "_view_module": "@jupyter-widgets/base",
            "_view_module_version": "1.2.0",
            "_view_name": "StyleView",
            "description_width": ""
          }
        },
        "95b30aee69e54a2e975cae642b4c42e6": {
          "model_module": "@jupyter-widgets/controls",
          "model_name": "HBoxModel",
          "model_module_version": "1.5.0",
          "state": {
            "_dom_classes": [],
            "_model_module": "@jupyter-widgets/controls",
            "_model_module_version": "1.5.0",
            "_model_name": "HBoxModel",
            "_view_count": null,
            "_view_module": "@jupyter-widgets/controls",
            "_view_module_version": "1.5.0",
            "_view_name": "HBoxView",
            "box_style": "",
            "children": [
              "IPY_MODEL_cd9a533dbf59420d99cc1253f045c0f8",
              "IPY_MODEL_e06353317af3460ba18e9ef71e72d32e",
              "IPY_MODEL_5656f67dbbf64aeca9121bab4e57719f"
            ],
            "layout": "IPY_MODEL_30f03507662e42d59f226d22f71832d5"
          }
        },
        "cd9a533dbf59420d99cc1253f045c0f8": {
          "model_module": "@jupyter-widgets/controls",
          "model_name": "HTMLModel",
          "model_module_version": "1.5.0",
          "state": {
            "_dom_classes": [],
            "_model_module": "@jupyter-widgets/controls",
            "_model_module_version": "1.5.0",
            "_model_name": "HTMLModel",
            "_view_count": null,
            "_view_module": "@jupyter-widgets/controls",
            "_view_module_version": "1.5.0",
            "_view_name": "HTMLView",
            "description": "",
            "description_tooltip": null,
            "layout": "IPY_MODEL_06c3415892644ea3acb5c4ea7168bec0",
            "placeholder": "​",
            "style": "IPY_MODEL_adde2a9063434ce9bacd6eb12270d858",
            "value": "100%"
          }
        },
        "e06353317af3460ba18e9ef71e72d32e": {
          "model_module": "@jupyter-widgets/controls",
          "model_name": "FloatProgressModel",
          "model_module_version": "1.5.0",
          "state": {
            "_dom_classes": [],
            "_model_module": "@jupyter-widgets/controls",
            "_model_module_version": "1.5.0",
            "_model_name": "FloatProgressModel",
            "_view_count": null,
            "_view_module": "@jupyter-widgets/controls",
            "_view_module_version": "1.5.0",
            "_view_name": "ProgressView",
            "bar_style": "success",
            "description": "",
            "description_tooltip": null,
            "layout": "IPY_MODEL_9591d07cd3b84c36b7e17d35537a6095",
            "max": 29515,
            "min": 0,
            "orientation": "horizontal",
            "style": "IPY_MODEL_61da9a67d58249c2aea02d3d85856c95",
            "value": 29515
          }
        },
        "5656f67dbbf64aeca9121bab4e57719f": {
          "model_module": "@jupyter-widgets/controls",
          "model_name": "HTMLModel",
          "model_module_version": "1.5.0",
          "state": {
            "_dom_classes": [],
            "_model_module": "@jupyter-widgets/controls",
            "_model_module_version": "1.5.0",
            "_model_name": "HTMLModel",
            "_view_count": null,
            "_view_module": "@jupyter-widgets/controls",
            "_view_module_version": "1.5.0",
            "_view_name": "HTMLView",
            "description": "",
            "description_tooltip": null,
            "layout": "IPY_MODEL_0ce1b8faf3e04dc0930fac00cb2be6de",
            "placeholder": "​",
            "style": "IPY_MODEL_ff87fc388fb04c4d9d283b146d34ccdc",
            "value": " 29515/29515 [00:00&lt;00:00, 209793.39it/s]"
          }
        },
        "30f03507662e42d59f226d22f71832d5": {
          "model_module": "@jupyter-widgets/base",
          "model_name": "LayoutModel",
          "model_module_version": "1.2.0",
          "state": {
            "_model_module": "@jupyter-widgets/base",
            "_model_module_version": "1.2.0",
            "_model_name": "LayoutModel",
            "_view_count": null,
            "_view_module": "@jupyter-widgets/base",
            "_view_module_version": "1.2.0",
            "_view_name": "LayoutView",
            "align_content": null,
            "align_items": null,
            "align_self": null,
            "border": null,
            "bottom": null,
            "display": null,
            "flex": null,
            "flex_flow": null,
            "grid_area": null,
            "grid_auto_columns": null,
            "grid_auto_flow": null,
            "grid_auto_rows": null,
            "grid_column": null,
            "grid_gap": null,
            "grid_row": null,
            "grid_template_areas": null,
            "grid_template_columns": null,
            "grid_template_rows": null,
            "height": null,
            "justify_content": null,
            "justify_items": null,
            "left": null,
            "margin": null,
            "max_height": null,
            "max_width": null,
            "min_height": null,
            "min_width": null,
            "object_fit": null,
            "object_position": null,
            "order": null,
            "overflow": null,
            "overflow_x": null,
            "overflow_y": null,
            "padding": null,
            "right": null,
            "top": null,
            "visibility": null,
            "width": null
          }
        },
        "06c3415892644ea3acb5c4ea7168bec0": {
          "model_module": "@jupyter-widgets/base",
          "model_name": "LayoutModel",
          "model_module_version": "1.2.0",
          "state": {
            "_model_module": "@jupyter-widgets/base",
            "_model_module_version": "1.2.0",
            "_model_name": "LayoutModel",
            "_view_count": null,
            "_view_module": "@jupyter-widgets/base",
            "_view_module_version": "1.2.0",
            "_view_name": "LayoutView",
            "align_content": null,
            "align_items": null,
            "align_self": null,
            "border": null,
            "bottom": null,
            "display": null,
            "flex": null,
            "flex_flow": null,
            "grid_area": null,
            "grid_auto_columns": null,
            "grid_auto_flow": null,
            "grid_auto_rows": null,
            "grid_column": null,
            "grid_gap": null,
            "grid_row": null,
            "grid_template_areas": null,
            "grid_template_columns": null,
            "grid_template_rows": null,
            "height": null,
            "justify_content": null,
            "justify_items": null,
            "left": null,
            "margin": null,
            "max_height": null,
            "max_width": null,
            "min_height": null,
            "min_width": null,
            "object_fit": null,
            "object_position": null,
            "order": null,
            "overflow": null,
            "overflow_x": null,
            "overflow_y": null,
            "padding": null,
            "right": null,
            "top": null,
            "visibility": null,
            "width": null
          }
        },
        "adde2a9063434ce9bacd6eb12270d858": {
          "model_module": "@jupyter-widgets/controls",
          "model_name": "DescriptionStyleModel",
          "model_module_version": "1.5.0",
          "state": {
            "_model_module": "@jupyter-widgets/controls",
            "_model_module_version": "1.5.0",
            "_model_name": "DescriptionStyleModel",
            "_view_count": null,
            "_view_module": "@jupyter-widgets/base",
            "_view_module_version": "1.2.0",
            "_view_name": "StyleView",
            "description_width": ""
          }
        },
        "9591d07cd3b84c36b7e17d35537a6095": {
          "model_module": "@jupyter-widgets/base",
          "model_name": "LayoutModel",
          "model_module_version": "1.2.0",
          "state": {
            "_model_module": "@jupyter-widgets/base",
            "_model_module_version": "1.2.0",
            "_model_name": "LayoutModel",
            "_view_count": null,
            "_view_module": "@jupyter-widgets/base",
            "_view_module_version": "1.2.0",
            "_view_name": "LayoutView",
            "align_content": null,
            "align_items": null,
            "align_self": null,
            "border": null,
            "bottom": null,
            "display": null,
            "flex": null,
            "flex_flow": null,
            "grid_area": null,
            "grid_auto_columns": null,
            "grid_auto_flow": null,
            "grid_auto_rows": null,
            "grid_column": null,
            "grid_gap": null,
            "grid_row": null,
            "grid_template_areas": null,
            "grid_template_columns": null,
            "grid_template_rows": null,
            "height": null,
            "justify_content": null,
            "justify_items": null,
            "left": null,
            "margin": null,
            "max_height": null,
            "max_width": null,
            "min_height": null,
            "min_width": null,
            "object_fit": null,
            "object_position": null,
            "order": null,
            "overflow": null,
            "overflow_x": null,
            "overflow_y": null,
            "padding": null,
            "right": null,
            "top": null,
            "visibility": null,
            "width": null
          }
        },
        "61da9a67d58249c2aea02d3d85856c95": {
          "model_module": "@jupyter-widgets/controls",
          "model_name": "ProgressStyleModel",
          "model_module_version": "1.5.0",
          "state": {
            "_model_module": "@jupyter-widgets/controls",
            "_model_module_version": "1.5.0",
            "_model_name": "ProgressStyleModel",
            "_view_count": null,
            "_view_module": "@jupyter-widgets/base",
            "_view_module_version": "1.2.0",
            "_view_name": "StyleView",
            "bar_color": null,
            "description_width": ""
          }
        },
        "0ce1b8faf3e04dc0930fac00cb2be6de": {
          "model_module": "@jupyter-widgets/base",
          "model_name": "LayoutModel",
          "model_module_version": "1.2.0",
          "state": {
            "_model_module": "@jupyter-widgets/base",
            "_model_module_version": "1.2.0",
            "_model_name": "LayoutModel",
            "_view_count": null,
            "_view_module": "@jupyter-widgets/base",
            "_view_module_version": "1.2.0",
            "_view_name": "LayoutView",
            "align_content": null,
            "align_items": null,
            "align_self": null,
            "border": null,
            "bottom": null,
            "display": null,
            "flex": null,
            "flex_flow": null,
            "grid_area": null,
            "grid_auto_columns": null,
            "grid_auto_flow": null,
            "grid_auto_rows": null,
            "grid_column": null,
            "grid_gap": null,
            "grid_row": null,
            "grid_template_areas": null,
            "grid_template_columns": null,
            "grid_template_rows": null,
            "height": null,
            "justify_content": null,
            "justify_items": null,
            "left": null,
            "margin": null,
            "max_height": null,
            "max_width": null,
            "min_height": null,
            "min_width": null,
            "object_fit": null,
            "object_position": null,
            "order": null,
            "overflow": null,
            "overflow_x": null,
            "overflow_y": null,
            "padding": null,
            "right": null,
            "top": null,
            "visibility": null,
            "width": null
          }
        },
        "ff87fc388fb04c4d9d283b146d34ccdc": {
          "model_module": "@jupyter-widgets/controls",
          "model_name": "DescriptionStyleModel",
          "model_module_version": "1.5.0",
          "state": {
            "_model_module": "@jupyter-widgets/controls",
            "_model_module_version": "1.5.0",
            "_model_name": "DescriptionStyleModel",
            "_view_count": null,
            "_view_module": "@jupyter-widgets/base",
            "_view_module_version": "1.2.0",
            "_view_name": "StyleView",
            "description_width": ""
          }
        },
        "91677bb33ede4a2bb5d51ffe9b5b0476": {
          "model_module": "@jupyter-widgets/controls",
          "model_name": "HBoxModel",
          "model_module_version": "1.5.0",
          "state": {
            "_dom_classes": [],
            "_model_module": "@jupyter-widgets/controls",
            "_model_module_version": "1.5.0",
            "_model_name": "HBoxModel",
            "_view_count": null,
            "_view_module": "@jupyter-widgets/controls",
            "_view_module_version": "1.5.0",
            "_view_name": "HBoxView",
            "box_style": "",
            "children": [
              "IPY_MODEL_cc5169abf25a4b7081ee20c1d86cbab1",
              "IPY_MODEL_7b1c3091c6e741aeb062394fb18d6163",
              "IPY_MODEL_c428cb5776fa415ca07e7b5306188616"
            ],
            "layout": "IPY_MODEL_6d66f2e9a942492792c62f5b0990d334"
          }
        },
        "cc5169abf25a4b7081ee20c1d86cbab1": {
          "model_module": "@jupyter-widgets/controls",
          "model_name": "HTMLModel",
          "model_module_version": "1.5.0",
          "state": {
            "_dom_classes": [],
            "_model_module": "@jupyter-widgets/controls",
            "_model_module_version": "1.5.0",
            "_model_name": "HTMLModel",
            "_view_count": null,
            "_view_module": "@jupyter-widgets/controls",
            "_view_module_version": "1.5.0",
            "_view_name": "HTMLView",
            "description": "",
            "description_tooltip": null,
            "layout": "IPY_MODEL_1aa1d5a94e304b8c83d5dabc129af203",
            "placeholder": "​",
            "style": "IPY_MODEL_f0d6f71a89b04ab1aea1b0f6934f08ee",
            "value": "100%"
          }
        },
        "7b1c3091c6e741aeb062394fb18d6163": {
          "model_module": "@jupyter-widgets/controls",
          "model_name": "FloatProgressModel",
          "model_module_version": "1.5.0",
          "state": {
            "_dom_classes": [],
            "_model_module": "@jupyter-widgets/controls",
            "_model_module_version": "1.5.0",
            "_model_name": "FloatProgressModel",
            "_view_count": null,
            "_view_module": "@jupyter-widgets/controls",
            "_view_module_version": "1.5.0",
            "_view_name": "ProgressView",
            "bar_style": "success",
            "description": "",
            "description_tooltip": null,
            "layout": "IPY_MODEL_3f9eee00331949c59164f70b644963bb",
            "max": 4422102,
            "min": 0,
            "orientation": "horizontal",
            "style": "IPY_MODEL_880a450eb0e64d9e858c5a6c85d94d6e",
            "value": 4422102
          }
        },
        "c428cb5776fa415ca07e7b5306188616": {
          "model_module": "@jupyter-widgets/controls",
          "model_name": "HTMLModel",
          "model_module_version": "1.5.0",
          "state": {
            "_dom_classes": [],
            "_model_module": "@jupyter-widgets/controls",
            "_model_module_version": "1.5.0",
            "_model_name": "HTMLModel",
            "_view_count": null,
            "_view_module": "@jupyter-widgets/controls",
            "_view_module_version": "1.5.0",
            "_view_name": "HTMLView",
            "description": "",
            "description_tooltip": null,
            "layout": "IPY_MODEL_d71aaddaf8c74af9962e8fa6d1984a75",
            "placeholder": "​",
            "style": "IPY_MODEL_89b42f8d65d94a60a21aea4ec3e39c05",
            "value": " 4422102/4422102 [00:01&lt;00:00, 6746084.56it/s]"
          }
        },
        "6d66f2e9a942492792c62f5b0990d334": {
          "model_module": "@jupyter-widgets/base",
          "model_name": "LayoutModel",
          "model_module_version": "1.2.0",
          "state": {
            "_model_module": "@jupyter-widgets/base",
            "_model_module_version": "1.2.0",
            "_model_name": "LayoutModel",
            "_view_count": null,
            "_view_module": "@jupyter-widgets/base",
            "_view_module_version": "1.2.0",
            "_view_name": "LayoutView",
            "align_content": null,
            "align_items": null,
            "align_self": null,
            "border": null,
            "bottom": null,
            "display": null,
            "flex": null,
            "flex_flow": null,
            "grid_area": null,
            "grid_auto_columns": null,
            "grid_auto_flow": null,
            "grid_auto_rows": null,
            "grid_column": null,
            "grid_gap": null,
            "grid_row": null,
            "grid_template_areas": null,
            "grid_template_columns": null,
            "grid_template_rows": null,
            "height": null,
            "justify_content": null,
            "justify_items": null,
            "left": null,
            "margin": null,
            "max_height": null,
            "max_width": null,
            "min_height": null,
            "min_width": null,
            "object_fit": null,
            "object_position": null,
            "order": null,
            "overflow": null,
            "overflow_x": null,
            "overflow_y": null,
            "padding": null,
            "right": null,
            "top": null,
            "visibility": null,
            "width": null
          }
        },
        "1aa1d5a94e304b8c83d5dabc129af203": {
          "model_module": "@jupyter-widgets/base",
          "model_name": "LayoutModel",
          "model_module_version": "1.2.0",
          "state": {
            "_model_module": "@jupyter-widgets/base",
            "_model_module_version": "1.2.0",
            "_model_name": "LayoutModel",
            "_view_count": null,
            "_view_module": "@jupyter-widgets/base",
            "_view_module_version": "1.2.0",
            "_view_name": "LayoutView",
            "align_content": null,
            "align_items": null,
            "align_self": null,
            "border": null,
            "bottom": null,
            "display": null,
            "flex": null,
            "flex_flow": null,
            "grid_area": null,
            "grid_auto_columns": null,
            "grid_auto_flow": null,
            "grid_auto_rows": null,
            "grid_column": null,
            "grid_gap": null,
            "grid_row": null,
            "grid_template_areas": null,
            "grid_template_columns": null,
            "grid_template_rows": null,
            "height": null,
            "justify_content": null,
            "justify_items": null,
            "left": null,
            "margin": null,
            "max_height": null,
            "max_width": null,
            "min_height": null,
            "min_width": null,
            "object_fit": null,
            "object_position": null,
            "order": null,
            "overflow": null,
            "overflow_x": null,
            "overflow_y": null,
            "padding": null,
            "right": null,
            "top": null,
            "visibility": null,
            "width": null
          }
        },
        "f0d6f71a89b04ab1aea1b0f6934f08ee": {
          "model_module": "@jupyter-widgets/controls",
          "model_name": "DescriptionStyleModel",
          "model_module_version": "1.5.0",
          "state": {
            "_model_module": "@jupyter-widgets/controls",
            "_model_module_version": "1.5.0",
            "_model_name": "DescriptionStyleModel",
            "_view_count": null,
            "_view_module": "@jupyter-widgets/base",
            "_view_module_version": "1.2.0",
            "_view_name": "StyleView",
            "description_width": ""
          }
        },
        "3f9eee00331949c59164f70b644963bb": {
          "model_module": "@jupyter-widgets/base",
          "model_name": "LayoutModel",
          "model_module_version": "1.2.0",
          "state": {
            "_model_module": "@jupyter-widgets/base",
            "_model_module_version": "1.2.0",
            "_model_name": "LayoutModel",
            "_view_count": null,
            "_view_module": "@jupyter-widgets/base",
            "_view_module_version": "1.2.0",
            "_view_name": "LayoutView",
            "align_content": null,
            "align_items": null,
            "align_self": null,
            "border": null,
            "bottom": null,
            "display": null,
            "flex": null,
            "flex_flow": null,
            "grid_area": null,
            "grid_auto_columns": null,
            "grid_auto_flow": null,
            "grid_auto_rows": null,
            "grid_column": null,
            "grid_gap": null,
            "grid_row": null,
            "grid_template_areas": null,
            "grid_template_columns": null,
            "grid_template_rows": null,
            "height": null,
            "justify_content": null,
            "justify_items": null,
            "left": null,
            "margin": null,
            "max_height": null,
            "max_width": null,
            "min_height": null,
            "min_width": null,
            "object_fit": null,
            "object_position": null,
            "order": null,
            "overflow": null,
            "overflow_x": null,
            "overflow_y": null,
            "padding": null,
            "right": null,
            "top": null,
            "visibility": null,
            "width": null
          }
        },
        "880a450eb0e64d9e858c5a6c85d94d6e": {
          "model_module": "@jupyter-widgets/controls",
          "model_name": "ProgressStyleModel",
          "model_module_version": "1.5.0",
          "state": {
            "_model_module": "@jupyter-widgets/controls",
            "_model_module_version": "1.5.0",
            "_model_name": "ProgressStyleModel",
            "_view_count": null,
            "_view_module": "@jupyter-widgets/base",
            "_view_module_version": "1.2.0",
            "_view_name": "StyleView",
            "bar_color": null,
            "description_width": ""
          }
        },
        "d71aaddaf8c74af9962e8fa6d1984a75": {
          "model_module": "@jupyter-widgets/base",
          "model_name": "LayoutModel",
          "model_module_version": "1.2.0",
          "state": {
            "_model_module": "@jupyter-widgets/base",
            "_model_module_version": "1.2.0",
            "_model_name": "LayoutModel",
            "_view_count": null,
            "_view_module": "@jupyter-widgets/base",
            "_view_module_version": "1.2.0",
            "_view_name": "LayoutView",
            "align_content": null,
            "align_items": null,
            "align_self": null,
            "border": null,
            "bottom": null,
            "display": null,
            "flex": null,
            "flex_flow": null,
            "grid_area": null,
            "grid_auto_columns": null,
            "grid_auto_flow": null,
            "grid_auto_rows": null,
            "grid_column": null,
            "grid_gap": null,
            "grid_row": null,
            "grid_template_areas": null,
            "grid_template_columns": null,
            "grid_template_rows": null,
            "height": null,
            "justify_content": null,
            "justify_items": null,
            "left": null,
            "margin": null,
            "max_height": null,
            "max_width": null,
            "min_height": null,
            "min_width": null,
            "object_fit": null,
            "object_position": null,
            "order": null,
            "overflow": null,
            "overflow_x": null,
            "overflow_y": null,
            "padding": null,
            "right": null,
            "top": null,
            "visibility": null,
            "width": null
          }
        },
        "89b42f8d65d94a60a21aea4ec3e39c05": {
          "model_module": "@jupyter-widgets/controls",
          "model_name": "DescriptionStyleModel",
          "model_module_version": "1.5.0",
          "state": {
            "_model_module": "@jupyter-widgets/controls",
            "_model_module_version": "1.5.0",
            "_model_name": "DescriptionStyleModel",
            "_view_count": null,
            "_view_module": "@jupyter-widgets/base",
            "_view_module_version": "1.2.0",
            "_view_name": "StyleView",
            "description_width": ""
          }
        },
        "f69b13440d354a918072a7efc702b431": {
          "model_module": "@jupyter-widgets/controls",
          "model_name": "HBoxModel",
          "model_module_version": "1.5.0",
          "state": {
            "_dom_classes": [],
            "_model_module": "@jupyter-widgets/controls",
            "_model_module_version": "1.5.0",
            "_model_name": "HBoxModel",
            "_view_count": null,
            "_view_module": "@jupyter-widgets/controls",
            "_view_module_version": "1.5.0",
            "_view_name": "HBoxView",
            "box_style": "",
            "children": [
              "IPY_MODEL_b163d9cff9a54f16be1fb73ee1411351",
              "IPY_MODEL_0c9113ba43224a148a60f72073f955ae",
              "IPY_MODEL_15c1c0fbfad345a98ea5d17add8fcaf4"
            ],
            "layout": "IPY_MODEL_b75bac425213405bb279ffcb571fbefd"
          }
        },
        "b163d9cff9a54f16be1fb73ee1411351": {
          "model_module": "@jupyter-widgets/controls",
          "model_name": "HTMLModel",
          "model_module_version": "1.5.0",
          "state": {
            "_dom_classes": [],
            "_model_module": "@jupyter-widgets/controls",
            "_model_module_version": "1.5.0",
            "_model_name": "HTMLModel",
            "_view_count": null,
            "_view_module": "@jupyter-widgets/controls",
            "_view_module_version": "1.5.0",
            "_view_name": "HTMLView",
            "description": "",
            "description_tooltip": null,
            "layout": "IPY_MODEL_c2ca25bbb126489da86712c16e649c72",
            "placeholder": "​",
            "style": "IPY_MODEL_e7d811ba436841cc86e41eb1167350ef",
            "value": "100%"
          }
        },
        "0c9113ba43224a148a60f72073f955ae": {
          "model_module": "@jupyter-widgets/controls",
          "model_name": "FloatProgressModel",
          "model_module_version": "1.5.0",
          "state": {
            "_dom_classes": [],
            "_model_module": "@jupyter-widgets/controls",
            "_model_module_version": "1.5.0",
            "_model_name": "FloatProgressModel",
            "_view_count": null,
            "_view_module": "@jupyter-widgets/controls",
            "_view_module_version": "1.5.0",
            "_view_name": "ProgressView",
            "bar_style": "success",
            "description": "",
            "description_tooltip": null,
            "layout": "IPY_MODEL_d462eefaac2e4f01849ac1f36a81e9a5",
            "max": 5148,
            "min": 0,
            "orientation": "horizontal",
            "style": "IPY_MODEL_32438e01e7dd4bf6951bb766c8de6032",
            "value": 5148
          }
        },
        "15c1c0fbfad345a98ea5d17add8fcaf4": {
          "model_module": "@jupyter-widgets/controls",
          "model_name": "HTMLModel",
          "model_module_version": "1.5.0",
          "state": {
            "_dom_classes": [],
            "_model_module": "@jupyter-widgets/controls",
            "_model_module_version": "1.5.0",
            "_model_name": "HTMLModel",
            "_view_count": null,
            "_view_module": "@jupyter-widgets/controls",
            "_view_module_version": "1.5.0",
            "_view_name": "HTMLView",
            "description": "",
            "description_tooltip": null,
            "layout": "IPY_MODEL_0e2659318c01410297dd2669a46d8910",
            "placeholder": "​",
            "style": "IPY_MODEL_c76dea1956ca400b8145bd8bd18e2fb2",
            "value": " 5148/5148 [00:00&lt;00:00, 186999.55it/s]"
          }
        },
        "b75bac425213405bb279ffcb571fbefd": {
          "model_module": "@jupyter-widgets/base",
          "model_name": "LayoutModel",
          "model_module_version": "1.2.0",
          "state": {
            "_model_module": "@jupyter-widgets/base",
            "_model_module_version": "1.2.0",
            "_model_name": "LayoutModel",
            "_view_count": null,
            "_view_module": "@jupyter-widgets/base",
            "_view_module_version": "1.2.0",
            "_view_name": "LayoutView",
            "align_content": null,
            "align_items": null,
            "align_self": null,
            "border": null,
            "bottom": null,
            "display": null,
            "flex": null,
            "flex_flow": null,
            "grid_area": null,
            "grid_auto_columns": null,
            "grid_auto_flow": null,
            "grid_auto_rows": null,
            "grid_column": null,
            "grid_gap": null,
            "grid_row": null,
            "grid_template_areas": null,
            "grid_template_columns": null,
            "grid_template_rows": null,
            "height": null,
            "justify_content": null,
            "justify_items": null,
            "left": null,
            "margin": null,
            "max_height": null,
            "max_width": null,
            "min_height": null,
            "min_width": null,
            "object_fit": null,
            "object_position": null,
            "order": null,
            "overflow": null,
            "overflow_x": null,
            "overflow_y": null,
            "padding": null,
            "right": null,
            "top": null,
            "visibility": null,
            "width": null
          }
        },
        "c2ca25bbb126489da86712c16e649c72": {
          "model_module": "@jupyter-widgets/base",
          "model_name": "LayoutModel",
          "model_module_version": "1.2.0",
          "state": {
            "_model_module": "@jupyter-widgets/base",
            "_model_module_version": "1.2.0",
            "_model_name": "LayoutModel",
            "_view_count": null,
            "_view_module": "@jupyter-widgets/base",
            "_view_module_version": "1.2.0",
            "_view_name": "LayoutView",
            "align_content": null,
            "align_items": null,
            "align_self": null,
            "border": null,
            "bottom": null,
            "display": null,
            "flex": null,
            "flex_flow": null,
            "grid_area": null,
            "grid_auto_columns": null,
            "grid_auto_flow": null,
            "grid_auto_rows": null,
            "grid_column": null,
            "grid_gap": null,
            "grid_row": null,
            "grid_template_areas": null,
            "grid_template_columns": null,
            "grid_template_rows": null,
            "height": null,
            "justify_content": null,
            "justify_items": null,
            "left": null,
            "margin": null,
            "max_height": null,
            "max_width": null,
            "min_height": null,
            "min_width": null,
            "object_fit": null,
            "object_position": null,
            "order": null,
            "overflow": null,
            "overflow_x": null,
            "overflow_y": null,
            "padding": null,
            "right": null,
            "top": null,
            "visibility": null,
            "width": null
          }
        },
        "e7d811ba436841cc86e41eb1167350ef": {
          "model_module": "@jupyter-widgets/controls",
          "model_name": "DescriptionStyleModel",
          "model_module_version": "1.5.0",
          "state": {
            "_model_module": "@jupyter-widgets/controls",
            "_model_module_version": "1.5.0",
            "_model_name": "DescriptionStyleModel",
            "_view_count": null,
            "_view_module": "@jupyter-widgets/base",
            "_view_module_version": "1.2.0",
            "_view_name": "StyleView",
            "description_width": ""
          }
        },
        "d462eefaac2e4f01849ac1f36a81e9a5": {
          "model_module": "@jupyter-widgets/base",
          "model_name": "LayoutModel",
          "model_module_version": "1.2.0",
          "state": {
            "_model_module": "@jupyter-widgets/base",
            "_model_module_version": "1.2.0",
            "_model_name": "LayoutModel",
            "_view_count": null,
            "_view_module": "@jupyter-widgets/base",
            "_view_module_version": "1.2.0",
            "_view_name": "LayoutView",
            "align_content": null,
            "align_items": null,
            "align_self": null,
            "border": null,
            "bottom": null,
            "display": null,
            "flex": null,
            "flex_flow": null,
            "grid_area": null,
            "grid_auto_columns": null,
            "grid_auto_flow": null,
            "grid_auto_rows": null,
            "grid_column": null,
            "grid_gap": null,
            "grid_row": null,
            "grid_template_areas": null,
            "grid_template_columns": null,
            "grid_template_rows": null,
            "height": null,
            "justify_content": null,
            "justify_items": null,
            "left": null,
            "margin": null,
            "max_height": null,
            "max_width": null,
            "min_height": null,
            "min_width": null,
            "object_fit": null,
            "object_position": null,
            "order": null,
            "overflow": null,
            "overflow_x": null,
            "overflow_y": null,
            "padding": null,
            "right": null,
            "top": null,
            "visibility": null,
            "width": null
          }
        },
        "32438e01e7dd4bf6951bb766c8de6032": {
          "model_module": "@jupyter-widgets/controls",
          "model_name": "ProgressStyleModel",
          "model_module_version": "1.5.0",
          "state": {
            "_model_module": "@jupyter-widgets/controls",
            "_model_module_version": "1.5.0",
            "_model_name": "ProgressStyleModel",
            "_view_count": null,
            "_view_module": "@jupyter-widgets/base",
            "_view_module_version": "1.2.0",
            "_view_name": "StyleView",
            "bar_color": null,
            "description_width": ""
          }
        },
        "0e2659318c01410297dd2669a46d8910": {
          "model_module": "@jupyter-widgets/base",
          "model_name": "LayoutModel",
          "model_module_version": "1.2.0",
          "state": {
            "_model_module": "@jupyter-widgets/base",
            "_model_module_version": "1.2.0",
            "_model_name": "LayoutModel",
            "_view_count": null,
            "_view_module": "@jupyter-widgets/base",
            "_view_module_version": "1.2.0",
            "_view_name": "LayoutView",
            "align_content": null,
            "align_items": null,
            "align_self": null,
            "border": null,
            "bottom": null,
            "display": null,
            "flex": null,
            "flex_flow": null,
            "grid_area": null,
            "grid_auto_columns": null,
            "grid_auto_flow": null,
            "grid_auto_rows": null,
            "grid_column": null,
            "grid_gap": null,
            "grid_row": null,
            "grid_template_areas": null,
            "grid_template_columns": null,
            "grid_template_rows": null,
            "height": null,
            "justify_content": null,
            "justify_items": null,
            "left": null,
            "margin": null,
            "max_height": null,
            "max_width": null,
            "min_height": null,
            "min_width": null,
            "object_fit": null,
            "object_position": null,
            "order": null,
            "overflow": null,
            "overflow_x": null,
            "overflow_y": null,
            "padding": null,
            "right": null,
            "top": null,
            "visibility": null,
            "width": null
          }
        },
        "c76dea1956ca400b8145bd8bd18e2fb2": {
          "model_module": "@jupyter-widgets/controls",
          "model_name": "DescriptionStyleModel",
          "model_module_version": "1.5.0",
          "state": {
            "_model_module": "@jupyter-widgets/controls",
            "_model_module_version": "1.5.0",
            "_model_name": "DescriptionStyleModel",
            "_view_count": null,
            "_view_module": "@jupyter-widgets/base",
            "_view_module_version": "1.2.0",
            "_view_name": "StyleView",
            "description_width": ""
          }
        }
      }
    }
  },
  "cells": [
    {
      "cell_type": "markdown",
      "metadata": {
        "id": "view-in-github",
        "colab_type": "text"
      },
      "source": [
        "<a href=\"https://colab.research.google.com/github/HesamAsad/PyTorch_Tensorflow_Intro_CS231n_EECS498/blob/main/Deep_Learning_Software_cs231n_eecs498.ipynb\" target=\"_parent\"><img src=\"https://colab.research.google.com/assets/colab-badge.svg\" alt=\"Open In Colab\"/></a>"
      ]
    },
    {
      "cell_type": "markdown",
      "source": [
        "#Computational Graph \n",
        "![image.png](data:image/png;base64,iVBORw0KGgoAAAANSUhEUgAAAUEAAAJdCAYAAACs8sVMAAAgAElEQVR4nOzde1yUZd4/8M+aCQEjsuIIoyKeBtIABZFDEKQsaZpRPprsRmv2pKtrp5/l1la/3Kd8tnXzKTdXf9qmbu4uFo/GGqaxRhjEwQM4IAjDQRyVwwDpOANyw4a/P4aZmOEM93Hu7/v16vVqhpn7vuRiPnNd930dfnLnzp07IIQQmRoldAEIIURIFIKEEFmjECSEyBqFICFE1igECSGyRiFICJE1CkFCiKxRCBJCZG200AUYLp1Oh7q6Oty+fRvl5eXW5+vq6lFXVwtvlQreXl7W5/38/HDPPffA29sbPj4+QhRZtvqqK21FBUxGI9WVSDAMg4aGBtTV1eH777+HTqez/qy3unJxccGUKVPg4eEBDw8PydbVT6QyY0Sv1+P8+fMoLS2FVqvt83XOLm7wmjIN9Vcvo63V1OfrgoOD4efnh9mzZ0OpVHJRZNnS6XQoKSlBSWkpKqiuRE2r1aKqqmrAuvLw9IL7+AmDqqu5c+di2rRpkqkrUYegwWBATk4O8s+cQV1trfV5b58ZmKCaAk+lCh4TJsJVMRaubmP7PE5HO4MbzY240diAJn0tGmuvok5X9ePxVCrExsRg3rx5cHd35/Tf5Kj6q6vJ09RQuHvAY8JEeIyfgLvHOPV5nBbTLbQYb/VZVyqVCjFUVyOi1+uRlZWF3NxcGI1G6/OWuhqv9IbrWPch19XVyjLcaKq3/lylUmHx4sWYO3cunJz6Po7QRBmCOp0Op0+fRnZ2tvU5v6AwTFPPweRpM/utmMHqaGdw7XIlLmtLUK7Jtz4fFRWFmJgYyTbt+abT6XDixAkUFBRYn2O7rlpMt6C/frVHXcXHxyMuLo7CcJDs68rZxQ3qwPlQTZku67oSVQjq9Xp8/vnn1kry8PTCvMiFmO5/HysV1JeOdgbVZRdRmJNh/SYLDg7G6tWrRVlpYmD/gfLw9ELYgw+z9mHqS0c7g0uacyg9n2OtKzF/wMRAp9Ph+Jdf4kJhIQBziy8oLIbzumox3ULVpWLR15UoQpBhGGRkZCA1NRXAjx+oaX5zeC/L5fIS5H/zpbXSEhISsHDhQlE35/nEMAzS0tKQnp4OwPyBCn0gHpN8Z/JeFvu6SkxMREREBNVVF4Zh8Nlnn1l7VL5+AQiJioPSezLvZeleV24KBR5ZtgyxsbG8l6M3goegTqfD/gMHUFdbC2cXN8QuXSVI+Nm7XF6CzOOfoa3VBJVKhaefflr2XWStVot9+/bBaDQK+kVlr7zoPHJOHbPW1YYNGyRzUZ4rWq0We/ftg6mrrqIXPybIF5W9orPf4XxWOtpaTZilVuOppCTB60rQEDxx4oS19RcYHosFD8Rz2jwfqo52Bpr8LJw9fQKAuaUhlm8vvnWvq9CYJQgKixZdXWV99U/rdSi51pV9S12MddViuoX8b05a62rt2rUICwsTrDyChCDDMDh48CAKCgrg7OKG+MeTRPEt1ZfrNZVIP3oIba0mBAcHY82aNbLpcjEMgw937UKFVgtnFzcsTXxWkO7UYHWvq/j4eCxbtkyWdeXh6YWFjyaKuq6697bi4+OxYsUKQcrBewh2ryhvnxn42eNP9ju8RSxaTLfwr6N/Q52uCrPUajy3aZPDf7j0ej0+OXTIWldLVz8jqhZFX242NyLzeIrs6mr79u0wGo3w9QtA3KOJkqmrkykHcaOpHmq1GpsEqCteQ7B7RfkFhSH6oUclUVEWHe0MznybjqK8TIf/cHWvq8DwWNwf94jQRRqSjnYGp/6ZjJryYlnU1R+2b4dJwnV1/PDHgn1p3bV169atfJyIYRh88MEHaG5uRmB4LGKWPI677pLWrL277hoNn+l+aG9vxyXNeVRWVSEkJASjR0vr3zEQqX+oAHNdzZozl+pKAu66azRm3BuI75v0qNZe4r2ueAlBSxf4Sk2NZCuqO0cOQoZh8NFf/oL6ujqqK5FjGAZvv/22pAPQ4q67RsN31r2ou1qDK9WVaGhowPz58/k5Nx8h+PHHH6Pk4kX4BYUhZsnjXJ+OFz7T/WA0GKAtLYLRaERQUJDQRWLFBzt3okKrlfyHqjuf6X64XlOFK9WV+OGHHzB79myhizRiloZFnYN8WQE/tgjrrtagoqwU7e3tvNQV50tpZWZmoqCgAN4+MxD90KNcn45X0Q89Cm+fGcjOzkZmZqbQxRmxEydOWG+COMKHqrulq5+Bt88MpKenIz8/f+A3iFxaWhoqtFr4+gU4VF3dPcYJS1c/A2cXN6Snp0Oj0XB+Tk5DUKfTITk5Gc4ubvjZ409K6ibIYNw9xgk/e/xJOLu4ITk52WbpIanRarVITU01D4NZ/YzQxWHd3WOcELt0JZxd3LB//37o9XqhizRsGo0G6enp8PD0QtyjiUIXh3V3j3HCY7/cBAD45NAhGAwGTs/HWQgyDIMDBw4AAOIfT5LEMJjhcHUbi/jHkwAABw4cAMMwApdo6BiGwb59+wAASxOfdbgvK4tx4ycgMm45APOHS4oMBoO17ItXrnHoulq4/OcwGY34R3Iyp+fiLAQzMjJQW1sLv6AwUQ+EZsMk35nwCwpDbW0tcnNzhS7OkKWlpcFoNCI0ZomoB9eywS8wBL5+AajQaiV5CePYsWMwGY24/6HHMW78BKGLwylLXV0oLOT0EgYnIWgwGKxdK0e7DtiX6IcetXaLuW6+s0mn0yE9PR3OLm4ICosWuji8eGDJ43B2ccMXaWmSq6vs7Gx4eHrh3iB+7pwK7YGuG6kpKSmc9bI4CcFjx44BACLjljtsc93e3WOcrF2tU6dOCVyawTtxwjwvOnbpKtnUlavbWIREx8NkNEqqro5/+SUAIHrxY7Kqq/sfehxGo5GzXhbrIajX663fVn6BIWwfXtT8AkPg4emF9PR0SbQwdDodCgoK4OHpJYrVYPh0b9B86x1IKdSVRqPBhcJC+PoFOPzlJXuWuvoiLY2T1iDrIZiVlQUACHvwYbYPLQmWf7cUWhiWVqAc6+ruMU4IiY4HII26yulqBYVExQlcEv5Z6srEUWuQ1RA0GAzWW/dya1lYTPObY20NivlOscFgkG0r0MLSwsjJzRV1Xen1elwoLIS3zwyHv3HVF8s10LS0NNaPzWoIFnYt3z07JJLNw0qO5d9/4cIFgUvSt5ycHADAvMiFApdEOHePcUJAaDRMRiPKysqELk6fLL2roLAYgUsinLvHOCEwPBZGo5H1AdSshuDp06cBADPuDWDzsJJj+fdnddsoSmzyz5wBAEz3v0/gkgjr3nkLAIi7S5yTmwtnFzfZttgt5swLBwAUFRWxelzWQlCv16O2tha+fgEOOzB6sFzdxsLbZwYqtFpRXnTX6/Wo6xrDKZe7jH2x1JVWpHWl1WphMhqhDpTHkJj+jBs/AR6eXsjOzmb18gVrIXj58mUAwHQ/ebcCLe6da14uXIzdrPPnzwMApqnl3bKwmH6vefGLmpoagUvSU3FxMQDAd+a9ApdEHGbOmQcAuHLlCmvHZC0ELde/Jk+fxdYhJc3ye9BqtQKXpKfS0lIAwORp8hpq0Ref6WoAQGVlpcAl6enixYsAILthMX3xnuILAKiqqmLtmKyFoOVOo9y7whaubmPh4emFCzysgjFU2q6VYuTeFbYYN34CnF3cUNwVOGLBMIz1EhMxs3wZlHR9kbOBldUlLStyKCdNZeNwdgwo3fsMfrHtK9unw3+Pvx/YiNmug8zxTh0yfrMSmz/t/subjYS9KXhziQ8nU2eUk6aiXJMPvV4v+LaCFpaVbiaoprB/cONp7HxwGQ52W6BlwoY0HH0tBm7DOFxn9SfYFPtr/Dgy7DG8lbkPCdOdR15WO15TpqGmvBgMw4hmGf6GhgYAwCRfjnpXPxTir7EP4AP2epZd1mLHuR1YqORm8VrL9Xa2sPLZv3nzJgDA02sSG4ez447ZT/4X3lpht7hi3k68/7cCtA7qGAaUfvR/7AIQmPDE69jwEDcBCPz4+7D8fsSgrq4OAOCpVLF/cMV9iFwx1+apxiOZuGTsHMbB2nD17CnYDI19IA7zfNkPQODHoLEEjxhUV1cDAMZPmChwScTF8gXO1tJ1rHz+a2trAQBek7loCQJwnY3lv3kdCTaNqXqc2/YO9ufUof+PWCdaiw7hffuWpHIdXt28GEoOV1S0/PFafj9icPv2bQCABycfrPEIeeJZRHR/Sv83HPiycoA66kXLRWQe6R6BXoh4JBxTOKovxdhxAH78khCD5uZmAMDdTtwEv1Qp3H8KALhx4wYrx2PlT8pSWVwa5bUYG95eB9vFg77Gx8+/h8z69r7f2FKAlHd24pzNk4vwzJ9eRqzXGC6KamX547UEjxiUl5cDAFwV3Fy7HeUbjvgHvLo9U4/cL/JwdUgp2AmT5jj+nlff7bkIxIdy12p3HesOQFx11dTUBADSmyUSPgteg71MNQyWxhZbIchKp52fyhoD5UMv4NUnsm27tfp9eHdHDO77w/JeWnUGlP7tXXxg82HywvzX38DaSG/O9xaw/D7EuOI0ZzewRvlg3iMRwLef//jct6dQWLMKUwd9Le8GLp0+hcZuz0zY8AziOLgWaDGm6yYRH1/oonHXPPwyy4hfDuvNt1Dz6WtY98onNvUE5Trs+NO6wV+rFwHplBQARvkgdrN9txho/HQb9nyls+tytaMpZ3fPbnD4C3jpyWC4cFxU+XLG1IefwRqbOspF+ln7+umH8SJyjnSfcjgXS2PuG9bNlcGyLFBq+UIXA21FBTw8vQZ+Ie/a0ZTzZ2zrEYBP4a1P38JCjntYli+sq1evsnI8aYUg+uoWlyL1zZ023eLO+pP48/P/bdcNfggvvpEkqW8pSepxg2QoXeJOmIozcbz7FiDKOEQGeLBbRgkwGY1wF93q0Z1oLdqH11bbf7YW4Zk/vYHlM7gfImf5wmptHdxt0YFIMA3GQLnk/+KD1x+yfVp/DMn/LDLfLe7UIXPHNqTa7KUzG8v++F9YGejOX1FlywP3xsTZflF9ewyZFwczLa2XrvCKWNyrkOCfqsPpRGtVMn6/9jW7AJyNZX/8b14uMXFBimWGedjMq3gx3PYC/Llt7yKlqBH6r3bi3V6Gwzy3cjZ1g3kxCm7hidhoc4PkK/z9+AWYBnhnZ/VxHNjDb1eYDE6n/jT2v7YVaTaNCy/Mf/3PeO0J6X62JBqCAFyDsfKNF2A7rfwrfLD1l3j9zX09LtZyPRyG2LHcIOlm4DGDvY0NfBYJ4eO5KKHouSkUqL96WehimLWcw6FN6/CxzU1GYMITO7Dt2fm8BuDNZvOn29PTk5XjSTgWRsElMAkv2XeLz2XhnF03OOHtFzgfDtObjnbxLtTJPWdMCY2zGzN4CjnF/Qxr6NSh8Av+xgZ2p6+7BoC9DxYb1LNmoa11oLYzDzp1yNj6a7tRFsCEFf8P+7Yu471x0d71uRo/np0vR1aK7+PjA+DHPyT+9NYttsX1rJD+3Oj6xvLz8xPg7L1zcTF/Z7eYbnF+rlHTl+LpDd1vkFzA8dMX++wSd9bkIf1b/sYG9oatD5bD6KzD2fee7zHbCuG/xbbXVsJXgJuMHUwbq8dj5V9wzz33AGC/cIPiOh9Jf9rRY9gMACD89/hAgG8qC0F+HwOYMsU85ajFyH0I9naDpPHIMZzpdXA7v9Pk7N1oNE+Xs/wti4FwjQuLW6hJeQev7/ra9mnlU3jr979GqJL/3hUANHfVlUrFztRPVuLBUhhL4Xg3SoHx03tpDVZfRr3x3/yXp4vl9zF9+nTBymDPw8M81OQGL3U1Cm4BsVja/QtKfwz/e7qm55jBHl3h2Uj4RSwvXWEAMBrM3XRvb29+TjgIlkBuuSXEYq/t0J/4Xc/B0HgIL+7/byTwMBSmL0bD9wAAZ2d2viBZ+RObONE8D7Wp/jobhxuaTh0y//hqjwu2ALpmk5yEfjjz91lwvaYCAODuLp5hOZYQbNLzNJ9ZEYaEVx7r9kRvYwY7YcpLxu7uXWHlw3g4ajJvXeHGenNry/K3LAaWL89mPd/zmdvRlLMDr6+3u8GI2UjY+z9IEniYWWOteZC0paU8Uqz8jbm7u8NNocCVihI2DjcE7b0Oh+mu99kk/Ki/ehkKhUJUIWj5w7laydeK173cIPn2FAprul8qEH5sYE15MVQqlWiW0QJ+DORrl/lcmLcTrVUp2NljosFsLPvjAbzC0bJzg9XRzqBOVwW1Ws3aMVn798wNCkJbq8l6+5oPnfUnsafHcJhwzJ/fvWvcczYJH242N6Kt1YSgoCBezzsYwcHBuNFUz8vNEaC3RRXsptEJME2uO8s1t/vuE9emU05OTpilVqNOV8XbSIPO+jT88Ylf9RwLuOldvCCCcbb6rlbg7NmzB3jl4LEWgpZkbrjO02IBfcwKSXj7I7y/1W78oH4f3v1DCmpa+GsP6qrN395sfmOxxXK3+lp1BT8nHDUTcRuf7HaDpHuXWPhpcrquVvHMmeJbwn5O14f92mUelv5vOYdDz2+2+0wBE1Zsxeu/joGnCAbU1VReAgDMmDGDtWOy9s/y9/cHAFy6kM/WIfvR3yKpvnDrZfxg45Gt2DboRVhHrvqSeVl9y+9FTCzfotevsLdPQ/96uUFi7RLbd4W9EPFKIkJ47ApXlpj3yxZjXYWEhAAALms5vtTUUorUN3qOBUT47/HBO4mCDIXpjbboHNwUCnF2h93d3a1Nd267WX0skhr+W2x7xTIrpL9pddzfabvZ3Gi9biGm64EWSqUSKpUK5Zp83rrEPRdV6OoS9+gK8zs2UF93DTea6hEVFSWq64EWSqUS3l11xVmXuLMOZ//8W/zuiN21dZEti3W9phJtrSZERkQM/OIhYPVfFx0VBQC4VHiGzcPa6nWR1Ifw4hsbbcct9TWt7p1DKOW4W1xZam4FxsXFcXqekYiJiQEAVF0q5umM9qtOm7vENVUXcKp794vHsYEAUNHVCgwMDOTtnEMVtsC8QXx1GRcbQRlQ+tFzWNfbWEAelsUaivLiAgBAQAC7G0+xGoJz586Fm0KB4rNZHH1r9bVI6qu9rA7Tx7S6Ie1NMnQd7QyKz2bBTaEQZffKYt488/6tpedzeDtnjxsk3x7Ggb9+hR+HAvM3TQ4w11VRXiYUCoUob2BZREZGAgAKczJYPvIt1Hz6W7xo36vicVmswWox3UK5Jh8qlYr16+ys/rk5OTkhMiICba0mXNKcG/gNQzKcRVL57xZf0pyzNtnF2L2ycHd3R3x8PG401eNyOU9Dm3osqpCFtCNZPz5ULsd/xPjy1hW2/I0uW7aMpzMOj7u7u/WOPnt11cfCqFiEZw7vwUaRLYt1Ie80AGDx4sWsH5v1f6elC3g+K53V1uCwF0l1DcaKF5+0W4T1K3yw9r+QwfKwmY52Buez0gGIuytsYSlj/jdf8nTG3lad/tGEFcuxgKful6Wu3BQKRLB8jYkLS5YsAcBiXf1QguO/sf88AcDX+Hi1GiE+CswbyX/RO1H6AztFbTHdsrbY586dO/Abhoj1ELS0MFhtDY5okdRRcAt/Gq8+YTeuiIPZJJZWYHx8vChviNjr3hosOvsdPyftZVtOM37HBp75Nh1trSY8smyZqFvsFj4+Phy0BqXB0gpcxlFdcdLiXbZsGdwUCnz31VEW7j72PitkSIukDmlvkuFpMd3Cd18dhZtCIfruVXfdW+783CnuZdVpgNexgTebG60tCym0Ai0ee8w8/TDz+GeyWaZNX3cNRXmZUKlUiI2N5eQcnISgk5MTHukKgm9PHB3BkcxTeD5kYZHUwe5NMlyWf+eqlSsl0bKwcHd3R2JiItpaTcj/5iQPZxwFt7Dl+IXdFtV8TpPLPJ4CAEhKSpJUXSmVSiQkJKCt1YSsr/4pdHE419HOIOOfyQCAxMREzs7DypabvYmNjcW58+dRUV6M8qLz8AsMGcZRRsFlxi/w9rlf4O0Rl2gMlEt2IF23Y8RHsld09jvUlBdjllqNsLAw1o/PNUtdlWvyMU09B9P85nB6vs4rxci/0v2Zx7DxiTBeusJFZ79Dna4KwcHBor4j3JeFCxfizJkzKNfkwy8gGJN8hznLZUTbbfJDk59lHcPJ5cwrTr96n0pKgptCgYxj/+B1TjGfbjY3WrvBz/7nfwpdnGF7KikJgLmrxW1dCbduoL7umrWuVq9ezfn5uODk5ISnn34aAJB+9BB/g915drm8BGdPn4BCocCqVas4PRenIahUKq0frs//usvhrmN0tDP4/K+7AJhDRAo3Q/qiVCqxdu1atLWacDLlIHd11XIRmUf4XzfwZnMjjid/BABYv26dpOvKx8fHegnjX0f/5nCfq5vNjcg8/hkA4Pnnn+f8kgXnF2GCgoKsd4uPH/7YYSqso53B8cMfW+8GS7FrZS8sLMx6t5ibuuqESXMcf8/jd93AjnYGmcdT0NZqQmJioigXtRiq2NhYREVFoU5XhVNd180cgaVh0dZqwtq1a1lbM7A/vFyJXrFiBYKDg1Gnq3KIILQEYJ2uClFRUVixYoXQRWLNsmXLrHPAWf9wtRTgyAd/43WxhO51FR8fz9kdRiGsWrUKs9Rq1JQX47tTXwhdnBGzb1jwdX2dt0Hha9assX64pByE3T9Us9Rqzq9X8M3JyQnPbdpk/XCdGEbXuFNfijJ99zvut3Al5xPsfDrRdsqj8kk8/fBMzv4Iu9dVcHCwQ31ZAbZ1VZSXKekgtP+y4rOufnLnzp07fJ2MYRh8uGsXKrRaePvMwNLVz+DuMdIZotBiuoV/Hf2bNQCf27RJUkMshmJEdaU/hjfn/wJp/b5oNhL2puBNjlYqNl9XSrEG4Jo1a6iuROpmc6O1C8x3AALAXVu3bt3K18lGjx6NkJAQNDQ0oKKsFKWF+Zimvg/OLq58FWHY9HXXkPrXXbjZ1ICoqCisffpph/1QAT/WVVVVFa5UV+JyeQkmT1MPrq6cW3E19QDy+pye7YX5m3bitafmwvUnbJbaTF93Dcf+9v9ws6kB8fHxSEpKwujRnI0GE5ylriq76qruag28JvtK4nN1vaYSxw//RbAABHgOQcBcYfPnz0d7ezvKyy7h4rlsON3jhomTuL8AOlxFZ7/DVykH8O+OdiQkJGDFihUO/aGyGD16NCIjI9He3o6SYg0unsvG2HGe8Jw40FaHRtR8cwynr/S2w7AX5m/ah9+//CAnKxV3r6vExEQ8/PDD7J9EhCxB+MMPP0BTcA6VpRfg4jp2EHUljI52BoU5mfjmi2T8u6Mda9euxc9+9jNBysJrd9ieRqPBJ4cOwWQ0wtcvABELl2Lc+B4TqgTTvUvlplDgqaQkh7gLPBz5+fnYv38/AMDXLwAPLHkcrm59LbV0C1dyUpH6wds4aL0GOBvLXn8ZiyKi8UCgF+tdYPu6Wr9unUPcBR6OodUV//R115Dxz2TcaKqHQqHA888/z8td4L4IGoIAYDAY8I/kZFwoNC9uGRqzBEFh0YJe0+hoZ6DJz8LZ0ycAmDcmWr16taTHlrFBr9fjk0OHUKE1759y/0OP496g+YLX1Zlv01GUlwmA6sqie105u7ghJDpe8LpqMd3ChbzT1rqKiorCqlWrBL+sJHgIWuTn5yMlJQVGo1GwSutoZ3BJcw7ns8wrjCgUCqxcuVKSU+G4lJmZiS/S0mASsK5aTLdQdanYpq6SZNxS74tY6qp7+HmrVPi5iMZriiYEAfNdroyMDKSmpgIAnF3coA6cjznzwjntJt9sbkRJYZ61ktwUCjyybBkiRL4wqpAYhkFaWhrS083rJ/JVV/q6a6goKaS6GgKDwYBTp07Z1FVAaDRmzg7itK6u11SipvKSta4UXSssia2uRBWCFgaDAYWFhUhLS4PRaAQAeHh6YeacefCZ6Q+l9+QRn0Nfdw26yjJUlhTiRpP5upVYK0nMDAYDcnJycOrrr2HiqK6u15jveFJdjYwlDHNyc6115e0zA9PvDYLPdDUrgdhbXXmrVIiNiRFtXYkyBLvTaDQoKipCdna2zfO+fgGY4DUZCncPeEyYCADWD9zN5kYU5HwDv4Bg3O1knph/o7EBRsMNNNZfQ0257eZCUVFRCAwMpK7UCDAMg7KyMuTl5aGgoMDmZ73VVcstAy5rSxD24GLrRXvLJuhUV9yy1NWpU6eg7bq+a+HrF4BJvrOgGDsOrmPN11Xtv8g62hnc6Fpkw1JX1y5rUaez3cI1KioKYWFhoun29kX0IWhhqbjKykoUX7yIutraYR9LpVLhvvvuw8yZM+Hv7y/Kbycpo7qSDoPBgJqaGhQVFaGqunpEdTVLrcY0X18EBARg6tSpkqkryYSgPYZh0NDQgLq6Oty+fRu3b9+GTqcDAJSUlIBhek718vT0xJIlSxAQECD7u4d8MRgMKC4uxokTJ9DU1NTj505OTpgzx7x+oY+PD+655x54eHjAw8MDEydOlMwHyVHYf66am5tx+vRp6+fJUl/2dSXkEJeRkmwI9sVgMOAvf/lLj2a+PUu3iloX3OjrMoY9R5/SJnUajQa7d++2PhZqVgeXHC4ELSw3V06fPo3afpr4ln0mQkNDJf1tJgZ6vR5ZWVnIzc213tDqjUqlQkxMDObNm0ctcpHbu3evzTXe7du3O1ydOWwIdqfT6XD27Fn6cHLAYDCgrKwMJ0+epC8bB6PX6/Hmm29aHwcHB2P9+vUClogbsghBi/7uYNoLDg5GeHg4dZf7MJTuLv0epenIkSPWsYUAsHnzZtHf6R0OWYVgd4NtwQDm6yABAQHD/gPQaDSorKzkbN/UoZTj1KlT2Lx587DeT91d+TAYDNiyZYv1sUqlwltvvSVgibjj+Euh9MHd3R1hYWEICwsb8MOdnp6O9PR0qFQqLFiwAJGRkUP6cFtaTDU1Ndgk0BqE3SfV6/V6KJXKAd5hRt1deSrsmstvkZCQIFBJuCfblmBfBtvNU6vViIqKwty5c/sNNYZh8Pzzz/o/DcQAACAASURBVFsfq1QqbNiwYdAhxAb7bs1g7vBRd1e+GIbB66+/bm0QKBQKbNu2zWHrl0KwDwzD4MKFC8jOzh7UcJu+RsZ3b4FZKBQKrONhqSeGYXDw4MEe1z8VCgXee++9Hq+n7i4Beg6LSUxMdKi9WexRCA6CXq/H+fPn8fXXX/cbDgqFAosWLUJISIi1pbdjx44+Q3Tjxo2cTf8aaLyk5dzU3SX2fve739n8LTjisJjuKASHSKvVIj8/f1Dd5YCAABw5cqTf13Ex+FSv12P79u39Bra/vz88PT2pu0tsaLVa7Nixw/rYEQdH26MQHKb+JqEPFZuzJjQaDQ4dOtRvAA6EurvyZT84+u233+b1+rUQZHt3eKScnJwQFBRk7VLm5OTgzJkzAw636U1BQQFMJhP+8z//c0Sh09v1x8Gi7i4xGAw2ARgcHOzwAQhQS5B1Wq0WxcXFyMrKwu3bt4f0XoVCgS1btgzrD8/+DvBgUXeXWNj/DXF5zVpMqCXIMrVaDbVajR9++AFff/31kN5rNBqxffv2IS0TzzAMdu3aNewu+WOPPSaLb3vSP4ZhbAJQpVLJIgABcLLvtewxDDPkALQwGo3YvXs3MjMzB3ytXq8fUQACQFZW1rDfSxxHbm6uzePFixcLVBL+UQhyoKysbMTHSE5O7vfOsuUO8Ehvytj/8RN5SktLs/6/QqHA3LlzBSwNvygEOXDq1ClWjpOeno4dO3b0WCBWo9HgzTffHNEdYAuj0QiNRjPi4xDp0mg0Nn9LixYtktX1YQpBlhkMhhG3zrrTarXYtWsX9Ho9APMWit1H87OhqKiI1eMRabH/0o6MjBSoJMKgu8Mj4Ihrq9nbu3ev0EUgHNLpdNi2bZv1cVRUFJKSkgQsEf+oJUiIjJ0+fdrmcUxMjEAlEQ4NkWHB5neeE7oIrNvxxodCF4FwzGAw2EybVKvVshwoTy1BQmTK/lpgXFycQCURFoUgITLEMIzN8Cg5DY62RyFIiAzZrxkpx2uBFhSChMiQ/Q2RiIgIgUoiPApBQmRGo9HYrHYUHx8vq8HR9igECZGZvLw8m8dyvSFiQSFIiIzodLoeawbKfeFcCkFCZOTs2bM2j5csWSJQScSDQlD06pG+6WH4KQPM/206hUahi0QkyWAw9FgzUI6Do+1RCBIiEzk5OTaPHXlD9aGgEBQ9J4ydqLA+mnKvN34qYGmINNkv9KtQKGQ7ONoehaDoOcHtp65CF4JIXFlZmc3g6GXLlglYGnGhEBSRzpoz+PyLLFxs6Oj27F1w8/Do+v8pCPEdj7u6v6ehBF//4zOkV9kuvEpId6mpqTaP582bJ1BJxIdWkRENBrqcT/Hqi+kAJmDBc7/GmuUP4MGgn8LVOoRBgQnuTgA60Kg5jWMf7cb2zyoATEDUB6GImzGNvtVID1qttsfgaLkPi+mOQlAsOmtxLrWw60Ejzny4FWc+BJSrNuO1e9ugBKBHBxo1X+K99z7GRznd7xE3Ijv1AnSrp8GXUpDY+eabb2weR0dHC1QScaIQFInOyxdwIrPn4Bf9ZzvwkvVRBVJ/927vB8jMxrnLD8N3hnynP5Ge9Hq9LDdUHwoKQZEYNeMxfFSsxjfn6vCDoRiHXtyPM4N4n3LVZry+ZCrG+YcinAKQ2LHfUvXBBx8UqCTiRSEoIqMmzsGipXMAxCH+5y8BuIG8t3+FX35Y2u1VE7DghW34n9ciMIG6vqQfvW2orlarBSyRONHHSLQ60Jh9GH+2CUAAaMSZnQdxKEePTkHKRaRCzhuqDwWFoCh1orXyS7y3YXdXl3gW/uNAClLeeqDr5znYu2EXjlaahCsiET05b6g+FBSCItRZn4Ftj72B1IauJ2KT8OwSfwSu+RW2RE4wP9fwOV5/bCfS6zv6PA6RL7lvqD4UFIJi01KMA7/6b/yvJQDxALa8Hmce+uI6B4m/exoLLD9qOIznfvUX5DVQEBJb9oOj5bah+lBQCIrNPV4IS3ykK+gmYMFbv0JikGXu8Ci4BCXgN9ZucSSeTYzCjAl3C1JUIk46nY4GRw8B3R0Wm1ETcN8TL2Dv/ADsfr8Bi9fMgYvNCxS4b82vsOXSbEx56ZeIn+EmUEGJWJ04ccLmcWhoqEAlkQYKQVEaBZcZcXh5Vx8/dg3AM7sCeC0RkQaDwdBjcDStGdg/6g4T4kDsN1QPDw8XqCTSQSFIiIOgDdWHh0KQEAdBG6oPD4UgIQ6i+4bqCoVC1huqDwWFICEOwH5D9YiICBocPUgUgoQ4APsbInLfUH0oKAQJkTidTgetVmt9HBUVRYOjh4BCkBCJs99QnW6IDA2FICESRhuqjxyFICESRhuqjxyFICESRRuqs4NCkBCJunDhAm2ozgIKQUIk6uTJkzaPaXD08FAIEiJB9oOj4+PjaXD0MFEIEiJBeXl5No9pQ/XhoxAkRGJoQ3V2UQgSIjG0oTq7KAQJkZDeBkfThuojQyFIiIQUFhbaPKbB0SNHIUiIRDAM02NDdX9/fwFL5BgoBAmRiLKysh6Do2lYzMhRCBIiEfYbqs+bN0+gkjgWCkFCJIA2VOcOhSAhEkAbqnOHQpAQkaMN1blFIUiIyNGG6tyiECRExBiG6TE4mtYMZNdooQvgCHa88aHQRSAOKjc31+bx4sWLBSqJ46KWICEiZr+h+ty5cwUsjWOiluAI7N27l5fzrF+/XpDzEmHRhur8oJYgISJFG6rzg0KQEBGiDdX5QyFIiAh1vxYI0IbqXKIQJERkDAYDsrOzrY/VajUNjuYQhSAhIkPXAvlFIUiIiDAMYzM2kAZHc4+GyIhIfn4+9u/fP+Dr7IfMWPzpT3+iIRQSZ7+hOl0L5B61BEVkJKsE076zjoE2VOcfhaCIuLu7Izg4eFjvDQgIYLk0hG+0obowKARFZjgrhCgUCtpxzAHYb6hON0T4QSEoMsPpEi9atIiDkhA+6XS6HmsG0uBoflAIioyTkxPi4+OH9J6QkBCOSkP4cvbsWZvHS5YsEagk8kMhKEJDub6nUqmgVCo5LA3hWm8bqtPgaP5QCIqQWq2GQqEY1GtpfTnpow3VhUUhKFKDvc5Hm29LG22oLjwKQZEazHU+ungufbShuvAoBEVKqVRCpVL1+xracEf6aEN14VEIithA1/uo2yRtWq2WNlQXAQpBEesv5Gg2gfR98803No+jo6MFKom8UQiKWH/T6GianLTp9foeg6NpqJMwKARFrrfrfjRNTvqysrJsHtP1XeFQCIpcb11imiYnbbShurhQCIpcb9PoaJqctNGG6uJCISgB3a//0TQ56bMfHE0bqguLQlACuk+jo1aDtGk0GpvB0YsWLaK7/AKjEJQIy3VAGhsobfaDoyMjIwUqCbGgPUZEiGEYNDQ0oK2tzTqYtqOjA5MmTbJOtr/nnnvg7e0NZ2dn6h5LhE6no8HRIkQhKAI6nQ7V1dUoLy+HtqICpm7dJXvJycm9Pj9LrcY0X1/MnDkTvr6+9OESIfsN1UNDQwUqCemOQlAgWq0WxcXFyMnNtQk9Zxc3+PoFYJLvLACA1+Spvb6/5ZYBxls3YTR8j1s3mlFRXowKrdY69EKtViMqKgr+/v4UiCJAG6qLF4UgjxiGwYULF3Dy5Elrt8jZxQ2B4bFQTZkO5aQpcHUbO7iDeU/u8ZS+7hrqr11B9SUNtFottFotAHO3KzQ0lD50AqIN1cXrJ3fu3LkjdCEcnWVD7bS0NOudQb+gMPgFBGOS70xOztliuoWqS8UoPZ+DG031AMxTs5YsWUJhyDOGYfD6669b616lUuGtt94SuFTEgkKQYxqNBocOHbJ+AALDYzE3PGbwLT4WXC4vQVnRWdSUFwMAoqKisHz5cuom8yQzM9PmWm5iYiJiY2MFLBHpjrrDHDEYDDh8+LB1krwQ4WcxzW8OpvnNwfWaSmSd/BzZ2dm4oNFg1cqVCAsL4708ctP9hohCoaAN1UWGWoIc0Gg0+OTQIZiMRnj7zEDs0pUYN36C0MWyKjr7Hc5npaOt1YTg4GCsWbOGBuxyRKPRYPfu3dbH8fHxWLFihYAlIvaoJciyI0eOWO/Q3v/Q4wgMvV/gEvUUGHo/fKarkXk8BQUFBaioqMCWLVtovCEHaEN18aMZIyxhGAZ79+5Feno6nF3csOKZl0QZgBbjxk9AwlMbERqzBEajEW+++SY0Go3QxXIotKG6NFAIsoBhGHy4axcKCgrg7TMDT276LZS9DGERo/nRcVi8ci0AYPfu3RSELKIN1aWBQnCELAFYodXC22cGlq5+BnePkdb1tWl+c7DimZfg7OJGQcgS2lBdOigER6B7APr6BUgyAC2U3pPx2C83URCyJCcnx+YxbaguXhSCI5CWlmZtAcY9mijZALQYN34C4h9PAmDuGuv1eoFLJE0Mw+Drr7+2PlYoFLRytIhRCA5TZmYm0tPTJdsF7ssk35nWa4Tbt28HwzACl0h6Lly40GNDdSJeFILDoNPpkJycDGcXN8QuXekwAWgxzW+O9a7xwYMHhS6O5Jw8edLmMQ2OFjcKwSFiGAYHDhwAAMQuXSWqQdBsmh8dB2+fGSgoKEB+fr7QxZGM3jZUp4Ho4kYhOEQZGRmora2FX1AYpvnNEbo4nPrZ40/C2cUNn6WkwGAwCF0cSaAN1aWHQnAI9Ho9UlNT4ezihuiHHhW6OJxzdRuLkOh4mIxGHDt2TOjiiB5tqC5NFIJD8PnnnwMwd4Md7TpgXwJD74eHpxeys7Oh0+mELo6o2W+o/uCDDwpUEjIUFIKDZJkC5eHp5fDdYHsLH00EAJw4cULgkohXb4Oj1Wq1gCUig0UhOEiWAAh78GGBS8I/pfdk+PoFoKCggFqDfbBsgGVBg6Olg0JwECzXeuTYCrQIDI0C0HOzIGJmv6E6bY0qHRSCg2C51iPHVqDFJN+Z1muDdKfYFm2oLm0UgoOQm5sLZxc3TJ7GzX4gUjEvciEAoKysTOCSiAttqC5tFIID0Gq1MBqNUAfOl80d4b5Mnm7eBjSr29aRckcbqksfheAAiovNmxP5zrxX4JIIz9VtLLx9ZqBCq6UucRf7O+a0obr0UAgOoPjiRQDgbGtMqZl+r3k1lJqaGoFLIjyDwdBjcDStGSg9tMdIPwwGA+pqa+HrF8DzmW/hSk4WqgytuJr+Hj44UtrLa2Zj2esv40Efd3iFxGK2cgwvJfOZrsZ3ACorK2W/PJT9hurh4eEClYSMBIVgPxoaGgAAk3xn8XPClkqcTfsE+155H+cGfHEp0rathXlghhfmb3gbLz3zOOdhaFkw4uLFi7LeNY1hGOTm5lofq1Qq2X8pSBV1h/thueDtNXkqx2dqR9OFfXgzZh7WDSoA7dXj3J5n8YuHX0Jq1S0OymfL1y/A5maAHOXm5toMi4mJiRGwNGQkKAT7UV5eDgBwVXC5YXonWov24bXlm5E20oWc9Z/gd699gtKWTlZK1pexHuMBQNazR2hDdcdBITgIrm4chmBLAVLe2dmz9adMxIt7DmNf5nUU6oy2/10qxL69+/Hiitk9j5e3E7vSKsFlDCrcf8rh0cXjyJEjvQa9RqOxaQlHRETQ4GgJoxDsh2WqHHfacCXtT/ggr9726fDfYt+Xu/DLpUsROr2XAHadidAlK/HL9/+F1L0vY77ND+uR+0UernKYguMnTAQAVFdXc3cSEUhPT8e2bduwd+9em42n7G+I0Ibq0kY3RgbgzuXK0Z06FH6Ra/ucch12/GkzQgd1g2Mspi7ZhHUbTuHcngs/Pl12GfqWTkxVcPMdd7eTMyfHFauCggIUFBRApVJh/vz50Gq11p9FRUXR4GiJo5aggDpr8pD+rW0rcMKK5VjgNZQ7vB64NyYONlGt/x7G29xeF3R0vXWDa2treywuSzdEpI9aggIaNf0p7L4UibPflsLYeRnfvPW/8Iy5D25DOwrucRsHuiIljNOnTyMmJoYGSUsYhaDQXGcidIl5NsrCpS8IXBgyVNnZ2cjOzoZarUZcXByNFZQgCkGpaqk0tyBvnUPyK+/jmtDlkTmtVgutVguFQoF169bRqtISQiEoau1oKspE0fU288POy/jmrTdGPp6QDGi4d769vb0xdSrXg+sJmygE++GtUqGmvJjHM5rnDFcU/xPbtyWjkcczD8WNRvN0wnvuuUfgkoiLWq3Gpk2baMygxFAI9sPbywt1vEwPu4UrWZ/gLy+9JolWHsOYW6be3t4Cl0Q8KACli0KwH56engAAfd01KL0nc3OSzjqcfW8D1u36eohvXIQ1f1yDAI+pmK38Fs8uf4O364JN9dcBwKHHx92+fXvQr6UAlDYKwX5MnmwOvpZbBoCTEDSg9KPnBghAy5JZ5g/YqEkL8ECgl80Azx+KvuWgbH3TX78CwLFDcLDzoikApY9CsB+W7l7t1WpOdpnrrP4ndm37qsfzE1a8gy0rlyIyciZcWD/ryHS0M7jRVI/g4GChiyI4hUJBAegAKAT7YRkAe7WyDIh7hOWjN+P8px/BdtLcbCz74wG89sTsIYRfJ26bboJhuXR90ddeBQD4+fnxdEZxUigU2LJlCwWgA6BpcwMIDg7GjaZ6tJhYXqfvBx1Kv7xg+1x4EhKX+Q+x9deO5qtVvN1Jrqm8BMC8iKgjq6+v7/NnlgBUKpU8lohwhUJwAHPnzgUAXKuuYPfAzVdRecX2qcmL7oef6xCrpLdFGDikLToHN4XC4QcD97VoLAWg46EQHIC/vz8A4NKFfIFL0ptOmPKSsftb+1bLDdwy/Zv1s12vqURbqwmRMl1AlALQMVEIDsDd3R2z1GrU6apws5nFTuf4KZhpN7Hg2tffoXzQq0J3orUqGX94/r1eusJNMJh+GHkZ7Vi6wgEBfG88JTwKQMdFITgIP+taNLOkMI+9g97lg9kPz7V9Lm8n3v/zaTQNmIO3cCVrN37/xK94G1zdYrqForxMeKtUDt8V1ut7/lKff/55CkAHRSE4CP7+/lAoFCjKy0RHO1v3YXtZBxD1OLdrOX6+eSdOpRfahWEnWquzkHHiIHauCkHCL/qbXWLETVMbS+U0q7pknj4YK4P189rabH93GzdupKWyHBgNkRkEJycnLFu2DMnJybikOYfA0PtZOOoouIU/jVef+BKbP7XdV7jxyBt45chIjm1Ak2HwMx4G0tHO4HxWOtxkuKHQxo0baXksB0ctwUGKiIiAQqHAd18dZW+4zCgfxL7yLp4JH8E+JuEv4b+OHcObD3Q/xmXkX6iCacQFNNPkZ6Gt1YRHli2T1bg4CkB5+MmdO3fuCF0IqcjMzERycjL8gsKw8JFV7B24RYuMP23B5j1DmD8c/hLeevEpxEfOhAvacOXTdUh45fMff658Gfu+eROhI9xn5GZzI5L3vAuFQoFt27YJEoLr16/n/Zx827t3r9BFkC1qCQ5BbGwsVCoVyjX5uF5Tyd6BXdVY+Foqzp/7Fu/3tZUmFmHNHw9hx94j+Pu5ZhR+9l9IsE6rc8aU0DjYdFT1p5BTfGPERcvNOA4AWLlypaxagUQ+qCU4RDqdDtu2bYOzixue3PRb3D3GcYOhvOg8Mo79A7PUary8ebNg5bC0BDe/85xgZeDKjjc+BEAtQSFRS3CIfHx8kJCQgLZWE7K++qfQxeHMzeZGZBz7B9wUCjyVlCR0cQjhDIXgMCxcuBCz1GqUa/JRdPY7oYvDuo52BidTDgIAnkpKovFxxKFRCA6Dk5MTnkpKglvX3eLL5SVCF4k1He0Mjh/+GDea6hEfH093R4nDoxAcJqVSifXr1gEATqbsZ3dKnYC+O/UF6nRVmDFzJlasWCF0cQjhHIXgCKjVamzcuBEA8Plfd0k+CL879QUuFZhXpNE3NCAzMxMMw9dKhYQIg0JwhIKCgrBx40a0tZqQvOddSXaNO9oZnEg5iKK8TOtzRqMRycnJePfdd6HRaAQsHSHcohBkgSUIAXPXWEo3S1pMt3D88MeoKS+GatIkKBQKm5/X1tZi9+7d2Lt376D33SBESmjuMEuCgoKwefNm7N23D999dRRN9dcR/dCjoh5HeL2mEulHD6Gt1YSoqCisWmWeBZObm4vk5GSb1xYUFKCgoABRUVFYvny5Q2+yROSFWoIsUqvV+M2WLdbhM3/b9d/Q1/G1EebgdbQzOJd1Csf+tgdtrSYkJiYiKSkJTk5OcHJyQmxsLLZv346oqKge783OzsaWLVtw4sSJIV0vNBgMvS5RRYjQ7tq6detWoQvhSFxdXRESEgInJydcLC7CpcI8GA0GKCdNwRgRtAovl5fg2N//H3SVpVAoFHjllVd6HQbj7OyMoKAgBAUFoaWlBXV1dTY/LysrQ3Z2NsaMGQNfX98Bz3v8+HF8+umnCAsLg7Oz85DKnJaWBgCIXBg2pPdJQW7GGQDAI4+wvZEXGSwKQQ6MHj0as2bNQlBQEKqqqlBTWYbyovO4a/QY/HTCRNx1F/9XIfR11/DtyaM49+1X+HdHO+Lj47FhwwaMHz++3/e5u7tj/vz58PHxwfXr12E0Gq0/a29vx8WLF1FQUAAPDw94efW+Go5Op8PBgwfR3t6OK1euICQkBKNHD/53QCFIuEQhyCF3d3dERERg3LhxqKysQFWpBqWF+WhtMWG80puXluHl8hKc/vJ/cSbzS9xs1iM4OBhr165FRETEkILIy8sLsbGxUCgUuHLlCtrb260/MxqNOHv2LGpra6FUKntcLzx8+LC1Jdnc3IyqqipERkYO+twUgoRLdGOEY5ZrbBEREcjNzUVaWhqK8jLNS9X7zMC9c8MwefosuLqNZe2c12sqUVN5Cdqic2hrNa8qGBwcjCVLlox4hWTLvyUjIwOpqak2P7PcPImPj0dcXBzc3d2h1WpRUFBg8zqtVosjR47QYGwiChSCPOkehmVlZfjXqVOo0GpRp6sCAHj7zMDkaWqMV3rDw1OJceMnDHBEs452BjeaG1F/7Qqa6q/jSkWJNfjcFArEx8cjOjqa1fm/Tk5OWLJkCSIjI3Hs2DFkZ2fb/Dw9PR3p6elITExEZmZmr8dIT0/H+PHjERsby1q5CBkOCkGeOTk5WW84GAwG6w0GbbdAtHB2cYPXlGm9Hoe53drj9YB5V7QH4uMREBDA+YZI7u7uSEpKQkxMDFJSUqDVam1+bj/Mxl5ycjI8PDzEMT/53yX4OHI1ttdYngjFln/twjNBLkKWivCAQlBA7u7uCAsLQ1hYGBiGQUNDA6qrq9Hc3IympiZUVFSgpry4z/fPUquhcHODn58fPDw84O3tLciKLz4+Pti8eTM0Gg1SU1P73Li8N7t378bbb79NK9UQwVAIioSTkxN8fHwkvatZUFAQ/P39kZubi6NHjw56HOH27dtpT18iGBosTVjl5OSEefPmDWkgtdFoxJ49e2ixBiIICkHCulOnTg35PbW1tdi1axcFIeEdhSBhlU6nQ3p6+rDeq9VqrWMCCeELhSBh1YkTJ0b0/vT09BEfg5ChoBAkrOltYPRwpKam0hqGhDcUgoQ148aNQ2JiIuLj4xEcHDyiY+3evbvHuENCuEBDZAhrlEplj2EuBoMBBoMB1dXVuH37NnQ6HSoqKmwWYujLvn37sGXLFq6KSwgACkHCMXd3d7i7u/cY/2gZHF5XV4fvv/8eOp0O9fX1NgOtjUYjtm/fPrICNJzCbwJeQurAr7RzFtt/FoaBzz4FCQf24w9Le19Bh4gfhSARRH+Dw3U6HW7cuIEbN26gvLycleuMhPSFQpCITvdwjI2Nxfr16wUuEXFkdGOEECJr1BIkjm1iHP6gL8YfBnodrSIjW9QSJITIGoUgIUTWKAQJIbJGIUgIkTUKQUKIrFEIEkJkjUKQECJrFIKEEFmjECSEyBrNGCEEAEbPwTNnivGM0OUgvKOWICFE1igECSGyRiFICJE1CkFCiKxRCBJCZI1CkBAiaxSChBBZoxAkhMgahSAhRNYoBAkhskYhSAiRNQpBQoisUQgSQmSNQpAQImu0lBaRjB1vfCh0EYgDopYgIUTWfnLnzp07QheCELFYv369zeO9e/cKVBLCF2oJEkJkjUKQECJrFIKEEFmjECSEyBqFICFE1igECSGyRiFICJE1CkFCiKxRCBJCZI1CkBAia7SAApEdg8GAwsLCQb02MzOzx3PTp0+Hj48P28UiAqG5w0SWXn75ZRiNxmG9d/PmzVCr1SyXiAiFusNElhYtWjSs96lUKgpAB0MhSGQpJCRkWO9bsGAByyUhQqMQJLKkVCqhUqmG/L7hhicRLwpBIluLFy8e0uvVajWUSiVHpSFCoRAksuXv7z+k10dFRXFUEiIkCkEiW+7u7ggODh7064camkQaKASJrIWHhw/qdVFRUXB3d+e4NEQIFIJE1gbbugsMDOS4JEQoFIJE1pycnBAfH9/vaxQKBXWFHRiFIJG9gICAfn8eEREBJycnnkpD+EYhSGRPrVZDoVD0+fOBQpJIG4UgIeh7Gh1Nk3N8FIKEoO+ZIDRNzvFRCBKCvqfR0TQ5x0chSEgX+2l0NE1OHigECeliPwyGpsnJA4UgIV3sp9HR2EB5oBAkpBvLNDqaJicfFIKEdGNp/dE0OfmgPUaI7DAMg4aGBlRXV6O5uRlNTU0AgIKCgh6vnaVWQ+HmBhcXF0yZMgUqlQoTJ06kVqIDoRAksqDT6VBSUoKS0lJUaLW9vsbbZwac7nGxea6mvLj316pUCLjvPsycORP+/v40rU7CKASJwzIYDMjJyUH+mTOoq621Pu/tMwOTp6kxXukN17HuUHpPHvBYLaZbaDHeQv21K7heU4H6q5fR1mqy/jw+Ph6hoaG0FacEUQgSh6PT6XD69GlkZ2dbn/MLCsM09RxMnjYTd49hp9Wmr7sGXWUZKksKcaOpHoB5ml1CQgKCgoJYOQfhHoUgcRgGgwGHDx+2Xtvz8PTCvMiFmO5/H2vB15frNZUoOptt7T6rVCokSOzFswAAIABJREFUJibSvGMJoBAkkscwDDIyMpCamgrAHH5hDz6MaX5zeC9Li+kW8r85iXJNPgAgODgYq1evphspIkYhSCRNp9PhwIEDqK2thbOLGyLjlsMvUPj5vvq6a8j51zHU6aoAAGvXrkVYWJjApSK9oRAkkpWZmYnk5GQA5mt+0Q89ynm3d6jKi84j59QxtLWaEBwcjDVr1tCdZJGhECSSwzAMPvvsM2RnZ8PZxQ3xjydhku9MoYvVp5vNjcg8noI6XRVUKhU2bNhACzOICIUgkRSGYfDhrl2o0Grh7TMDsUtXYtz4CUIXa0Ad7QzOfJuOorxMuCkU+M2WLRSEIkEhSCTDPgCXrn5GdN3fgZQXnUfGsX9QEIoIhSCRhO4BGBgeiwUPxEsuAC0ul5fgZMp+CkKRoAUUiCRYAtAvKAz3xz0i2QAEgGl+c7B45VqYjEb8Yft26PV6oYskaxSCRPSOHDli7QJHP/So0MVhxTS/OVi4/OcwGY3Ys2cPGIYRukiyRSFIRC0/Px/p6enw8PSS5DXA/vgFhiAwPBa1tbU4ePCg0MWRLQpBIlp6vR6fpaQAABavXONQAWix4IF4ePvMQEFBAfLz84UujixRCBLR+uTQIZiMRixc/nNJDIMZjrvHOCF26Uo4u7jhs5QUGAwGoYskOxSCRJTy8/NRodXC1y9AFNPguDRu/ARExi2HyWjE4cOHhS6O7FAIEtFhGAYpXd3gB5Y8LnBp+OEXGGLtFmv7WPSVcINCkIhORkYGjEYj7n/ocbi6jWXhiC0o3fsw5vkofvwveidKf2Dh0CyK/NlyALDOhyb8oBAkomIwGJCamgpnFzfcGzRf6OLwSuk9GX5BYaitrYVGoxG6OLJBIUhEpbCwEAAQEi3dGSEjEfbgYgCwro1IuEchSEQlLS0NAGTXCrRwdRsLX78A1NbWQqfTCV0cWaAQJKKh0WhgNBoRGB4ry1agRWBoFADg7NmzApdEHigEiWgUFRUBAGbNmSdwSYQ1yXcmPDy9kJ6eTtPpeEAhSESBYRhkZ2fDw9NrUFtgOrqZXV8EZWVlApfE8VEIElG4cuUKgB8//HLnM9MfAFBZWSlwSRwfhSARhaoq84ZE3lN8BS6JOCi9J8PZxQ3FFy8KXRSHRyFIRKGktBQABNsrpFNfiMwTB7Fz1SzbQdWr/i9STxzH2epbvJfJa8o01NXW0nxijo0WugCEALCuF8i7znqUHt2N9//P+zjX28/z3sfv8gDAC/M3vIl1TyQgdDobs1gGNsl3FmrKi9HQ0ED7FnOIWoJEcJbxcBNUU/g9cWcdzr73K/yirwC0UY9ze36NdbFPYVdOHTp5KJ7X5KkAgNraWh7OJl8UgkRwbW1tAACF+0/5O+ntIvzr3Q1Yt+vrIb7xa3y8egN28xCErgpzi/Pq1ascn0neKASJ4CwtnfETJvJ3Uv1nOPhRtwAMfwlv7f0SqZcMKNQZzf9dKsS+Pe9gWY99kL7Gx8+/h8z6dk6LaFk8orW1ldPzyB2FIBGNu52cBTirF+Zv+DtSD2xFwpJoTHXt9pFwnYnQpS/g7dP5eGvFbNu36ffh3R0noeehX2w0mbg/iYxRCBIZ88L8Tfvw+98stw0/e66zkfDOgR5B2PjpJzhxkds7t75+Aaig9QU5RSFIBFdeXg4A8OB7Cf3wF/DSr2PgOZhPgetsLP/N60iw6Rp/hb8fvwBqp0kbhSARDX4XTZiNhKeXw7+/FqCdUV734+EVc22eazySiUtGPu4VE65QCBLBubi4AABaTDwOSFY+jIejJg/xA+CBe2PiYNNe1VfheiO3N0gItygEieCmTDGPD2wx8hiC/tOgHEIr0GwU3GbOQ5jNcxdwvryJvXLZYW7TnWGuUQgSWZocHYDJw/nrHz8FM6d2f+IyLugawdV2JXW6KgQHB3N0dAJQCBIRabnF1xxZL0wZ54qfDOetd03AlPnT2C4QERCFIBHc9OnTAQDGWzd5OuM9GD/WRfR//Pq6awAAT09PgUvi2MT+d0BkwNnZPEi6qf66wCURF0vLePz48QKXxLFRCBLBKZXmwXf661d4OuNtNN9qHd7c385W3Gq8zXaBetWsrwPwY0uZcINCkIhCcHAwbjTV8zRMph5Xb7bgznDeeqcFhiv13Z4YwfXFAVy7bJ4pMnEij3OqZYhCkIiCn58fAEB/nZ8VU66VXcWN4byx+SoqbRqsXvCbMp71D1JHO4M6XRVmqdVwcpLvznt8oBAkomDp8l3WlvBzwqxCXB7yTI9OmCoLkW/z3DRM9XJlr1xdrl027y0yZ/bsAV5JRopCkIiCj48PFAoFrlSUoKOdh20m9cUovWwc2ns6r+HM51+isftzD8Rhni/7q99YvgzmzJnD+rGJLQpBIhoRERFoazVZW0Hc+gp/P3R6CEthdaL14jEkf1ra7TkvRDwSjiksf4o62hmUa/LhrVLBx8eH3YOTHigEiWhER0cDAMqKzvJyvsZPt+HDlFIMZmJap/409r+z03YZfuVy/EeML+sfouoy8w5zYQsWsHxk0hsKQSIaSqUSKpUKNeXFuNncOPAbRqwUaa/8Fh+d0PYThJ1orT6GDzetw8d5tneF5z+biHCvMayXqjAnAwAQGRnJ+rFJTxSCRFQSEhIAACWFeTyd8WscXB+ChJd24lROZbcw7ERrdRYyPt2KF2J/gYM2AQjzWoRPBsOF5dJcLi/BjaZ6REVF0Q5zPKEtN4moBAUFwVulQlFeJubMC8c4jhZanfzqfmy6/B5e7brG13jkDbxy5I3BvTn8t9i3ax1mD3kVmoHlf/MlACAmJob1Y5PeUUuQiM5jXa3B3Izj3J3krpmI29pzyfyBTFixA4d2bUaokv1ucHnRedxoqkdwcDDdEOERhSARnaCgIMxSq1FTXozrNRzeKXadjYR3DmHHhkWDePEirPmfb/CPHetwHwcB2NHOIOfUMQDA6tWrWT8+6RuFIBGlVStXAgDSjx7idtygqxoLXzuK7zK/xI4e22t6Yf6GD7Fj75dIvXQUL/zH/MHtRzIMWV/9E22tJiQkJNC1QJ795M6dO8OaQkkI106cOIHU1FT4BYVh4SOrhC4OZy6Xl+Bkyn6oVCq8+uqrNE2OZ9QSJKK1cOFCqFQqlGvyUV50XujicOJmcyMyj38GAHj66acpAAVAIUhEy8nJCRs2bICbQoGMY/+wLjLqKDraGWQeT0FbqwmJiYl0M0QgFIJE1JRKJZ5KSgIAHE/+iKdB1NzraGdw/PDHqNNVIT4+HrGxsUIXSbYoBInoBQUFITExEW2tJnz+110OEYRnvk23LpW1bNkyoYsjaxSCRBJiY2MRHx8v+SDsaGeQ8cVnKMrLxCy1Gs9t2kTXAQVGd4eJpBw5cgTp6elwdnHD0sRnofSeLHSRBq17F5gCUDwoBInkZGZmIjk5GQCwcPnP4RcYInCJBnazuREnUw7iRlM91Go1NlEAigaFIJEkjUaDTw4dgslohF9QGKIfehR3jxFnqJQXnUfGsX8AAOLj47FixQqBS0S6oxAkkqXX67Fnzx7U1tbC2cUN8Y8nYZLvTKGLZdViuoVvTxxFTXkx3BQKPJWUhKCgIKGLRexQCBJJYxgGGRkZSE1NBQD4+gUgYuFSzlafGYyOdgaXNOfw3VdHAQCz1Go8lZRk3VqUiAuFIHEIOp0On6WkoEJr3qYyMDyW06W4emMJv/NZ6WhrNUGhUGDlypUICwvjrQxk6CgEiUPRaDT4PDUVdbW1AMwtQ//AUEyeNpOza4b6umuoKClEUV6m9bmEhAQsXLiQbn5IAIUgcUgajQapqamo7QpDZxc3TJ01B9PUc6CcNAWubmNHdPzrNZWou1qDypJC3GgyrzqtUCiwbNkyREREUPhJCIUgcWh6vR5ZWVnIzc2F0fjjFpsenl5QTpoKT69JUIwdB9ex5uWrXBVj4eo2Fh3tDG50DcjuYNrQ3NgAo+F7NNZeRZ2uyuYcUVFRCAwMpJseEkUhSGRDp9Ohuroa5eXlKCgoGPZxZqnVmDN7NmbMmIGpU6dSq0/iKASJbBkMBhgMBlRXV1ufswzCtkhMTAQAqFQqODs700ovDohCkJBu1q9fb/N47969ApWE8IUWUCCEyBqFICFE1igECSGyRiFICJE1CkFCiKxRCBJCZI1CkBAiaxSChBBZoxAkhMgahSAhRNZGC10AQvjGMAwaGhoG9VqdTtfjOXd3d7i7u7NdLCIQmjtMZIdhGDz//PPDfv/GjRtp2SwHQt1hIjtOTk6Iiooa1nsVCgUFoIOhECSyNNx9PyIiIlguCREahSCRJbVaDYVCMeT3hYaGclAaIiQKQSJbQ23VqVQqWlTVAVEIEtmKjo4e0usXLFjAUUmIkCgEiWwplUqoVKpBvz4yMpLD0hChUAgSWVu8ePGgXqdWq2lsoIOiECSy5u/vP6jXDXdIDRE/CkEia+7u7ggODh7wdXPnzuWhNEQIFIJE9sLDw/v9eVRUFO0t7MAoBIns/f/27j8qynrPA/j7YgoHGZFlGHBMIpPBTBAQEhDDRRs1++GP9Iqum91t5WJW3qvZ8VLrem/mannLayeFavMeK8gyWUPpsFaoBEMZCJgroyIqIgy4Og6Qg3tx/9DhMmMo2DzzPDPf9+scz8nvzDzP55xp3n6/z/f5fp/bDYmjoqJcVAnJgSFIwvP29oZer//Z17hMzvMxBIkAREZG/mw7l8l5PoYgEXpeRsdlcp6PIUh0w6RJk+z+zmVyYmAIEt0wduxYu79zmZwYGIJENzguo+MyOTEwBIm6sS2j4zI5cTAEibqx3TPIZXLi4DNGSPHS09PlLkFyWVlZcpcgLPYEiUhofOQmuY3lrz4ndwlOt/HlzXKXIDz2BIlIaAxBIhIaQ5CIhMYQJCKhMQSJSGgMQSISGkOQiITGECQiofFmafJsTfvwUuTvkCflOcKWY2fJIozmr8ktsSdIREJjCBKR0BiCRCQ0XsUgz+Y7CEHBAJq6N4ZjxlvrsXp+OHxlKouUgz1B8myqGDy1ZQnsnxZyHHnL3sDWYhM6ZSqLlIMhSB6uP4KSn8GfP3cMwhJkzXoFbzEIhccQJAH0R1DyQqx5ayY0du0lyMp4G5+faJWpLlIChiAJwg/D56/EXx2DsGkXMmduwGcMQmExBEkgfhg+bylef8HhUZpNu5C5YjsMTVflKYtkxRAksXhpkLDqT/irYxCWvIOn0t9jEAqIIUji8dIgYdVqbJ4fbt9e8g6eSs/FkTZOlYiEIUhi8tJCv3Y91s51DMINyHjpC9QyCIXBECRxDQzHk+vXYGVSkF2zacfLeCrzazQxB4XAECSxDYzE01lrke4YhB+/hhXrStHMIPR4DEESnldwIpZt/QOeDO7e2ozvNmXi91uq0S5XYeQSDEEiAF4hqcjc9SpmOAbhmtVY8/FxBqEHYwgSAQC84DviMaz+cOXPrDN+CWv3NHB5nYdiCBJ1aUNtsQHfOTYHj0ZMxCD+WDwUv1ciAMBVNO35CzLWHHBoT0L6lqWYNcJPlqpIegxBInSivTIXK57OhcmuPRwz3lqB3yZr+EPxYPxuSXidjV9j7T9tcBgGB+HBF17EinnceNXTMQRJbG3V+OC3r+GzJvtmzdwXsGbZOATxF+Lx+BWTuNqO47OXVmNDSbN9e9ISvP7KIxg+kD8PEfBbJjF1mmB46w1k7jhu3x48D5u3PoOE4P7y1EUuxxAkAbWiNvdtvLipxKH9Iaz88HnoQxiAImEIkmCuorl4O1Yv23XTTPCTH2Ti6TEqmeoiuTAESSCdaD+xF29kvHPzTPDqNcicruUPQkD8zkkYnU1l2LpiE/IcZ4Ln/wFvZETyVhhBMQRJDG3H8fmfXkfWTTPBK7FlbSqC+UsQFr968ny3nAmeh9G8FUZo/PbJw3EmmG6NIUiercmALM4E0y3cJXcBRK53HJ89PQWfOfWYc7C5OhP64H5OPSpJjz1BIhIaQ5CIhMYQJCKh8ZogebbgyVhvqsZ6uesgxWJPkIiExhAkIqExBIlIaAxBIhIaQ5CIhMYQJCKhMQSJSGi8T5DcxsaXN8tdAnkg9gSJSGi/unbt2jW5iyBSivT0dLu/Z2VlyVQJuQp7gkQkNIYgEQmNIUhEQmMIEpHQGIJEJDSGIBEJjSFIREJjCBKR0BiCRCQ0hiARCY0bKJBwrFYrmpqaevXeM2fO3NTm7+8Pf39/Z5dFMuHaYRKO1WpFZmYmLBbLHX1+yZIlGDNmjJOrIrlwOEzC8fb2RmJi4h19VqVSMQA9DEOQhBQZGXlHn7vT8CTlYgiSkHQ6HbRabZ8/Fx8fL0E1JCeGIAnrwQcf7NP7tVotQkNDJaqG5MIQJGGNHTu2T+/va2iSe2AIkrA0Gg10Ol2v35+UlCRhNSQXhiAJLTk5uVfv0+l0vDfQQzEESWgjR47s1ft6G5bkfhiCJDR/f/9eBVx0dLQLqiE5MARJeFFRUbd8PTk5Gd7e3i6qhlyNIUjCGzlyJFQqVY+vjxs3zoXVkKsxBEl4t1pGp1Kp+jSDTO6HIUiEnpfRcZmc52MIEqHnZXQTJkyQoRpyJYYg0Q2OK0K0Wi00Go1M1ZCrMASJbnBcRpeSkiJTJeRKDEGiGxyX0cXExMhYDbkKQ5CoG9uN01wmJw6GIFE3tmV0kydPlrkSchU+Y4SEZDabYTabUVtbi59++snugUqnTp1CaGgo+vXrBwBQq9UIDAxEQEAAhgwZwskSD8MQJCGYzWbU1dWhqqoKlZWVd/yQJZvY2FhERERg1KhRDEU3xxAkj2W1WnHs2DEYDAaUl5d3tfv4+iFk2L0YGhaOwKBg9Pf2QUBgEPoP+Pn1wZcuNKOjw4rG+tOwmP8XZ08cw8WWxq7XtVotUlJSEBMTw+uIboghSB7HbDajoqIC+fn5XT2+AHUIRo1NQuhwHQYHBv3ic7S1Xobp3FmcMv6Imsqyrvbk5GSkpKRwG343whAkj2G1WlFaWoqcnBwA13t8uqg4PBCT4JTg68nVDitqjx1BRcnXXT3E2NhYzJw5k0NlN8AQJI9QVlaGTz/9FBaLBT6+fhg7QY/7x8T1OMSVyqmaH1H2zd6uMJwxYwZSU1O5FZeCMQTJrZnNZuTm5nZd84tPmYYx4ya4PPwcdQ9DlUqFxYsXczcahWIIktsyGo3Iys5Gq8WCIaH3YeL0OZIOe/vqaocVlWUH8f3+AgDXe4XTpk2TuSpyxBAkt1RQUIC8vDwAwPgpsxAVP17minpmOl+PPTnv4kp7K8J1Ojy3dCmHxwrCECS3s3PnThQWFsLH1w/T0/4VmiF3y13SbV3tsGLff+WgrqYaWq0WGRkZnDRRCIYguQ2r1Ypt27ahvLxckcPf3vh23xeoMhTBT6XCSytXMggVgGuHyW3k5+d3BeD0ef/idgEIAOMnP4aohIlotViwfsMGmEwmuUsSHkOQ3IJtCGwLQLlnf3+J7kG4YcMGWK1WuUsSGkOQFK+oqAiFhYUIUIe4fQDa2ILQYrFg89tvMwhlxBAkRTMajcjJyYGPrx+mzlnkEQFoM37yYwiLiMRxoxH5+flylyMshiApltVqRXZ2NgBAP2uhW14DvJ3JT6QhQB2CwsJCGI1GucsREkOQFGvHjh2wWCyIT5mGoWEj5C5HEv0HeGPqnEUAgKzsbA6LZcAQJEUyGo0oLi5GgDoEY8Z59mMvBwcGYfyUWWi1WLBjxw65yxEOQ5AUx2q14uMbO8GkPpHmUdcBexIVPx4B6hAUFxfb7XJN0mMIkuKUlpbifEMDohImusVqEGdJfSINALBn716ZKxELQ5AUxWq1ds2URieI9dxfzZC7ERYRicMVFewNuhBDkBTl8OHDsFgsiEqYiIF+g+Qux+XGJl9/yl1BQYHMlYiDIUiK8uWXXwIQrxdoY+sNlpeXc0mdizAESTGMRiMaGhoQMWackL1Am5FR8QCAgwcPylyJGBiCpBjV1dUAgIjIWJkrkde9EQ/Ax9cPJaWlcpciBIYgKUZJaSl8fP089sbovtBFxaHVYuEqEhdgCJIiGI1GtFos0EXFyV2KIoSNuB/A33vHJB2GICnCyZMnAfz9xy86W2+4+sgRmSvxfHfJXQARgK774jTaYfIU0HYC3x84CvOZfGxYm4NmuxcnYdHrixAZcA+iJsdA7aKuQ1hEJOpqqmE2m+Hv7++akwqIIUiKUF5ejgB1iMuXyHWaKlC0awv+46bg6+4rbHvxqxv/PQmL/vwyFsyKkzwMh4aFo66mGk1NTQxBCXE4TLKz3Q+nGXqPC8/agZaSdUiPewjLbxmAjr7Ctt//I+Yvz8YRU4eE9QGBQcEAgIaGBknPIzqGIMnuypUrAAB1yFAXnbEDpoJVmD/vNRy6wyM071yOhUuzcbSt06mVdTdQdb33d/bsWcnOQQxBUoDa2loAgGrQYBecrRPtVdnITM++ufenScOyLTvx0aELqDhjufHnAv47fydez0zDTVu6GlZh2V8OolWiSm2byLa3t0t0BgIYgqQgAwe54LpXWzk+fXWTQw8wBHEZHyFv/1Y8NV2PUZoB3V4bAHWUHpPT38bHuzfiUYcnZDZveR/7aq9IWrKlVaqYJYAhSELpgOlADj4yNHZrC0Hc0myse+lx3DPwVj+HAVBHP4NV/7kO9ncy7sI7n5RJ1hu0PYOEpMMQJNlduHABADBA6pnhzjqUfLTbfhic8AJ+92xKL2d6veA7+nGk/XqUXWvz3sM48zcn1kkuxVtkSHYtLS0AIPmDlDrrDCg8YN8LTJytx8hb9gAdeN2NB2c+gqDTU7Dk6TgM6jfMpfcOkvMxBEl2arUaAHDpQrOEQdiJ9sZTOGHXlgh9fGgfh0Ne8EtajcIkZ9ZGcuK/XyS7wMBAAEBHh5RPWvsJZ6rL7IfCD01GTJiPhOckd8AQJEFcROOxevumoMHoy0hYDnU11QjX6eQuw6Mp/H8BEknbZbNLz3f3yGEIcOkZ74zKz0/uEjwaQ5BkN3z4cACA5fIl6U7yt2acPXRKuuNL4NKF64N3X19fmSvxbAxBkp2Pz/Xrci2N52SuRFnaLNd7xsOGybSzjiAYgiQ7jeb6MgzTudPSnaRfEIbF3Svd8SVwobkJAKDVamWuxLMxBEkRYmNjcbGlEVclnSG2V3/sLC667Gx9d67uOAAgODhY5ko8G0OQFCE0NBQAUH/qxG3eeacCEDLybvum5kuQcBOYX6yuphpDtFruJSgxhiApwn333QcAaDhbK9EZvKEJDbdvOvADTrb8X98PZdqNV0JnYNMnefi6oBBHJdhX8Fzd9X8MIkePdvqxyR5DkBRBp9PBT6WCsepOd/i7nbvwDxFjkWjXZsDBHxrQt85gJ1pPVKAMX2HbiwuxPH02FsRNwqaSC84sFnUn/gcAEBkZ6dTj0s0YgqQYSYmJuNLe2tULcjavsAToHwrp1nIUeR/sxrG+jIk76/Hdrr0OexHei3tCBjqnyBuMVYfgp1JBxxulJccQJMWw9XpqqsulOYFXGJIWPG6/OaphE978sBy927a0E+1HdiPnk6N2rUG/fhJJTlx+d6rmR1xpb0VSYuLt30y/GEOQFEOn00Gr1aKmsgxtrZclOMMAaB5Kw4KE7r3BRhxa+yzWvWdAyy07hB1oOfwe1v1mlcOGrFOwYGEKNE78JVWW7QcATJgwwXkHpR4xBElRpk6dCgA4bNgvzQkGxmLOyy84bIx6FPl/fBgPz/s35BUcxGm74fFlnC7Zjbx1c/Hw48uRb+r+uRDELX0W00c7b/bWdL4e58+cRHRMTNf9kyQtbqVFihIdHQ2VSoUqQxGiE1Iw0G+Qk8/gBd+oxViXa8EqxwctGd7EGsObvT5S0Ox/R2avN2TtnR+K9wEAJqWmOu+gdEvsCZKieHt749FHHwUgYW8QA6BOWo51P/PMkN4Kmr0V2a+mIcyJ29CcqzuBuppqRMfEcELEhRiCpDiJiYnQarWoMhTBdL7+9h+4IwOgjl6MNXu/wR8zJvX+Y5o0LPuoAnlvLnBqAF7tsOLgl7sAANMfecRpx6Xb+9W1a9euyV0EkSOj0YiNGzciQB2C2b95Hv0lfv5Ip6kCB344jUuHt2HNlq/sX9SkYdmaRzEsYBQSkkZAij1dDh3ch+/3FyA5ORkLFy6U4AzUE4YgKdb27dtRXFyM+JRpiJswWe5yJGM6X4+d778JP5UKr61dC29viR84RXY4HCbFmjt3LlQqFb7fXyDZDdRyu9phxZ6cdwEA6YsXMwBlwBAkxfL29sbzzz8PACj8fHvXJqOeZE/u+7jS3gq9Xs/JEJkwBEnRQkNDkZaWhivtrfjy020u3WpLat/u+wLnz5xEuE7XNSNOrscQJMWbOHEi9Ho9LrY0Yk/u+x4RhN/u+wJVhiJotVo8t3Qph8EyYgiSW5g9ezb0ej3Onznp9kFoC0A/lQoZGRkMQJlxdpjcys6dO1FYWIgAdQimzlkk4cPapWELQJVKhZUrV3JpnAIwBMnt2ILQx9cP+lkLMTRshNwl3dbVDiv25L7fdQ3wnxcuZAAqBEOQ3FJRURFycnIAAOOnzEJU/HiZK+qZ6Xw99uS8iyvtrQjX6XgNUGEYguS2jEYjsrKz0WqxYEjofZg4fY6ihsdXO6yoLDuI7/cXAABmzJiBadOmyVwVOWIIklszm83Izc1Fefn1jVjjU6ZhzLgJki+zu51TNT+iaM8OXGlvhUqlwuLFi3kfoEIxBMkjVFZWYvv27bBYLPDx9cPYCXrcPybO5WF4quZHlH2zFxdbGgFc7/2lpqZy+KtgDEHyGFarFaWlpfgiPx+tN8JQFxWHB2ISJB0mt7VeRn3tcVSUfN0VfrGxsZg5cyYnP9wAQ5A8ji0M8/PzYbFYAAAB6hCMeCAGI0aNcUog2oLv3OmTqKks62pPTk5GSkpK13OUSfkYguSxrFYrjh07BoPB0HXNEAB8fP0QMuyta0UrAAAAqElEQVReDA0Lh2rQYAwc5I+AwKAeh862PQ0b60+jpfEcTOdOd/X4AECr1SIlJQUxMTF8ULobYgiSEGyBWFVVhZO1tTjf0PCLjhcbG4uIiAiMGjWKQ143xxAkIZnNZpjNZtTW1gIAampqenyvWq1GYGAgtFotBg8ezNDzMAxBIhIaN1AgIqExBIlIaAxBIhIaQ5CIhMYQJCKhMQSJSGgMQSISGkOQiIT2/yRJIlqwm3SdAAAAAElFTkSuQmCC)"
      ],
      "metadata": {
        "id": "3I8lnVl8kuM1"
      }
    },
    {
      "cell_type": "markdown",
      "source": [
        "# Numpy"
      ],
      "metadata": {
        "id": "gCgc-SPnIZ0N"
      }
    },
    {
      "cell_type": "code",
      "execution_count": null,
      "metadata": {
        "colab": {
          "base_uri": "https://localhost:8080/"
        },
        "id": "CFk0yYOVkb5Y",
        "outputId": "4de5bc3b-eaf5-4306-fe03-31e630e2b2f3"
      },
      "outputs": [
        {
          "output_type": "stream",
          "name": "stdout",
          "text": [
            "[[ 0.76103773  0.12167502  0.44386323  0.33367433]\n",
            " [ 1.49407907 -0.20515826  0.3130677  -0.85409574]\n",
            " [-2.55298982  0.6536186   0.8644362  -0.74216502]]\n"
          ]
        }
      ],
      "source": [
        "import numpy as np\n",
        "\n",
        "np.random.seed(0)\n",
        "\n",
        "N, D = 3, 4\n",
        "x = np.random.randn(N, D)\n",
        "y = np.random.randn(N, D)\n",
        "z = np.random.randn(N, D)\n",
        "\n",
        "a = x * y\n",
        "b = a + z\n",
        "c = np.sum(b)\n",
        "\n",
        "grad_c = 1.0\n",
        "grad_b = grad_c * np.ones((N, D))\n",
        "grad_a = grad_b.copy()\n",
        "grad_z = grad_b.copy()\n",
        "grad_x = grad_a * y\n",
        "grad_y = grad_a * x\n",
        "\n",
        "print(grad_x)"
      ]
    },
    {
      "cell_type": "markdown",
      "source": [
        "# Tensorflow v1"
      ],
      "metadata": {
        "id": "CTYDy9VyIeLy"
      }
    },
    {
      "cell_type": "code",
      "source": [
        "import numpy as np\n",
        "import tensorflow.compat.v1 as tf\n",
        "tf.disable_v2_behavior()\n",
        "np.random.seed(0)\n",
        "\n",
        "N, D = 3, 4\n",
        "\n",
        "with tf.device('/cpu:0'):           # for GPU use: '/gpu:0'\n",
        "    x = tf.placeholder(tf.float32)\n",
        "    y = tf.placeholder(tf.float32)\n",
        "    z = tf.placeholder(tf.float32)\n",
        "\n",
        "    a = x * y \n",
        "    b = a + z\n",
        "    c = tf.reduce_sum(b)\n",
        "\n",
        "grad_x, grad_y, grad_z = tf.gradients(c, [x, y, z])\n",
        "\n",
        "with tf.Session() as sess:\n",
        "    values = {\n",
        "        x: np.random.randn(N, D),\n",
        "        y: np.random.randn(N, D),\n",
        "        z: np.random.randn(N, D)\n",
        "    }\n",
        "    out = sess.run([c, grad_x, grad_y, grad_z], feed_dict=values)\n",
        "    c_val, grad_x_val, grad_y_val, grad_z_val = out\n",
        "    print(grad_x_val)"
      ],
      "metadata": {
        "colab": {
          "base_uri": "https://localhost:8080/"
        },
        "id": "s1m5ConglGfd",
        "outputId": "8187d025-53fb-4ade-a9c3-ae45f45727c3"
      },
      "execution_count": null,
      "outputs": [
        {
          "output_type": "stream",
          "name": "stderr",
          "text": [
            "WARNING:tensorflow:From /usr/local/lib/python3.7/dist-packages/tensorflow/python/compat/v2_compat.py:107: disable_resource_variables (from tensorflow.python.ops.variable_scope) is deprecated and will be removed in a future version.\n",
            "Instructions for updating:\n",
            "non-resource variables are not supported in the long term\n"
          ]
        },
        {
          "output_type": "stream",
          "name": "stdout",
          "text": [
            "[[ 0.7610377   0.12167501  0.44386324  0.33367434]\n",
            " [ 1.4940791  -0.20515826  0.3130677  -0.85409576]\n",
            " [-2.5529897   0.6536186   0.8644362  -0.742165  ]]\n"
          ]
        }
      ]
    },
    {
      "cell_type": "markdown",
      "source": [
        "# PyTorch"
      ],
      "metadata": {
        "id": "gyI70o0IIhjj"
      }
    },
    {
      "cell_type": "code",
      "source": [
        "import torch\n",
        "from torch.autograd import Variable\n",
        "\n",
        "N, D = 3, 4\n",
        "x = Variable(torch.randn(N, D), requires_grad=True)     # for GPU use: torch.randn(N, D).cuda()\n",
        "y = Variable(torch.randn(N, D), requires_grad=True)\n",
        "z = Variable(torch.randn(N, D), requires_grad=True)\n",
        "\n",
        "a = x * y\n",
        "b = a + z\n",
        "c = torch.sum(b)\n",
        "\n",
        "c.backward()\n",
        "\n",
        "print(x.grad.data)"
      ],
      "metadata": {
        "colab": {
          "base_uri": "https://localhost:8080/"
        },
        "id": "UQFTJa-YmQzR",
        "outputId": "83d49a61-4fda-44b8-8afd-f431c9e6ba0d"
      },
      "execution_count": null,
      "outputs": [
        {
          "output_type": "stream",
          "name": "stdout",
          "text": [
            "tensor([[-1.6149, -0.7832,  0.3016,  1.8028],\n",
            "        [-0.7055,  0.9840, -0.4725, -0.4638],\n",
            "        [ 0.7321, -1.9196,  1.5972,  1.6339]])\n"
          ]
        }
      ]
    },
    {
      "cell_type": "markdown",
      "source": [
        "# PyTorch: Tensors"
      ],
      "metadata": {
        "id": "kh_LzPHe87LY"
      }
    },
    {
      "cell_type": "code",
      "source": [
        "import torch \n",
        "\n",
        "device = torch.device('cpu')\n",
        "\n",
        "losses = []\n",
        "N, D_in, H, D_out = 64, 1000, 100, 10\n",
        "\n",
        "x = torch.randn(N, D_in, device=device)\n",
        "y = torch.randn(N, D_out, device=device)\n",
        "w1 = torch.randn(D_in, H, device=device)\n",
        "w2 = torch.randn(H, D_out, device=device)\n",
        "\n",
        "learning_rate = 1e-6\n",
        "for t in range(500):\n",
        "    h = x.mm(w1)                        # matrix mult\n",
        "    h_relu = h.clamp(min = 0)           # RELU\n",
        "    y_pred = h_relu.mm(w2)              # hidden layer\n",
        "    loss = (y_pred - y).pow(2).sum()    # computing loss\n",
        "\n",
        "    grad_y_pred = 2.0 * (y_pred - y)\n",
        "    grad_w2 = h_relu.t().mm(grad_y_pred)\n",
        "    grad_h_relu = grad_y_pred.mm(w2.t())\n",
        "    grad_h = grad_h_relu.clone()\n",
        "    grad_h_relu[h < 0] = 0\n",
        "    grad_w1 = x.t().mm(grad_h)\n",
        "\n",
        "    w1 -= learning_rate * grad_w1\n",
        "    w2 -= learning_rate * grad_w2\n",
        "\n",
        "    losses.append(loss)"
      ],
      "metadata": {
        "id": "D3z4cuEskbGQ"
      },
      "execution_count": null,
      "outputs": []
    },
    {
      "cell_type": "code",
      "source": [
        "from matplotlib import pyplot as plt\n",
        "\n",
        "plt.plot(range(50), losses[:50])"
      ],
      "metadata": {
        "colab": {
          "base_uri": "https://localhost:8080/",
          "height": 294
        },
        "id": "u3IYuG5ilN4D",
        "outputId": "22766862-6f91-4ab1-cddb-f455d2f7479a"
      },
      "execution_count": null,
      "outputs": [
        {
          "output_type": "execute_result",
          "data": {
            "text/plain": [
              "[<matplotlib.lines.Line2D at 0x7fb18edff750>]"
            ]
          },
          "metadata": {},
          "execution_count": 5
        },
        {
          "output_type": "display_data",
          "data": {
            "text/plain": [
              "<Figure size 432x288 with 1 Axes>"
            ],
            "image/png": "[encoded data removed]"
          },
          "metadata": {
            "needs_background": "light"
          }
        }
      ]
    },
    {
      "cell_type": "markdown",
      "source": [
        "# PyTorch: Autograd "
      ],
      "metadata": {
        "id": "UI0YiRIQ8_cb"
      }
    },
    {
      "cell_type": "code",
      "source": [
        "import torch \n",
        "\n",
        "losses = []\n",
        "N, D_in, H, D_out = 64, 1000, 100, 10\n",
        "\n",
        "x = torch.randn(N, D_in, device=device)\n",
        "y = torch.randn(N, D_out, device=device)\n",
        "w1 = torch.randn(D_in, H, requires_grad=True)\n",
        "w2 = torch.randn(H, D_out, requires_grad=True)\n",
        "\n",
        "learning_rate = 1e-6\n",
        "for t in range(500):\n",
        "    y_pred = x.mm(w1).clamp(min=0).mm(w2)   # matrix mult\n",
        "    loss = (y_pred - y).pow(2).sum()        # computing loss\n",
        "\n",
        "    loss.backward()\n",
        "\n",
        "    with torch.no_grad():\n",
        "        w1 -= learning_rate * w1.grad\n",
        "        w2 -= learning_rate * w2.grad\n",
        "        w1.grad.zero_()\n",
        "        w2.grad.zero_()\n",
        "\n",
        "    losses.append(loss)\n",
        "\n",
        "with torch.no_grad():\n",
        "    plt.plot(range(50), losses[:50])"
      ],
      "metadata": {
        "colab": {
          "base_uri": "https://localhost:8080/",
          "height": 276
        },
        "id": "GYOZ3DnY9CjJ",
        "outputId": "47069c92-9c56-4670-df84-1a43687a1ba1"
      },
      "execution_count": null,
      "outputs": [
        {
          "output_type": "display_data",
          "data": {
            "text/plain": [
              "<Figure size 432x288 with 1 Axes>"
            ],
            "image/png": "[encoded data removed]"
          },
          "metadata": {
            "needs_background": "light"
          }
        }
      ]
    },
    {
      "cell_type": "markdown",
      "source": [
        "# PyTorch: New functions"
      ],
      "metadata": {
        "id": "VGEXesmgBUiP"
      }
    },
    {
      "cell_type": "markdown",
      "source": [
        "## Python Functions"
      ],
      "metadata": {
        "id": "ZbuC6uUED1Ui"
      }
    },
    {
      "cell_type": "code",
      "source": [
        "import torch \n",
        "\n",
        "def sigmoid(x):\n",
        "    return 1.0 / (1.0 + (-x).exp())\n",
        "\n",
        "losses = []\n",
        "N, D_in, H, D_out = 64, 1000, 100, 10\n",
        "\n",
        "x = torch.randn(N, D_in, device=device)\n",
        "y = torch.randn(N, D_out, device=device)\n",
        "w1 = torch.randn(D_in, H, requires_grad=True)\n",
        "w2 = torch.randn(H, D_out, requires_grad=True)\n",
        "\n",
        "learning_rate = 1e-6\n",
        "for t in range(500):\n",
        "    y_pred = sigmoid(x.mm(w1)).mm(w2)       # matrix mult\n",
        "    loss = (y_pred - y).pow(2).sum()        # computing loss\n",
        "\n",
        "    loss.backward()\n",
        "\n",
        "    with torch.no_grad():\n",
        "        w1 -= learning_rate * w1.grad\n",
        "        w2 -= learning_rate * w2.grad\n",
        "        w1.grad.zero_()\n",
        "        w2.grad.zero_()\n",
        "    losses.append(loss)\n",
        "\n",
        "with torch.no_grad():\n",
        "    plt.plot(range(50), losses[:50])"
      ],
      "metadata": {
        "colab": {
          "base_uri": "https://localhost:8080/",
          "height": 265
        },
        "id": "pFY-XaVs9qGk",
        "outputId": "ca3a1264-5b00-497a-9a6d-d31c2bfbc254"
      },
      "execution_count": null,
      "outputs": [
        {
          "output_type": "display_data",
          "data": {
            "text/plain": [
              "<Figure size 432x288 with 1 Axes>"
            ],
            "image/png": "[encoded data removed]"
          },
          "metadata": {
            "needs_background": "light"
          }
        }
      ]
    },
    {
      "cell_type": "markdown",
      "source": [
        "* NaN values!"
      ],
      "metadata": {
        "id": "8GrKGN-kCWmL"
      }
    },
    {
      "cell_type": "markdown",
      "source": [
        "## Subclassing"
      ],
      "metadata": {
        "id": "XpxHngoTD4JI"
      }
    },
    {
      "cell_type": "code",
      "source": [
        "class Sigmoid(torch.autograd.Function):\n",
        "    @staticmethod\n",
        "    def forward(ctx, x):\n",
        "        y = 1.0 / (1.0 + (-x).exp())\n",
        "        ctx.save_for_backward(y)\n",
        "        return y\n",
        "    \n",
        "    @staticmethod\n",
        "    def backward(ctx, grad_y):\n",
        "        y, = ctx.saved_tensors\n",
        "        grad_x = grad_y * y * (1.0 - y)\n",
        "        return grad_x \n",
        "\n",
        "def sigmoid(x):\n",
        "    return Sigmoid.apply(x)\n",
        "\n",
        "losses = []\n",
        "N, D_in, H, D_out = 64, 1000, 100, 10\n",
        "\n",
        "x = torch.randn(N, D_in, device=device)\n",
        "y = torch.randn(N, D_out, device=device)\n",
        "w1 = torch.randn(D_in, H, requires_grad=True)\n",
        "w2 = torch.randn(H, D_out, requires_grad=True)\n",
        "\n",
        "learning_rate = 1e-6\n",
        "for t in range(1000):\n",
        "    y_pred = sigmoid(x.mm(w1)).mm(w2)   # matrix mult\n",
        "    loss = (y_pred - y).pow(2).sum()        # computing loss\n",
        "\n",
        "    loss.backward()\n",
        "\n",
        "    with torch.no_grad():\n",
        "        w1 -= learning_rate * w1.grad\n",
        "        w2 -= learning_rate * w2.grad\n",
        "        w1.grad.zero_()\n",
        "        w2.grad.zero_()\n",
        "\n",
        "    losses.append(loss)\n",
        "\n",
        "with torch.no_grad():\n",
        "    plt.plot(range(len(losses)), losses)"
      ],
      "metadata": {
        "colab": {
          "base_uri": "https://localhost:8080/",
          "height": 265
        },
        "id": "iA3LTNM6CSdJ",
        "outputId": "5cdb6a64-f4bb-4ed0-b404-c24b56cc16dd"
      },
      "execution_count": null,
      "outputs": [
        {
          "output_type": "display_data",
          "data": {
            "text/plain": [
              "<Figure size 432x288 with 1 Axes>"
            ],
            "image/png": "[encoded data removed]"
          },
          "metadata": {
            "needs_background": "light"
          }
        }
      ]
    },
    {
      "cell_type": "markdown",
      "source": [
        "# PyTorch: nn"
      ],
      "metadata": {
        "id": "jmncpew1D9Xg"
      }
    },
    {
      "cell_type": "code",
      "source": [
        "import torch \n",
        "\n",
        "losses = []\n",
        "N, D_in, H, D_out = 64, 1000, 100, 10\n",
        "\n",
        "x = torch.randn(N, D_in, device=device)\n",
        "y = torch.randn(N, D_out, device=device)\n",
        "\n",
        "model = torch.nn.Sequential(\n",
        "    torch.nn.Linear(D_in, H),\n",
        "    torch.nn.ReLU(),\n",
        "    torch.nn.Linear(H, D_out)\n",
        ")\n",
        "\n",
        "learning_rate = 1e-2\n",
        "for t in range(500):\n",
        "    y_pred = model(x)                               # Forward pass\n",
        "    loss = torch.nn.functional.mse_loss(y_pred, y)\n",
        "\n",
        "    loss.backward()\n",
        "\n",
        "    with torch.no_grad():\n",
        "        for param in model.parameters():\n",
        "            param -= learning_rate * param.grad\n",
        "    model.zero_grad()\n",
        "\n",
        "    losses.append(loss)\n",
        "\n",
        "with torch.no_grad():\n",
        "    plt.plot(range(50), losses[:50])"
      ],
      "metadata": {
        "colab": {
          "base_uri": "https://localhost:8080/",
          "height": 269
        },
        "id": "v7nWxrQIC_Gw",
        "outputId": "33861692-dd6b-44c2-9010-aef229378da6"
      },
      "execution_count": null,
      "outputs": [
        {
          "output_type": "display_data",
          "data": {
            "text/plain": [
              "<Figure size 432x288 with 1 Axes>"
            ],
            "image/png": "[encoded data removed]"
          },
          "metadata": {
            "needs_background": "light"
          }
        }
      ]
    },
    {
      "cell_type": "markdown",
      "source": [
        "# PyTorch: optim"
      ],
      "metadata": {
        "id": "mG7EvsxxE5Zg"
      }
    },
    {
      "cell_type": "code",
      "source": [
        "import torch \n",
        "\n",
        "losses = []\n",
        "N, D_in, H, D_out = 64, 1000, 100, 10\n",
        "\n",
        "x = torch.randn(N, D_in, device=device)\n",
        "y = torch.randn(N, D_out, device=device)\n",
        "\n",
        "model = torch.nn.Sequential(\n",
        "    torch.nn.Linear(D_in, H),\n",
        "    torch.nn.ReLU(),\n",
        "    torch.nn.Linear(H, D_out)\n",
        ")\n",
        "\n",
        "learning_rate = 1e-4\n",
        "\n",
        "optimizer = torch.optim.Adam(model.parameters(), lr=learning_rate)\n",
        "for t in range(500):\n",
        "    y_pred = model(x)                               # Forward pass\n",
        "    loss = torch.nn.functional.mse_loss(y_pred, y)\n",
        "\n",
        "    loss.backward()\n",
        "    \n",
        "    optimizer.step()\n",
        "    optimizer.zero_grad()\n",
        "\n",
        "    losses.append(loss)\n",
        "\n",
        "with torch.no_grad():\n",
        "    plt.plot(range(50), losses[:50])"
      ],
      "metadata": {
        "colab": {
          "base_uri": "https://localhost:8080/",
          "height": 265
        },
        "id": "u_jRsTb9Eh3f",
        "outputId": "ca019666-f767-4731-87b1-f1c7c7e64bf0"
      },
      "execution_count": null,
      "outputs": [
        {
          "output_type": "display_data",
          "data": {
            "text/plain": [
              "<Figure size 432x288 with 1 Axes>"
            ],
            "image/png": "[encoded data removed]"
          },
          "metadata": {
            "needs_background": "light"
          }
        }
      ]
    },
    {
      "cell_type": "markdown",
      "source": [
        "# PyTorch: nn, Defining modules "
      ],
      "metadata": {
        "id": "rRdL-kdeFPU-"
      }
    },
    {
      "cell_type": "code",
      "source": [
        "import torch\n",
        "\n",
        "losses = []\n",
        "\n",
        "class TwoLayerNet(torch.nn.Module):\n",
        "    def __init__(self, D_in, H, D_out):\n",
        "        super(TwoLayerNet, self).__init__()\n",
        "        self.linear1 = torch.nn.Linear(D_in, H)\n",
        "        self.linear2 = torch.nn.Linear(H, D_out)\n",
        "\n",
        "    def forward(self, x):\n",
        "        h_relu = self.linear1(x).clamp(min=0)\n",
        "        y_pred = self.linear2(h_relu)\n",
        "        return y_pred\n",
        "\n",
        "N, D_in, H, D_out = 64, 1000, 100, 10\n",
        "\n",
        "x = torch.randn(N, D_in)\n",
        "y = torch.randn(N, D_out)\n",
        "\n",
        "model = TwoLayerNet(D_in, H, D_out)\n",
        "\n",
        "optimizer = torch.optim.SGD(model.parameters(), lr=1e-2)\n",
        "\n",
        "for t in range(500):\n",
        "    y_pred = model(x)\n",
        "    loss = torch.nn.functional.mse_loss(y_pred, y)\n",
        "\n",
        "    losses.append(loss)\n",
        "\n",
        "    loss.backward()\n",
        "    optimizer.step()\n",
        "    optimizer.zero_grad()\n",
        "\n",
        "with torch.no_grad():\n",
        "    plt.plot(losses)"
      ],
      "metadata": {
        "colab": {
          "base_uri": "https://localhost:8080/",
          "height": 265
        },
        "id": "SGpxvrTHFI1D",
        "outputId": "06c8bccd-ddb8-4019-bb04-5a8f12249395"
      },
      "execution_count": null,
      "outputs": [
        {
          "output_type": "display_data",
          "data": {
            "text/plain": [
              "<Figure size 432x288 with 1 Axes>"
            ],
            "image/png": "[encoded data removed]"
          },
          "metadata": {
            "needs_background": "light"
          }
        }
      ]
    },
    {
      "cell_type": "markdown",
      "source": [
        "# PyTorch: DataLoaders"
      ],
      "metadata": {
        "id": "1O2jRqnrIu0e"
      }
    },
    {
      "cell_type": "code",
      "source": [
        "from torch.utils.data import TensorDataset, DataLoader"
      ],
      "metadata": {
        "id": "oZMPJQI7HCuK"
      },
      "execution_count": null,
      "outputs": []
    },
    {
      "cell_type": "code",
      "source": [
        "N, D_in, H, D_out = 64, 1000, 100, 10\n",
        "losses = []\n",
        "\n",
        "x = torch.randn(N, D_in)\n",
        "y = torch.randn(N, D_out)\n",
        "\n",
        "loader = DataLoader(TensorDataset(x, y), batch_size=8)\n",
        "\n",
        "model = TwoLayerNet(D_in, H, D_out)\n",
        "\n",
        "optimizer = torch.optim.SGD(model.parameters(), lr=1e-2)\n",
        "for epoch in range(50):\n",
        "    for x_batch, y_batch in loader:\n",
        "        y_pred = model(x_batch)\n",
        "        loss = torch.nn.functional.mse_loss(y_pred, y_batch)\n",
        "        loss.backward()\n",
        "        optimizer.step()\n",
        "        optimizer.zero_grad()\n",
        "    losses.append(torch.nn.functional.mse_loss(model(x), y))\n",
        "\n",
        "with torch.no_grad():\n",
        "    plt.plot(range(len(losses)), losses)"
      ],
      "metadata": {
        "colab": {
          "base_uri": "https://localhost:8080/",
          "height": 268
        },
        "id": "-nqEGvc4I2o6",
        "outputId": "6db48e76-c2d9-432a-9b2e-7c0d778cae1f"
      },
      "execution_count": null,
      "outputs": [
        {
          "output_type": "display_data",
          "data": {
            "text/plain": [
              "<Figure size 432x288 with 1 Axes>"
            ],
            "image/png": "[encoded data removed]"
          },
          "metadata": {
            "needs_background": "light"
          }
        }
      ]
    },
    {
      "cell_type": "markdown",
      "source": [
        "# PyTorch: Pre-trained Models"
      ],
      "metadata": {
        "id": "_bGo1Won7GaN"
      }
    },
    {
      "cell_type": "code",
      "source": [
        "import torchvision\n",
        "\n",
        "alexnet = torchvision.models.alexnet(pretrained=True)\n",
        "vgg16 = torchvision.models.vgg16(pretrained=True)\n",
        "resnet101 = torchvision.models.resnet101(pretrained=True)"
      ],
      "metadata": {
        "colab": {
          "base_uri": "https://localhost:8080/",
          "height": 333,
          "referenced_widgets": [
            "17605cc794424533ab60a332229ccbe6",
            "f0fa5de741d64d0dbf394249f9e23595",
            "0a3910e730c44996a7916c64dbd45438",
            "7f00be3ddd6e45fb9166c2fddc0dae7d",
            "d8f75596722a4982a32a0a19efc3de9b",
            "22752bf96f0a4b87be0583a0ab1f6e9f",
            "befe8665cc9046f09d9bc63685cbf1f5",
            "bab7d5cd100e4565adeb902b4794da07",
            "2d1fab6a24e242d1a7156d37c7633245",
            "65d55880f9ac42deb181bfa0175893f3",
            "61c2699dc50849dea46e5c3f8cb2502d",
            "e0cb1f96a3124c7593dac40286a77b7f",
            "90cd9fc3b3794fb8bbe66195a9a6de79",
            "6ab98c35ca4d4cf191966e235b6a3a4f",
            "1a250542a5de4a93ba0145e481dbe6f0",
            "19ac2cfc51454f82929bbd803f02a9d8",
            "af4d34178a4746088f80d148ffd69870",
            "c70069b376124f90a0cb0bc3db6e4ee2",
            "25e3bd50d5a04398812ed3bbef608aaa",
            "fa8d0844f20547bbbc374db8178cbb71",
            "00b972c17a284b95bd0d5f7494271eae",
            "dcc98e6ff3514c668b3ff648f3191fbd",
            "cf2767e6d79444978248cbaae305d327",
            "7fed94622b6b4ac3b2f72e13e1956fec",
            "656233fc695449dba1b50f99fff4d8b0",
            "f94664f326434fa5b1bf439282fb904b",
            "4fb3d4631d064e0c89aa9f201b4cdc53",
            "aaaca4b71d504d40a078eeded4af2ac5",
            "7945d5472b1f4944be05147f5f3e38bb",
            "600bde1deafb45c2a3a72e4f6a51fefc",
            "ad827917de2b411d984175573c02ab74",
            "177d250613a545bf81395716db5ec08c",
            "aa707a136ecb4f44989362ee094f301c"
          ]
        },
        "id": "ptOR0pM866nK",
        "outputId": "8d181510-a747-4814-d80d-505a69c85b3a"
      },
      "execution_count": null,
      "outputs": [
        {
          "output_type": "stream",
          "name": "stderr",
          "text": [
            "/usr/local/lib/python3.7/dist-packages/torchvision/models/_utils.py:209: UserWarning: The parameter 'pretrained' is deprecated since 0.13 and will be removed in 0.15, please use 'weights' instead.\n",
            "  f\"The parameter '{pretrained_param}' is deprecated since 0.13 and will be removed in 0.15, \"\n",
            "/usr/local/lib/python3.7/dist-packages/torchvision/models/_utils.py:223: UserWarning: Arguments other than a weight enum or `None` for 'weights' are deprecated since 0.13 and will be removed in 0.15. The current behavior is equivalent to passing `weights=AlexNet_Weights.IMAGENET1K_V1`. You can also use `weights=AlexNet_Weights.DEFAULT` to get the most up-to-date weights.\n",
            "  warnings.warn(msg)\n",
            "Downloading: \"https://download.pytorch.org/models/alexnet-owt-7be5be79.pth\" to /root/.cache/torch/hub/checkpoints/alexnet-owt-7be5be79.pth\n"
          ]
        },
        {
          "output_type": "display_data",
          "data": {
            "text/plain": [
              "  0%|          | 0.00/233M [00:00<?, ?B/s]"
            ],
            "application/vnd.jupyter.widget-view+json": {
              "version_major": 2,
              "version_minor": 0,
              "model_id": "17605cc794424533ab60a332229ccbe6"
            }
          },
          "metadata": {}
        },
        {
          "output_type": "stream",
          "name": "stderr",
          "text": [
            "/usr/local/lib/python3.7/dist-packages/torchvision/models/_utils.py:223: UserWarning: Arguments other than a weight enum or `None` for 'weights' are deprecated since 0.13 and will be removed in 0.15. The current behavior is equivalent to passing `weights=VGG16_Weights.IMAGENET1K_V1`. You can also use `weights=VGG16_Weights.DEFAULT` to get the most up-to-date weights.\n",
            "  warnings.warn(msg)\n",
            "Downloading: \"https://download.pytorch.org/models/vgg16-397923af.pth\" to /root/.cache/torch/hub/checkpoints/vgg16-397923af.pth\n"
          ]
        },
        {
          "output_type": "display_data",
          "data": {
            "text/plain": [
              "  0%|          | 0.00/528M [00:00<?, ?B/s]"
            ],
            "application/vnd.jupyter.widget-view+json": {
              "version_major": 2,
              "version_minor": 0,
              "model_id": "e0cb1f96a3124c7593dac40286a77b7f"
            }
          },
          "metadata": {}
        },
        {
          "output_type": "stream",
          "name": "stderr",
          "text": [
            "/usr/local/lib/python3.7/dist-packages/torchvision/models/_utils.py:223: UserWarning: Arguments other than a weight enum or `None` for 'weights' are deprecated since 0.13 and will be removed in 0.15. The current behavior is equivalent to passing `weights=ResNet101_Weights.IMAGENET1K_V1`. You can also use `weights=ResNet101_Weights.DEFAULT` to get the most up-to-date weights.\n",
            "  warnings.warn(msg)\n",
            "Downloading: \"https://download.pytorch.org/models/resnet101-63fe2227.pth\" to /root/.cache/torch/hub/checkpoints/resnet101-63fe2227.pth\n"
          ]
        },
        {
          "output_type": "display_data",
          "data": {
            "text/plain": [
              "  0%|          | 0.00/171M [00:00<?, ?B/s]"
            ],
            "application/vnd.jupyter.widget-view+json": {
              "version_major": 2,
              "version_minor": 0,
              "model_id": "cf2767e6d79444978248cbaae305d327"
            }
          },
          "metadata": {}
        }
      ]
    },
    {
      "cell_type": "code",
      "source": [
        "alexnet"
      ],
      "metadata": {
        "colab": {
          "base_uri": "https://localhost:8080/"
        },
        "id": "FRvfBw7i7d2_",
        "outputId": "7d65a394-f037-4c25-9b8b-9ba425ff864f"
      },
      "execution_count": null,
      "outputs": [
        {
          "output_type": "execute_result",
          "data": {
            "text/plain": [
              "AlexNet(\n",
              "  (features): Sequential(\n",
              "    (0): Conv2d(3, 64, kernel_size=(11, 11), stride=(4, 4), padding=(2, 2))\n",
              "    (1): ReLU(inplace=True)\n",
              "    (2): MaxPool2d(kernel_size=3, stride=2, padding=0, dilation=1, ceil_mode=False)\n",
              "    (3): Conv2d(64, 192, kernel_size=(5, 5), stride=(1, 1), padding=(2, 2))\n",
              "    (4): ReLU(inplace=True)\n",
              "    (5): MaxPool2d(kernel_size=3, stride=2, padding=0, dilation=1, ceil_mode=False)\n",
              "    (6): Conv2d(192, 384, kernel_size=(3, 3), stride=(1, 1), padding=(1, 1))\n",
              "    (7): ReLU(inplace=True)\n",
              "    (8): Conv2d(384, 256, kernel_size=(3, 3), stride=(1, 1), padding=(1, 1))\n",
              "    (9): ReLU(inplace=True)\n",
              "    (10): Conv2d(256, 256, kernel_size=(3, 3), stride=(1, 1), padding=(1, 1))\n",
              "    (11): ReLU(inplace=True)\n",
              "    (12): MaxPool2d(kernel_size=3, stride=2, padding=0, dilation=1, ceil_mode=False)\n",
              "  )\n",
              "  (avgpool): AdaptiveAvgPool2d(output_size=(6, 6))\n",
              "  (classifier): Sequential(\n",
              "    (0): Dropout(p=0.5, inplace=False)\n",
              "    (1): Linear(in_features=9216, out_features=4096, bias=True)\n",
              "    (2): ReLU(inplace=True)\n",
              "    (3): Dropout(p=0.5, inplace=False)\n",
              "    (4): Linear(in_features=4096, out_features=4096, bias=True)\n",
              "    (5): ReLU(inplace=True)\n",
              "    (6): Linear(in_features=4096, out_features=1000, bias=True)\n",
              "  )\n",
              ")"
            ]
          },
          "metadata": {},
          "execution_count": 15
        }
      ]
    },
    {
      "cell_type": "markdown",
      "source": [
        "# PyTorch: Dynamic Computation Graph"
      ],
      "metadata": {
        "id": "BRiD4XVq9YdJ"
      }
    },
    {
      "cell_type": "code",
      "source": [
        "N, D_in, H, D_out = 64, 1000, 100, 10\n",
        "\n",
        "x = torch.randn(N, D_in)\n",
        "y = torch.randn(N, D_out)\n",
        "\n",
        "w1 = torch.randn(D_in, H, requires_grad=True)\n",
        "w2a = torch.randn(H, D_out, requires_grad=True)\n",
        "w2b = torch.randn(H, D_out, requires_grad=True)\n",
        "\n",
        "learning_rate = 1e-6\n",
        "prev_loss = 5.0\n",
        "\n",
        "for t in range(500):\n",
        "    w2 = w2a if prev_loss < 5.0 else w2b # Using regular python control flow to construct computational graphs\n",
        "    y_pred = x.mm(w1).clamp(min=0).mm(w2)\n",
        "    loss = (y_pred - y).pow(2).sum()\n",
        "\n",
        "    loss.backward()\n",
        "    prev_loss = loss.item()"
      ],
      "metadata": {
        "id": "ZPd2hDYa9XUe"
      },
      "execution_count": null,
      "outputs": []
    },
    {
      "cell_type": "markdown",
      "source": [
        "# PyTorch: Static Graphs with JIT"
      ],
      "metadata": {
        "id": "ph12CuxK-ToX"
      }
    },
    {
      "cell_type": "code",
      "source": [
        "def model(x, y, w1, w2a, w2b, prev_loss):\n",
        "    w2 = w2a if prev_loss < 5.0 else w2b \n",
        "    y_pred = x.mm(w1).clamp(min=0).mm(w2)\n",
        "    loss = (y_pred - y).pow(2).sum()\n",
        "    return loss\n",
        "\n",
        "N, D_in, H, D_out = 64, 1000, 100, 10\n",
        "\n",
        "x = torch.randn(N, D_in)\n",
        "y = torch.randn(N, D_out)\n",
        "\n",
        "w1 = torch.randn(D_in, H, requires_grad=True)\n",
        "w2a = torch.randn(H, D_out, requires_grad=True)\n",
        "w2b = torch.randn(H, D_out, requires_grad=True)\n",
        "\n",
        "graph = torch.jit.script(model)\n",
        "\n",
        "prev_loss = 5.0\n",
        "learning_rate = 1e-6\n",
        "for t in range(50):\n",
        "    loss = graph(x, y, w1, w2a, w2b, prev_loss)\n",
        "\n",
        "    loss.backward()\n",
        "    prev_loss = loss.item()"
      ],
      "metadata": {
        "id": "4OGtYwf27rxL"
      },
      "execution_count": null,
      "outputs": []
    },
    {
      "cell_type": "markdown",
      "source": [
        "# PyTorch: real example"
      ],
      "metadata": {
        "id": "pBbX8sL13u4R"
      }
    },
    {
      "cell_type": "code",
      "source": [
        "import torch\n",
        "from torch.utils.data import Dataset\n",
        "from torchvision import datasets\n",
        "from torchvision.transforms import ToTensor, Lambda\n",
        "from matplotlib import pyplot as plt\n",
        "\n",
        "training_data = datasets.FashionMNIST(\n",
        "    root=\"data\",\n",
        "    train=True,\n",
        "    download=True,\n",
        "    transform=ToTensor()\n",
        ")\n",
        "\n",
        "test_data = datasets.FashionMNIST(\n",
        "    root=\"data\",\n",
        "    train=False,\n",
        "    download=True,\n",
        "    transform=ToTensor()\n",
        ")\n",
        "\n",
        "labels_map = {\n",
        "    0: \"T-Shirt\",\n",
        "    1: \"Trouser\",\n",
        "    2: \"Pullover\",\n",
        "    3: \"Dress\",\n",
        "    4: \"Coat\",\n",
        "    5: \"Sandal\",\n",
        "    6: \"Shirt\",\n",
        "    7: \"Sneaker\",\n",
        "    8: \"Bag\",\n",
        "    9: \"Ankle Boot\",\n",
        "}\n",
        "\n",
        "figure = plt.figure(figsize=(8, 8))\n",
        "cols, rows = 3, 3\n",
        "\n",
        "for i in range(1, cols * rows + 1):\n",
        "    sample_idx = torch.randint(len(training_data), size=(1,)).item()\n",
        "    img, label = training_data[sample_idx]\n",
        "    figure.add_subplot(rows, cols, i)\n",
        "    plt.title(labels_map[label])\n",
        "    plt.axis(\"off\")\n",
        "    plt.imshow(img.squeeze(), cmap=\"gray\")\n",
        "plt.show()"
      ],
      "metadata": {
        "colab": {
          "base_uri": "https://localhost:8080/",
          "height": 920,
          "referenced_widgets": [
            "5f3e947e03f5462fab27202ba91e7f4d",
            "17778e05da374de48c1a7c1e10a5d0ed",
            "b4173bceda1f4d54a8de5237ed75adc0",
            "a8e196fc7f924466b181a8c85cbcfd19",
            "d692ea0a095244d58ff846e7270c56a0",
            "7390fc1989a345a098379db0f6130b58",
            "fc646ef43ac7444c8908cd2ce3f21e0a",
            "183baf5794f64c51b0b6610f71fc8558",
            "ba436d1674de428ebb5a22d5611b75ab",
            "cb15baf6632943719b6e5fc73e7a5ed2",
            "fb0a7af82a96474397c5480977d4fa86",
            "95b30aee69e54a2e975cae642b4c42e6",
            "cd9a533dbf59420d99cc1253f045c0f8",
            "e06353317af3460ba18e9ef71e72d32e",
            "5656f67dbbf64aeca9121bab4e57719f",
            "30f03507662e42d59f226d22f71832d5",
            "06c3415892644ea3acb5c4ea7168bec0",
            "adde2a9063434ce9bacd6eb12270d858",
            "9591d07cd3b84c36b7e17d35537a6095",
            "61da9a67d58249c2aea02d3d85856c95",
            "0ce1b8faf3e04dc0930fac00cb2be6de",
            "ff87fc388fb04c4d9d283b146d34ccdc",
            "91677bb33ede4a2bb5d51ffe9b5b0476",
            "cc5169abf25a4b7081ee20c1d86cbab1",
            "7b1c3091c6e741aeb062394fb18d6163",
            "c428cb5776fa415ca07e7b5306188616",
            "6d66f2e9a942492792c62f5b0990d334",
            "1aa1d5a94e304b8c83d5dabc129af203",
            "f0d6f71a89b04ab1aea1b0f6934f08ee",
            "3f9eee00331949c59164f70b644963bb",
            "880a450eb0e64d9e858c5a6c85d94d6e",
            "d71aaddaf8c74af9962e8fa6d1984a75",
            "89b42f8d65d94a60a21aea4ec3e39c05",
            "f69b13440d354a918072a7efc702b431",
            "b163d9cff9a54f16be1fb73ee1411351",
            "0c9113ba43224a148a60f72073f955ae",
            "15c1c0fbfad345a98ea5d17add8fcaf4",
            "b75bac425213405bb279ffcb571fbefd",
            "c2ca25bbb126489da86712c16e649c72",
            "e7d811ba436841cc86e41eb1167350ef",
            "d462eefaac2e4f01849ac1f36a81e9a5",
            "32438e01e7dd4bf6951bb766c8de6032",
            "0e2659318c01410297dd2669a46d8910",
            "c76dea1956ca400b8145bd8bd18e2fb2"
          ]
        },
        "id": "oeAVn4N73vls",
        "outputId": "2b1057cc-5357-4b16-a2e3-3482ccab9515"
      },
      "execution_count": null,
      "outputs": [
        {
          "output_type": "stream",
          "name": "stdout",
          "text": [
            "Downloading http://fashion-mnist.s3-website.eu-central-1.amazonaws.com/train-images-idx3-ubyte.gz\n",
            "Downloading http://fashion-mnist.s3-website.eu-central-1.amazonaws.com/train-images-idx3-ubyte.gz to data/FashionMNIST/raw/train-images-idx3-ubyte.gz\n"
          ]
        },
        {
          "output_type": "display_data",
          "data": {
            "text/plain": [
              "  0%|          | 0/26421880 [00:00<?, ?it/s]"
            ],
            "application/vnd.jupyter.widget-view+json": {
              "version_major": 2,
              "version_minor": 0,
              "model_id": "5f3e947e03f5462fab27202ba91e7f4d"
            }
          },
          "metadata": {}
        },
        {
          "output_type": "stream",
          "name": "stdout",
          "text": [
            "Extracting data/FashionMNIST/raw/train-images-idx3-ubyte.gz to data/FashionMNIST/raw\n",
            "\n",
            "Downloading http://fashion-mnist.s3-website.eu-central-1.amazonaws.com/train-labels-idx1-ubyte.gz\n",
            "Downloading http://fashion-mnist.s3-website.eu-central-1.amazonaws.com/train-labels-idx1-ubyte.gz to data/FashionMNIST/raw/train-labels-idx1-ubyte.gz\n"
          ]
        },
        {
          "output_type": "display_data",
          "data": {
            "text/plain": [
              "  0%|          | 0/29515 [00:00<?, ?it/s]"
            ],
            "application/vnd.jupyter.widget-view+json": {
              "version_major": 2,
              "version_minor": 0,
              "model_id": "95b30aee69e54a2e975cae642b4c42e6"
            }
          },
          "metadata": {}
        },
        {
          "output_type": "stream",
          "name": "stdout",
          "text": [
            "Extracting data/FashionMNIST/raw/train-labels-idx1-ubyte.gz to data/FashionMNIST/raw\n",
            "\n",
            "Downloading http://fashion-mnist.s3-website.eu-central-1.amazonaws.com/t10k-images-idx3-ubyte.gz\n",
            "Downloading http://fashion-mnist.s3-website.eu-central-1.amazonaws.com/t10k-images-idx3-ubyte.gz to data/FashionMNIST/raw/t10k-images-idx3-ubyte.gz\n"
          ]
        },
        {
          "output_type": "display_data",
          "data": {
            "text/plain": [
              "  0%|          | 0/4422102 [00:00<?, ?it/s]"
            ],
            "application/vnd.jupyter.widget-view+json": {
              "version_major": 2,
              "version_minor": 0,
              "model_id": "91677bb33ede4a2bb5d51ffe9b5b0476"
            }
          },
          "metadata": {}
        },
        {
          "output_type": "stream",
          "name": "stdout",
          "text": [
            "Extracting data/FashionMNIST/raw/t10k-images-idx3-ubyte.gz to data/FashionMNIST/raw\n",
            "\n",
            "Downloading http://fashion-mnist.s3-website.eu-central-1.amazonaws.com/t10k-labels-idx1-ubyte.gz\n",
            "Downloading http://fashion-mnist.s3-website.eu-central-1.amazonaws.com/t10k-labels-idx1-ubyte.gz to data/FashionMNIST/raw/t10k-labels-idx1-ubyte.gz\n"
          ]
        },
        {
          "output_type": "display_data",
          "data": {
            "text/plain": [
              "  0%|          | 0/5148 [00:00<?, ?it/s]"
            ],
            "application/vnd.jupyter.widget-view+json": {
              "version_major": 2,
              "version_minor": 0,
              "model_id": "f69b13440d354a918072a7efc702b431"
            }
          },
          "metadata": {}
        },
        {
          "output_type": "stream",
          "name": "stdout",
          "text": [
            "Extracting data/FashionMNIST/raw/t10k-labels-idx1-ubyte.gz to data/FashionMNIST/raw\n",
            "\n"
          ]
        },
        {
          "output_type": "display_data",
          "data": {
            "text/plain": [
              "<Figure size 576x576 with 9 Axes>"
            ],
            "image/png": "[encoded data removed]"
          },
          "metadata": {
            "needs_background": "light"
          }
        }
      ]
    },
    {
      "cell_type": "code",
      "source": [
        "from torch.utils.data import DataLoader\n",
        "\n",
        "train_dataloader = DataLoader(training_data, batch_size=64, shuffle=True)\n",
        "test_dataloader = DataLoader(test_data, batch_size=64, shuffle=True)"
      ],
      "metadata": {
        "id": "eoJhauB65GVG"
      },
      "execution_count": null,
      "outputs": []
    },
    {
      "cell_type": "code",
      "source": [
        "import os\n",
        "import torch\n",
        "from torch import nn\n",
        "from torch.utils.data import DataLoader\n",
        "from torchvision import datasets, transforms\n",
        "\n",
        "device = \"cuda\" if torch.cuda.is_available() else \"cpu\"\n",
        "\n",
        "class NeuralNetwork(nn.Module):\n",
        "    def __init__(self):\n",
        "        super(NeuralNetwork, self).__init__()\n",
        "        self.flatten = nn.Flatten()\n",
        "        self.linear_relu_stack = nn.Sequential(\n",
        "            nn.Linear(28*28, 512),\n",
        "            nn.ReLU(),\n",
        "            nn.Linear(512, 512),\n",
        "            nn.ReLU(),\n",
        "            nn.Linear(512, 10),\n",
        "        )\n",
        "\n",
        "    def forward(self, x):\n",
        "        x = self.flatten(x)\n",
        "        logits = self.linear_relu_stack(x)\n",
        "        return logits\n",
        "\n",
        "model = NeuralNetwork().to(device)\n",
        "print(model)"
      ],
      "metadata": {
        "colab": {
          "base_uri": "https://localhost:8080/"
        },
        "id": "xpjmFXSL5sIn",
        "outputId": "ac09b534-16f7-4296-d92f-3274bd973e29"
      },
      "execution_count": null,
      "outputs": [
        {
          "output_type": "stream",
          "name": "stdout",
          "text": [
            "NeuralNetwork(\n",
            "  (flatten): Flatten(start_dim=1, end_dim=-1)\n",
            "  (linear_relu_stack): Sequential(\n",
            "    (0): Linear(in_features=784, out_features=512, bias=True)\n",
            "    (1): ReLU()\n",
            "    (2): Linear(in_features=512, out_features=512, bias=True)\n",
            "    (3): ReLU()\n",
            "    (4): Linear(in_features=512, out_features=10, bias=True)\n",
            "  )\n",
            ")\n"
          ]
        }
      ]
    },
    {
      "cell_type": "code",
      "source": [
        "learning_rate = 1e-2\n",
        "batch_size = 64\n",
        "epochs = 5\n",
        "\n",
        "loss_fn = nn.CrossEntropyLoss()\n",
        "optimizer = torch.optim.Adam(model.parameters(), lr=learning_rate)\n",
        "\n",
        "def train_loop(dataloader, model, loss_fn, optimizer):\n",
        "    size = len(dataloader.dataset)\n",
        "    for batch, (X, y) in enumerate(dataloader):\n",
        "        # Compute prediction and loss\n",
        "        pred = model(X)\n",
        "        loss = loss_fn(pred, y)\n",
        "\n",
        "        # Backpropagation\n",
        "        optimizer.zero_grad()\n",
        "        loss.backward()\n",
        "        optimizer.step()\n",
        "\n",
        "        if batch % 200 == 0:\n",
        "            loss, current = loss.item(), batch * len(X)\n",
        "            print(f\"loss: {loss:>7f}  [{current:>5d}/{size:>5d}]\")\n",
        "\n",
        "\n",
        "def test_loop(dataloader, model, loss_fn):\n",
        "    size = len(dataloader.dataset)\n",
        "    num_batches = len(dataloader)\n",
        "    test_loss, correct = 0, 0\n",
        "\n",
        "    with torch.no_grad():\n",
        "        for X, y in dataloader:\n",
        "            pred = model(X)\n",
        "            test_loss += loss_fn(pred, y).item()\n",
        "            correct += (pred.argmax(1) == y).type(torch.float).sum().item()\n",
        "\n",
        "    test_loss /= num_batches\n",
        "    correct /= size\n",
        "    print(f\"Test Error: \\n Accuracy: {(100*correct):>0.1f}%, Avg loss: {test_loss:>8f} \\n\")\n",
        "\n",
        "epochs = 10\n",
        "for t in range(epochs):\n",
        "    print(f\"Epoch {t+1}\\n-------------------------------\")\n",
        "    train_loop(train_dataloader, model, loss_fn, optimizer)\n",
        "    test_loop(test_dataloader, model, loss_fn)\n",
        "print(\"Done!\")"
      ],
      "metadata": {
        "colab": {
          "base_uri": "https://localhost:8080/"
        },
        "id": "jOQcL0Cf6Hdb",
        "outputId": "18a61cd6-0045-4f08-d6bc-cb8121f3eba7"
      },
      "execution_count": null,
      "outputs": [
        {
          "output_type": "stream",
          "name": "stdout",
          "text": [
            "Epoch 1\n",
            "-------------------------------\n",
            "loss: 2.300106  [    0/60000]\n",
            "loss: 0.437710  [12800/60000]\n",
            "loss: 0.443464  [25600/60000]\n",
            "loss: 0.405375  [38400/60000]\n",
            "loss: 0.315110  [51200/60000]\n",
            "Test Error: \n",
            " Accuracy: 82.6%, Avg loss: 0.530263 \n",
            "\n",
            "Epoch 2\n",
            "-------------------------------\n",
            "loss: 0.385825  [    0/60000]\n",
            "loss: 0.510349  [12800/60000]\n",
            "loss: 0.288750  [25600/60000]\n",
            "loss: 0.284948  [38400/60000]\n",
            "loss: 0.369756  [51200/60000]\n",
            "Test Error: \n",
            " Accuracy: 80.5%, Avg loss: 0.535733 \n",
            "\n",
            "Epoch 3\n",
            "-------------------------------\n",
            "loss: 0.682651  [    0/60000]\n",
            "loss: 0.369612  [12800/60000]\n",
            "loss: 0.494970  [25600/60000]\n",
            "loss: 0.371507  [38400/60000]\n",
            "loss: 0.476706  [51200/60000]\n",
            "Test Error: \n",
            " Accuracy: 84.0%, Avg loss: 0.461921 \n",
            "\n",
            "Epoch 4\n",
            "-------------------------------\n",
            "loss: 0.457413  [    0/60000]\n",
            "loss: 0.240730  [12800/60000]\n",
            "loss: 0.350581  [25600/60000]\n",
            "loss: 0.351807  [38400/60000]\n",
            "loss: 0.387648  [51200/60000]\n",
            "Test Error: \n",
            " Accuracy: 84.1%, Avg loss: 0.448412 \n",
            "\n",
            "Epoch 5\n",
            "-------------------------------\n",
            "loss: 0.365872  [    0/60000]\n",
            "loss: 0.630448  [12800/60000]\n",
            "loss: 0.244322  [25600/60000]\n",
            "loss: 0.443101  [38400/60000]\n",
            "loss: 0.384680  [51200/60000]\n",
            "Test Error: \n",
            " Accuracy: 84.7%, Avg loss: 0.429004 \n",
            "\n",
            "Epoch 6\n",
            "-------------------------------\n",
            "loss: 0.285548  [    0/60000]\n",
            "loss: 0.472688  [12800/60000]\n",
            "loss: 0.368846  [25600/60000]\n",
            "loss: 0.413942  [38400/60000]\n",
            "loss: 0.253912  [51200/60000]\n",
            "Test Error: \n",
            " Accuracy: 84.6%, Avg loss: 0.447029 \n",
            "\n",
            "Epoch 7\n",
            "-------------------------------\n",
            "loss: 0.254574  [    0/60000]\n",
            "loss: 0.432573  [12800/60000]\n",
            "loss: 0.319670  [25600/60000]\n",
            "loss: 0.502014  [38400/60000]\n",
            "loss: 0.414195  [51200/60000]\n",
            "Test Error: \n",
            " Accuracy: 85.6%, Avg loss: 0.428481 \n",
            "\n",
            "Epoch 8\n",
            "-------------------------------\n",
            "loss: 0.290492  [    0/60000]\n",
            "loss: 0.495922  [12800/60000]\n",
            "loss: 0.420656  [25600/60000]\n",
            "loss: 0.367447  [38400/60000]\n",
            "loss: 0.442786  [51200/60000]\n",
            "Test Error: \n",
            " Accuracy: 85.4%, Avg loss: 0.420301 \n",
            "\n",
            "Epoch 9\n",
            "-------------------------------\n",
            "loss: 0.465890  [    0/60000]\n",
            "loss: 0.530332  [12800/60000]\n",
            "loss: 0.493535  [25600/60000]\n",
            "loss: 0.463280  [38400/60000]\n",
            "loss: 0.430403  [51200/60000]\n",
            "Test Error: \n",
            " Accuracy: 85.0%, Avg loss: 0.432574 \n",
            "\n",
            "Epoch 10\n",
            "-------------------------------\n",
            "loss: 0.423150  [    0/60000]\n",
            "loss: 0.290903  [12800/60000]\n",
            "loss: 0.323667  [25600/60000]\n",
            "loss: 0.329682  [38400/60000]\n",
            "loss: 0.331581  [51200/60000]\n",
            "Test Error: \n",
            " Accuracy: 83.3%, Avg loss: 0.457636 \n",
            "\n",
            "Done!\n"
          ]
        }
      ]
    },
    {
      "cell_type": "code",
      "source": [
        "torch.save(model.state_dict(), 'model_weights.pth')\n",
        "##############\n",
        "model.load_state_dict(torch.load('model_weights.pth'))"
      ],
      "metadata": {
        "colab": {
          "base_uri": "https://localhost:8080/"
        },
        "id": "yiZJgUEA7n6A",
        "outputId": "5ad3bfa8-0f0f-4265-f3c3-ff4efd3cea01"
      },
      "execution_count": null,
      "outputs": [
        {
          "output_type": "execute_result",
          "data": {
            "text/plain": [
              "<All keys matched successfully>"
            ]
          },
          "metadata": {},
          "execution_count": 26
        }
      ]
    },
    {
      "cell_type": "code",
      "source": [
        "torch.save(model, 'model.pth')\n",
        "##############\n",
        "model = torch.load('model.pth')"
      ],
      "metadata": {
        "id": "ftv0Eueg8KEK"
      },
      "execution_count": null,
      "outputs": []
    },
    {
      "cell_type": "code",
      "source": [
        "!ls -l --block-size=M"
      ],
      "metadata": {
        "colab": {
          "base_uri": "https://localhost:8080/"
        },
        "id": "NmOPJSwV7w65",
        "outputId": "2b6c869f-175a-407c-e9df-fb5a5da2dd39"
      },
      "execution_count": null,
      "outputs": [
        {
          "output_type": "stream",
          "name": "stdout",
          "text": [
            "total 6M\n",
            "drwxr-xr-x 3 root root 1M Sep 29 20:33 data\n",
            "-rw-r--r-- 1 root root 3M Sep 29 20:38 model.pth\n",
            "-rw-r--r-- 1 root root 3M Sep 29 20:38 model_weights.pth\n",
            "drwxr-xr-x 1 root root 1M Sep 26 13:45 sample_data\n"
          ]
        }
      ]
    },
    {
      "cell_type": "markdown",
      "source": [
        "# Tensorflow 1.0: Static Graphs\n"
      ],
      "metadata": {
        "id": "oCk9Cpr0CZDy"
      }
    },
    {
      "cell_type": "code",
      "source": [
        "import numpy as np\n",
        "import tensorflow.compat.v1 as tf\n",
        "tf.disable_v2_behavior()\n",
        "\n",
        "N, D, H = 64, 1000, 100\n",
        "\n",
        "x = tf.placeholder(tf.float32, shape=(N, D))\n",
        "y = tf.placeholder(tf.float32, shape=(N, D))\n",
        "w1 = tf.placeholder(tf.float32, shape=(D, H))\n",
        "w2 = tf.placeholder(tf.float32, shape=(H, D))\n",
        "\n",
        "h = tf.maximum(tf.matmul(x, w1), 0)\n",
        "y_pred = tf.matmul(h, w2)\n",
        "diff = y_pred - y\n",
        "loss = tf.reduce_mean(tf.reduce_sum(diff**2, axis=1))\n",
        "\n",
        "grad_w1, grad_w2 = tf.gradients(loss, [w1, w2])\n",
        "\n",
        "learning_rate = 1e-3\n",
        "with tf.Session() as sess:\n",
        "    values = {\n",
        "        x : np.random.randn(N, D),\n",
        "        y : np.random.randn(N, D),\n",
        "        w1 : np.random.randn(D, H),\n",
        "        w2 : np.random.randn(H, D)\n",
        "    }\n",
        "    for epoch in range(100):\n",
        "        out = sess.run([loss, grad_w1, grad_w2], feed_dict=values)\n",
        "        loss_val, grad_w1_val, grad_w2_val = out"
      ],
      "metadata": {
        "id": "G37tzoIf_MsN"
      },
      "execution_count": null,
      "outputs": []
    },
    {
      "cell_type": "markdown",
      "source": [
        "# Tensorflow 2.0: Dynamic Graphs"
      ],
      "metadata": {
        "id": "2XzUggMe_f_L"
      }
    },
    {
      "cell_type": "code",
      "source": [
        "import tensorflow as tf\n",
        "from matplotlib import pyplot as plt\n",
        "\n",
        "N, Din, H, Dout = 64, 1000, 100, 10\n",
        "\n",
        "x = tf.random.normal((N, Din))\n",
        "y = tf.random.normal((N, Dout))\n",
        "w1 = tf.Variable(tf.random.normal((Din, H)))\n",
        "w2 = tf.Variable(tf.random.normal((H, Dout)))\n",
        "\n",
        "learning_rate = 1e-4\n",
        "losses = []\n",
        "\n",
        "for t in range(100):\n",
        "    with tf.GradientTape() as tape:\n",
        "        h = tf.maximum(tf.matmul(x, w1), 0)\n",
        "        y_pred = tf.matmul(h, w2)\n",
        "        diff = y_pred - y\n",
        "        loss = tf.reduce_mean(tf.reduce_sum(diff**2, axis=1))\n",
        "\n",
        "    grad_w1, grad_w2 = tape.gradient(loss, [w1, w2])\n",
        "    losses.append(loss)\n",
        "\n",
        "    w1.assign(w1 - learning_rate * grad_w1)\n",
        "    w2.assign(w2 - learning_rate * grad_w2)\n",
        "\n",
        "plt.plot(losses)"
      ],
      "metadata": {
        "colab": {
          "base_uri": "https://localhost:8080/",
          "height": 294
        },
        "id": "u0JIGdf0Elhh",
        "outputId": "911f490c-cf84-4032-e0bd-096abf6cdb39"
      },
      "execution_count": null,
      "outputs": [
        {
          "output_type": "execute_result",
          "data": {
            "text/plain": [
              "[<matplotlib.lines.Line2D at 0x7f753c192b50>]"
            ]
          },
          "metadata": {},
          "execution_count": 6
        },
        {
          "output_type": "display_data",
          "data": {
            "text/plain": [
              "<Figure size 432x288 with 1 Axes>"
            ],
            "image/png": "[encoded data removed]"
          },
          "metadata": {
            "needs_background": "light"
          }
        }
      ]
    },
    {
      "cell_type": "markdown",
      "source": [
        "# Tensorflow 2.0: Static Graphs"
      ],
      "metadata": {
        "id": "0E_IYR6oGKBy"
      }
    },
    {
      "cell_type": "code",
      "source": [
        "# Define a function that implements forward, backward, and update\n",
        "@tf.function\n",
        "def step(x, y, w1, w2):\n",
        "    with tf.GradientTape() as tape:\n",
        "        h = tf.maximum(tf.matmul(x, w1), 0)\n",
        "        y_pred = tf.matmul(h, w2)\n",
        "        diff = y_pred - y\n",
        "        loss = tf.reduce_mean(tf.reduce_sum(diff**2, axis=1))\n",
        "    #note TF graph can include gradient computation and update, unlike PyTorch\n",
        "    grad_w1, grad_w2 = tape.gradient(loss, [w1, w2])\n",
        "\n",
        "    w1.assign(w1 - learning_rate * grad_w1)\n",
        "    w2.assign(w2 - learning_rate * grad_w2)\n",
        "    return loss\n",
        "\n",
        "N, Din, H, Dout = 64, 1000, 100, 10\n",
        "losses = []\n",
        "\n",
        "x = tf.random.normal((N, Din))\n",
        "y = tf.random.normal((N, Dout))\n",
        "w1 = tf.Variable(tf.random.normal((Din, H)))\n",
        "w2 = tf.Variable(tf.random.normal((H, Dout)))\n",
        "\n",
        "learning_rate = 1e-6\n",
        "for t in range(200):\n",
        "    loss = step(x, y, w1, w2)\n",
        "    losses.append(loss)\n",
        "\n",
        "plt.plot(losses)"
      ],
      "metadata": {
        "colab": {
          "base_uri": "https://localhost:8080/",
          "height": 283
        },
        "id": "fjYJgM8YCdFU",
        "outputId": "befbfc8e-ee3d-4520-82ff-f97b69dd6067"
      },
      "execution_count": null,
      "outputs": [
        {
          "output_type": "execute_result",
          "data": {
            "text/plain": [
              "[<matplotlib.lines.Line2D at 0x7f753c015990>]"
            ]
          },
          "metadata": {},
          "execution_count": 8
        },
        {
          "output_type": "display_data",
          "data": {
            "text/plain": [
              "<Figure size 432x288 with 1 Axes>"
            ],
            "image/png": "[encoded data removed]"
          },
          "metadata": {
            "needs_background": "light"
          }
        }
      ]
    },
    {
      "cell_type": "markdown",
      "source": [
        "# Keras: High-level API"
      ],
      "metadata": {
        "id": "1QjSQkEqIanr"
      }
    },
    {
      "cell_type": "code",
      "source": [
        "import tensorflow as tf\n",
        "from tensorflow.keras.models import Sequential\n",
        "from tensorflow.keras.layers import InputLayer, Dense\n",
        "\n",
        "N, Din, H, Dout = 64, 1000, 100, 10\n",
        "losses = []\n",
        "\n",
        "model = Sequential()\n",
        "model.add(InputLayer(input_shape=(Din,)))\n",
        "model.add(Dense(units=H, activation='relu'))\n",
        "model.add(Dense(units=Dout))\n",
        "params = model.trainable_variables\n",
        "\n",
        "loss_fn = tf.keras.losses.MeanSquaredError()\n",
        "opt = tf.keras.optimizers.SGD(learning_rate=1e-3)\n",
        "\n",
        "x = tf.random.normal((N, Din))\n",
        "y = tf.random.normal((N, Dout))\n",
        "\n",
        "for t in range(500):\n",
        "    with tf.GradientTape() as tape:\n",
        "        y_pred = model(x)\n",
        "        loss = loss_fn(y_pred, y)\n",
        "    losses.append(loss)\n",
        "    grads = tape.gradient(loss, params)\n",
        "    opt.apply_gradients(zip(grads, params))\n",
        "\n",
        "plt.plot(losses)"
      ],
      "metadata": {
        "colab": {
          "base_uri": "https://localhost:8080/",
          "height": 283
        },
        "id": "FiXbBWK9HF_P",
        "outputId": "990a2748-cb81-4d2a-fa24-18248bd3caf6"
      },
      "execution_count": null,
      "outputs": [
        {
          "output_type": "execute_result",
          "data": {
            "text/plain": [
              "[<matplotlib.lines.Line2D at 0x7f7539f1e350>]"
            ]
          },
          "metadata": {},
          "execution_count": 10
        },
        {
          "output_type": "display_data",
          "data": {
            "text/plain": [
              "<Figure size 432x288 with 1 Axes>"
            ],
            "image/png": "[encoded data removed]"
          },
          "metadata": {
            "needs_background": "light"
          }
        }
      ]
    },
    {
      "cell_type": "code",
      "source": [
        "import tensorflow as tf\n",
        "from tensorflow.keras.models import Sequential\n",
        "from tensorflow.keras.layers import InputLayer, Dense\n",
        "\n",
        "N, Din, H, Dout = 64, 1000, 100, 10\n",
        "losses = []\n",
        "\n",
        "model = Sequential()\n",
        "model.add(InputLayer(input_shape=(Din,)))\n",
        "model.add(Dense(units=H, activation='relu'))\n",
        "model.add(Dense(units=Dout))\n",
        "params = model.trainable_variables\n",
        "\n",
        "loss_fn = tf.keras.losses.MeanSquaredError()\n",
        "opt = tf.keras.optimizers.SGD(learning_rate=1e-3)\n",
        "\n",
        "x = tf.random.normal((N, Din))\n",
        "y = tf.random.normal((N, Dout))\n",
        "\n",
        "def step():\n",
        "    y_pred = model(x)\n",
        "    loss = loss_fn(y_pred, y)\n",
        "    losses.append(loss)\n",
        "    return loss\n",
        "\n",
        "for t in range(500):\n",
        "    opt.minimize(step, params)\n",
        "\n",
        "plt.plot(losses)"
      ],
      "metadata": {
        "colab": {
          "base_uri": "https://localhost:8080/",
          "height": 283
        },
        "id": "ibl4U_hmJwqh",
        "outputId": "f0bd63ba-d643-4d23-da5d-844a616ee123"
      },
      "execution_count": null,
      "outputs": [
        {
          "output_type": "execute_result",
          "data": {
            "text/plain": [
              "[<matplotlib.lines.Line2D at 0x7f7539f39410>]"
            ]
          },
          "metadata": {},
          "execution_count": 12
        },
        {
          "output_type": "display_data",
          "data": {
            "text/plain": [
              "<Figure size 432x288 with 1 Axes>"
            ],
            "image/png": "[encoded data removed]"
          },
          "metadata": {
            "needs_background": "light"
          }
        }
      ]
    },
    {
      "cell_type": "code",
      "source": [],
      "metadata": {
        "id": "bd1zx4V8KVXE"
      },
      "execution_count": null,
      "outputs": []
    }
  ]
}